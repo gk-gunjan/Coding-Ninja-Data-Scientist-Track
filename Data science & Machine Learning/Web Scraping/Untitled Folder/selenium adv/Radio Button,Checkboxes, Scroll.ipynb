{
 "cells": [
  {
   "cell_type": "code",
   "execution_count": 21,
   "metadata": {},
   "outputs": [],
   "source": [
    "from selenium import webdriver"
   ]
  },
  {
   "cell_type": "code",
   "execution_count": 22,
   "metadata": {},
   "outputs": [],
   "source": [
    "driver = webdriver.Chrome(executable_path = 'chromedriver')\n",
    "driver.get('https://www.toolsqa.com/automation-practice-form/')\n",
    "# btn = driver.find_element_by_name('exp')\n",
    "# print(btn.get_attribute('outerHTML'))"
   ]
  },
  {
   "cell_type": "code",
   "execution_count": 9,
   "metadata": {},
   "outputs": [],
   "source": [
    "driver = webdriver.Chrome(executable_path = '/Users/codingninjastudio/Downloads/chromedriver')\n",
    "driver.get('https://www.toolsqa.com/automation-practice-form/')\n",
    "btn = driver.find_elements_by_name('exp')\n",
    "btn[2].click()"
   ]
  },
  {
   "cell_type": "code",
   "execution_count": 11,
   "metadata": {},
   "outputs": [
    {
     "name": "stdout",
     "output_type": "stream",
     "text": [
      "True\n",
      "False\n"
     ]
    }
   ],
   "source": [
    "print(btn[2].is_selected())\n",
    "print(btn[0].is_selected())"
   ]
  },
  {
   "cell_type": "code",
   "execution_count": 12,
   "metadata": {
    "collapsed": true
   },
   "outputs": [],
   "source": [
    "btn[4].click()"
   ]
  },
  {
   "cell_type": "code",
   "execution_count": 15,
   "metadata": {},
   "outputs": [
    {
     "data": {
      "text/plain": [
       "[<selenium.webdriver.remote.webelement.WebElement (session=\"a7b804fa7059c64f609ba7015fc1bb89\", element=\"0.8767140897476811-1\")>,\n",
       " <selenium.webdriver.remote.webelement.WebElement (session=\"a7b804fa7059c64f609ba7015fc1bb89\", element=\"0.8767140897476811-2\")>]"
      ]
     },
     "execution_count": 15,
     "metadata": {},
     "output_type": "execute_result"
    }
   ],
   "source": [
    "driver = webdriver.Chrome(executable_path = '/Users/codingninjastudio/Downloads/chromedriver')\n",
    "driver.get('https://www.toolsqa.com/automation-practice-form/')\n",
    "checkboxes = driver.find_elements_by_name('profession')\n",
    "checkboxes"
   ]
  },
  {
   "cell_type": "code",
   "execution_count": 16,
   "metadata": {
    "collapsed": true
   },
   "outputs": [],
   "source": [
    "for i in checkboxes :\n",
    "    if i.get_attribute('value') == 'Automation Tester' : \n",
    "        i.click()"
   ]
  },
  {
   "cell_type": "code",
   "execution_count": 17,
   "metadata": {
    "collapsed": true
   },
   "outputs": [],
   "source": [
    "for i in checkboxes :\n",
    "    if i.is_selected() : \n",
    "        i.click()"
   ]
  },
  {
   "cell_type": "markdown",
   "metadata": {},
   "source": [
    "What values can the following return?\n",
    "driver.findelementbyid(\"buttonradio\").get_attribute(\"checked\");\n",
    "\n",
    "This will return ‘true’ if the radio button is selected. But will return NoneType if radio button is not selected."
   ]
  },
  {
   "cell_type": "markdown",
   "metadata": {},
   "source": [
    "What values can the following return?\n",
    "driver.findelementbyid(\"tellvalue\").is_selected();\n",
    "\n",
    "-True\n",
    "-False"
   ]
  },
  {
   "cell_type": "markdown",
   "metadata": {},
   "source": [
    "# Scroll"
   ]
  },
  {
   "cell_type": "code",
   "execution_count": 23,
   "metadata": {},
   "outputs": [],
   "source": [
    "driver.get('https://twitter.com/StackOverheards')"
   ]
  },
  {
   "cell_type": "code",
   "execution_count": 6,
   "metadata": {},
   "outputs": [],
   "source": [
    "driver.execute_script('window.location=\"https://www.google.com/\";')\n",
    "#visits the website"
   ]
  },
  {
   "cell_type": "code",
   "execution_count": 16,
   "metadata": {},
   "outputs": [
    {
     "data": {
      "text/plain": [
       "[<selenium.webdriver.remote.webelement.WebElement (session=\"d603891cf695a908c811d360a9beaafc\", element=\"6fb26ce4-2e3c-4ea0-b69c-0625c6b28ff0\")>,\n",
       " <selenium.webdriver.remote.webelement.WebElement (session=\"d603891cf695a908c811d360a9beaafc\", element=\"c6287d7d-13f2-4b14-984c-40a570cf9ac3\")>,\n",
       " <selenium.webdriver.remote.webelement.WebElement (session=\"d603891cf695a908c811d360a9beaafc\", element=\"f61ed727-90c7-4a5f-b257-114aeadafaa7\")>,\n",
       " <selenium.webdriver.remote.webelement.WebElement (session=\"d603891cf695a908c811d360a9beaafc\", element=\"6c10c019-63e8-4e99-ac68-a1463571628c\")>,\n",
       " <selenium.webdriver.remote.webelement.WebElement (session=\"d603891cf695a908c811d360a9beaafc\", element=\"aae35aa0-5b69-4b05-bd9d-160034239276\")>,\n",
       " <selenium.webdriver.remote.webelement.WebElement (session=\"d603891cf695a908c811d360a9beaafc\", element=\"b7ec629d-904b-45ce-ba78-803a42f3e17d\")>,\n",
       " <selenium.webdriver.remote.webelement.WebElement (session=\"d603891cf695a908c811d360a9beaafc\", element=\"2cc7e4df-265a-4650-a1fb-99a814a3dbdb\")>,\n",
       " <selenium.webdriver.remote.webelement.WebElement (session=\"d603891cf695a908c811d360a9beaafc\", element=\"643c498a-f5ea-45f0-9f95-aa0af98d6668\")>,\n",
       " <selenium.webdriver.remote.webelement.WebElement (session=\"d603891cf695a908c811d360a9beaafc\", element=\"a26b1e4b-0d61-452f-8726-29af38a13f20\")>,\n",
       " <selenium.webdriver.remote.webelement.WebElement (session=\"d603891cf695a908c811d360a9beaafc\", element=\"8128f331-bbc3-4194-a6d8-d80b6f036122\")>,\n",
       " <selenium.webdriver.remote.webelement.WebElement (session=\"d603891cf695a908c811d360a9beaafc\", element=\"f3c003c3-c58f-4e6e-8ca0-d8370ce4a5a1\")>,\n",
       " <selenium.webdriver.remote.webelement.WebElement (session=\"d603891cf695a908c811d360a9beaafc\", element=\"d670df51-8b4f-4326-8b13-b81d84aa284c\")>,\n",
       " <selenium.webdriver.remote.webelement.WebElement (session=\"d603891cf695a908c811d360a9beaafc\", element=\"a528c8cf-c00d-4849-9735-de5b81b5d485\")>,\n",
       " <selenium.webdriver.remote.webelement.WebElement (session=\"d603891cf695a908c811d360a9beaafc\", element=\"d2a285d8-136e-4f51-9878-3ddfb9bfd213\")>,\n",
       " <selenium.webdriver.remote.webelement.WebElement (session=\"d603891cf695a908c811d360a9beaafc\", element=\"3715d2c2-0a8f-494c-8882-28edfce93e09\")>,\n",
       " <selenium.webdriver.remote.webelement.WebElement (session=\"d603891cf695a908c811d360a9beaafc\", element=\"6da1ad7e-4198-4141-a190-fd8a8062ba00\")>,\n",
       " <selenium.webdriver.remote.webelement.WebElement (session=\"d603891cf695a908c811d360a9beaafc\", element=\"6fc25c50-0b1e-41cb-a76d-05808274484e\")>,\n",
       " <selenium.webdriver.remote.webelement.WebElement (session=\"d603891cf695a908c811d360a9beaafc\", element=\"52985d67-187b-444d-ba56-d0e168dff27c\")>,\n",
       " <selenium.webdriver.remote.webelement.WebElement (session=\"d603891cf695a908c811d360a9beaafc\", element=\"5cdf39a2-7456-49e4-af4c-6ec58d7ca86d\")>,\n",
       " <selenium.webdriver.remote.webelement.WebElement (session=\"d603891cf695a908c811d360a9beaafc\", element=\"ca18ab29-a18b-4373-b27e-65a930ff7bb7\")>,\n",
       " <selenium.webdriver.remote.webelement.WebElement (session=\"d603891cf695a908c811d360a9beaafc\", element=\"a7423e48-527e-44bf-8e8f-277cb4128f1b\")>,\n",
       " <selenium.webdriver.remote.webelement.WebElement (session=\"d603891cf695a908c811d360a9beaafc\", element=\"6f4a4e7c-34b0-4652-b7e1-fc9f0705a211\")>,\n",
       " <selenium.webdriver.remote.webelement.WebElement (session=\"d603891cf695a908c811d360a9beaafc\", element=\"c73f147e-e797-46ca-a64d-d9aa03e50b29\")>,\n",
       " <selenium.webdriver.remote.webelement.WebElement (session=\"d603891cf695a908c811d360a9beaafc\", element=\"e3396a6c-a8b8-4f41-8cda-988c2148153c\")>,\n",
       " <selenium.webdriver.remote.webelement.WebElement (session=\"d603891cf695a908c811d360a9beaafc\", element=\"bb3317d4-51a0-487a-90df-320d93fdb34f\")>,\n",
       " <selenium.webdriver.remote.webelement.WebElement (session=\"d603891cf695a908c811d360a9beaafc\", element=\"889dd0a9-18fa-4e4e-b0aa-19e6e72020d5\")>,\n",
       " <selenium.webdriver.remote.webelement.WebElement (session=\"d603891cf695a908c811d360a9beaafc\", element=\"faeb05c2-1ac9-47ba-b7c8-2e75b72a8384\")>,\n",
       " <selenium.webdriver.remote.webelement.WebElement (session=\"d603891cf695a908c811d360a9beaafc\", element=\"b6bc8dc4-cf6d-43e4-848a-4311a657724a\")>,\n",
       " <selenium.webdriver.remote.webelement.WebElement (session=\"d603891cf695a908c811d360a9beaafc\", element=\"6256faab-269f-4ada-b22c-9bd9799f70d9\")>,\n",
       " <selenium.webdriver.remote.webelement.WebElement (session=\"d603891cf695a908c811d360a9beaafc\", element=\"371740ee-2645-400d-8eea-d72c3142d382\")>,\n",
       " <selenium.webdriver.remote.webelement.WebElement (session=\"d603891cf695a908c811d360a9beaafc\", element=\"8de4eeba-b08c-4473-bfac-69fbfef63fd9\")>,\n",
       " <selenium.webdriver.remote.webelement.WebElement (session=\"d603891cf695a908c811d360a9beaafc\", element=\"475c76e4-318b-4510-a6d7-3db4be4567e5\")>,\n",
       " <selenium.webdriver.remote.webelement.WebElement (session=\"d603891cf695a908c811d360a9beaafc\", element=\"55088da8-23f5-4296-9c95-e91fdb548df8\")>,\n",
       " <selenium.webdriver.remote.webelement.WebElement (session=\"d603891cf695a908c811d360a9beaafc\", element=\"bf083474-a7f7-4648-b6f4-416b1b545046\")>,\n",
       " <selenium.webdriver.remote.webelement.WebElement (session=\"d603891cf695a908c811d360a9beaafc\", element=\"ebec25b4-079b-45f5-b453-2da67d94c510\")>,\n",
       " <selenium.webdriver.remote.webelement.WebElement (session=\"d603891cf695a908c811d360a9beaafc\", element=\"6c663d83-e528-4c44-8110-d788bf99209c\")>,\n",
       " <selenium.webdriver.remote.webelement.WebElement (session=\"d603891cf695a908c811d360a9beaafc\", element=\"d831b38f-450d-4d56-be58-bd37854623c8\")>,\n",
       " <selenium.webdriver.remote.webelement.WebElement (session=\"d603891cf695a908c811d360a9beaafc\", element=\"4b215f3f-5bca-459c-a802-e73549c0bc77\")>,\n",
       " <selenium.webdriver.remote.webelement.WebElement (session=\"d603891cf695a908c811d360a9beaafc\", element=\"70a0daf0-b820-4007-a489-46e79b241b2a\")>,\n",
       " <selenium.webdriver.remote.webelement.WebElement (session=\"d603891cf695a908c811d360a9beaafc\", element=\"2541fcf3-0587-4919-9da6-0e3fd8ee1571\")>,\n",
       " <selenium.webdriver.remote.webelement.WebElement (session=\"d603891cf695a908c811d360a9beaafc\", element=\"9d334949-f9b1-49d9-a35e-3dfe9010851b\")>,\n",
       " <selenium.webdriver.remote.webelement.WebElement (session=\"d603891cf695a908c811d360a9beaafc\", element=\"d2dbad2f-fef7-45be-8be0-8c1e6db83f28\")>,\n",
       " <selenium.webdriver.remote.webelement.WebElement (session=\"d603891cf695a908c811d360a9beaafc\", element=\"c45d878a-5a01-4902-ace1-88ab4cd97463\")>,\n",
       " <selenium.webdriver.remote.webelement.WebElement (session=\"d603891cf695a908c811d360a9beaafc\", element=\"bb17e43f-8186-4414-bdb7-5000f3ae74f6\")>,\n",
       " <selenium.webdriver.remote.webelement.WebElement (session=\"d603891cf695a908c811d360a9beaafc\", element=\"17700310-c85a-4689-b920-edd4c9a53d94\")>,\n",
       " <selenium.webdriver.remote.webelement.WebElement (session=\"d603891cf695a908c811d360a9beaafc\", element=\"f269523c-8766-4ef4-86c9-37bae8ebfde2\")>,\n",
       " <selenium.webdriver.remote.webelement.WebElement (session=\"d603891cf695a908c811d360a9beaafc\", element=\"c6124543-17e3-4932-a4f6-b13e1a293e5d\")>,\n",
       " <selenium.webdriver.remote.webelement.WebElement (session=\"d603891cf695a908c811d360a9beaafc\", element=\"5a77b243-d7b5-4050-aa59-fd20a51b7cb8\")>,\n",
       " <selenium.webdriver.remote.webelement.WebElement (session=\"d603891cf695a908c811d360a9beaafc\", element=\"a1901a76-65f7-4e25-bdee-7164666b76b2\")>,\n",
       " <selenium.webdriver.remote.webelement.WebElement (session=\"d603891cf695a908c811d360a9beaafc\", element=\"2253a2e2-697f-4bcc-9648-fe0abccb9889\")>,\n",
       " <selenium.webdriver.remote.webelement.WebElement (session=\"d603891cf695a908c811d360a9beaafc\", element=\"901d6f90-9701-4601-84d0-cea9a03f1d98\")>,\n",
       " <selenium.webdriver.remote.webelement.WebElement (session=\"d603891cf695a908c811d360a9beaafc\", element=\"43e7c382-f621-44d4-b056-b8a27b9c3f91\")>,\n",
       " <selenium.webdriver.remote.webelement.WebElement (session=\"d603891cf695a908c811d360a9beaafc\", element=\"ea891fec-1161-4187-9a9d-02d0e8f08bae\")>,\n",
       " <selenium.webdriver.remote.webelement.WebElement (session=\"d603891cf695a908c811d360a9beaafc\", element=\"17d9eec4-ec7e-48b2-96b4-7c5bc8001dba\")>,\n",
       " <selenium.webdriver.remote.webelement.WebElement (session=\"d603891cf695a908c811d360a9beaafc\", element=\"9e7a473a-0021-443e-a77c-b6db590d51fb\")>,\n",
       " <selenium.webdriver.remote.webelement.WebElement (session=\"d603891cf695a908c811d360a9beaafc\", element=\"82c2707e-008e-486b-9ea5-a847875095e4\")>,\n",
       " <selenium.webdriver.remote.webelement.WebElement (session=\"d603891cf695a908c811d360a9beaafc\", element=\"260dd2fa-470a-4440-811f-7d9a0ff806d8\")>,\n",
       " <selenium.webdriver.remote.webelement.WebElement (session=\"d603891cf695a908c811d360a9beaafc\", element=\"1de7dd54-63b2-4cd6-9f4b-bdd618909a81\")>,\n",
       " <selenium.webdriver.remote.webelement.WebElement (session=\"d603891cf695a908c811d360a9beaafc\", element=\"216c6100-6fc5-494e-9d28-162d82e8d0b5\")>,\n",
       " <selenium.webdriver.remote.webelement.WebElement (session=\"d603891cf695a908c811d360a9beaafc\", element=\"10d594de-a988-487b-a55f-664c08b4b77e\")>,\n",
       " <selenium.webdriver.remote.webelement.WebElement (session=\"d603891cf695a908c811d360a9beaafc\", element=\"0724aefb-b5a8-43ee-9efd-6bd4223a0e01\")>,\n",
       " <selenium.webdriver.remote.webelement.WebElement (session=\"d603891cf695a908c811d360a9beaafc\", element=\"be0538ef-22ff-4ae6-b851-501fb273df5a\")>,\n",
       " <selenium.webdriver.remote.webelement.WebElement (session=\"d603891cf695a908c811d360a9beaafc\", element=\"04975138-cb64-4fdc-a86a-60c0356793cc\")>,\n",
       " <selenium.webdriver.remote.webelement.WebElement (session=\"d603891cf695a908c811d360a9beaafc\", element=\"f7690d2a-497c-4bd4-b1d9-bb4621fbcc16\")>,\n",
       " <selenium.webdriver.remote.webelement.WebElement (session=\"d603891cf695a908c811d360a9beaafc\", element=\"ac2dc04b-e0b0-4aa1-ae7a-5adf61dd40be\")>,\n",
       " <selenium.webdriver.remote.webelement.WebElement (session=\"d603891cf695a908c811d360a9beaafc\", element=\"21667746-7ba1-4bcb-a0aa-ed5e66474a57\")>,\n",
       " <selenium.webdriver.remote.webelement.WebElement (session=\"d603891cf695a908c811d360a9beaafc\", element=\"66179efe-58ac-4db2-851c-6576aaee1d62\")>,\n",
       " <selenium.webdriver.remote.webelement.WebElement (session=\"d603891cf695a908c811d360a9beaafc\", element=\"7aa7ee18-2862-4715-8e22-830bb6fef7dd\")>,\n",
       " <selenium.webdriver.remote.webelement.WebElement (session=\"d603891cf695a908c811d360a9beaafc\", element=\"6e6fb2a5-d85f-473e-afc4-ddf6201fb6bf\")>,\n",
       " <selenium.webdriver.remote.webelement.WebElement (session=\"d603891cf695a908c811d360a9beaafc\", element=\"459873b3-67b7-431e-a8b1-a9fff5344311\")>,\n",
       " <selenium.webdriver.remote.webelement.WebElement (session=\"d603891cf695a908c811d360a9beaafc\", element=\"6c9f5b74-b3c5-4c38-971a-cffe56b6f117\")>,\n",
       " <selenium.webdriver.remote.webelement.WebElement (session=\"d603891cf695a908c811d360a9beaafc\", element=\"1df5ef38-669c-41b8-bb18-3dc425bc47de\")>,\n",
       " <selenium.webdriver.remote.webelement.WebElement (session=\"d603891cf695a908c811d360a9beaafc\", element=\"de6bcbd7-77f3-481b-801b-1d33423420fc\")>,\n",
       " <selenium.webdriver.remote.webelement.WebElement (session=\"d603891cf695a908c811d360a9beaafc\", element=\"1860c9a6-04e3-47b0-b1f1-883539f7a143\")>,\n",
       " <selenium.webdriver.remote.webelement.WebElement (session=\"d603891cf695a908c811d360a9beaafc\", element=\"2514ca76-d4de-4944-8b0b-4adec56d6ffa\")>,\n",
       " <selenium.webdriver.remote.webelement.WebElement (session=\"d603891cf695a908c811d360a9beaafc\", element=\"10fb5e13-7c84-42cf-abba-9f30566b5fc9\")>,\n",
       " <selenium.webdriver.remote.webelement.WebElement (session=\"d603891cf695a908c811d360a9beaafc\", element=\"26f7e034-d8ce-4860-908e-15733c6568f1\")>,\n",
       " <selenium.webdriver.remote.webelement.WebElement (session=\"d603891cf695a908c811d360a9beaafc\", element=\"1d9f04be-386c-49bf-b18e-9038316fdb3c\")>,\n",
       " <selenium.webdriver.remote.webelement.WebElement (session=\"d603891cf695a908c811d360a9beaafc\", element=\"9b51b7a8-6902-4aee-8268-edc819c12e34\")>,\n",
       " <selenium.webdriver.remote.webelement.WebElement (session=\"d603891cf695a908c811d360a9beaafc\", element=\"1eb1a03b-7e83-46f3-8d0b-89a486d936ec\")>,\n",
       " <selenium.webdriver.remote.webelement.WebElement (session=\"d603891cf695a908c811d360a9beaafc\", element=\"7610886a-b584-4979-976a-c1c0b3b6b252\")>,\n",
       " <selenium.webdriver.remote.webelement.WebElement (session=\"d603891cf695a908c811d360a9beaafc\", element=\"0a66ac60-ae1c-48c6-b7f4-ed6ecc8467f0\")>,\n",
       " <selenium.webdriver.remote.webelement.WebElement (session=\"d603891cf695a908c811d360a9beaafc\", element=\"eae45602-b50a-461f-bd38-fd45942bab18\")>,\n",
       " <selenium.webdriver.remote.webelement.WebElement (session=\"d603891cf695a908c811d360a9beaafc\", element=\"f696b368-7bcf-4cb7-9470-ddd8fc2a7d6a\")>,\n",
       " <selenium.webdriver.remote.webelement.WebElement (session=\"d603891cf695a908c811d360a9beaafc\", element=\"a503cd9d-965f-45a5-846c-c94fdb7415f6\")>,\n",
       " <selenium.webdriver.remote.webelement.WebElement (session=\"d603891cf695a908c811d360a9beaafc\", element=\"73e37340-974a-4a08-a324-39d12d5ae92c\")>,\n",
       " <selenium.webdriver.remote.webelement.WebElement (session=\"d603891cf695a908c811d360a9beaafc\", element=\"c26553ad-fc56-46ba-9850-1127e731ff4d\")>,\n",
       " <selenium.webdriver.remote.webelement.WebElement (session=\"d603891cf695a908c811d360a9beaafc\", element=\"4d3dc179-9970-4084-829c-58b9d7b3b029\")>,\n",
       " <selenium.webdriver.remote.webelement.WebElement (session=\"d603891cf695a908c811d360a9beaafc\", element=\"0d4632e1-9164-4365-b5c6-0bac6735fe96\")>,\n",
       " <selenium.webdriver.remote.webelement.WebElement (session=\"d603891cf695a908c811d360a9beaafc\", element=\"6911ff34-21d0-471a-9d34-1d3deb0a20b1\")>,\n",
       " <selenium.webdriver.remote.webelement.WebElement (session=\"d603891cf695a908c811d360a9beaafc\", element=\"f51c584a-55c4-4d9a-8a3f-0be2246a533b\")>,\n",
       " <selenium.webdriver.remote.webelement.WebElement (session=\"d603891cf695a908c811d360a9beaafc\", element=\"b00a6c11-ee48-4825-b159-4f1b5479e66f\")>,\n",
       " <selenium.webdriver.remote.webelement.WebElement (session=\"d603891cf695a908c811d360a9beaafc\", element=\"539dac3d-58bf-406a-8117-b525a83697ab\")>,\n",
       " <selenium.webdriver.remote.webelement.WebElement (session=\"d603891cf695a908c811d360a9beaafc\", element=\"53dd7d70-c84a-40e5-a997-94f1adcdaa1c\")>,\n",
       " <selenium.webdriver.remote.webelement.WebElement (session=\"d603891cf695a908c811d360a9beaafc\", element=\"e0c2c808-b30a-42bf-ac16-68b37a5f9c7e\")>,\n",
       " <selenium.webdriver.remote.webelement.WebElement (session=\"d603891cf695a908c811d360a9beaafc\", element=\"c9960b2e-afa6-4df5-bb01-4bcd99ca9b41\")>,\n",
       " <selenium.webdriver.remote.webelement.WebElement (session=\"d603891cf695a908c811d360a9beaafc\", element=\"b836d3eb-ee2f-4f8c-8cfb-02df1e28d62e\")>,\n",
       " <selenium.webdriver.remote.webelement.WebElement (session=\"d603891cf695a908c811d360a9beaafc\", element=\"28681de4-26e1-4c5e-b890-b068e074f55e\")>,\n",
       " <selenium.webdriver.remote.webelement.WebElement (session=\"d603891cf695a908c811d360a9beaafc\", element=\"c9adaf16-83cc-4ce0-9e09-b5dfc36b0bea\")>,\n",
       " <selenium.webdriver.remote.webelement.WebElement (session=\"d603891cf695a908c811d360a9beaafc\", element=\"407744bc-e570-4cbe-b53f-3273ffbc30ab\")>,\n",
       " <selenium.webdriver.remote.webelement.WebElement (session=\"d603891cf695a908c811d360a9beaafc\", element=\"66a52627-e0a9-4fd9-828a-3704b40a1084\")>,\n",
       " <selenium.webdriver.remote.webelement.WebElement (session=\"d603891cf695a908c811d360a9beaafc\", element=\"ce6933bb-7744-4226-9152-6f335888a390\")>,\n",
       " <selenium.webdriver.remote.webelement.WebElement (session=\"d603891cf695a908c811d360a9beaafc\", element=\"a6b30970-e7cd-4392-bf9a-9966107d444a\")>,\n",
       " <selenium.webdriver.remote.webelement.WebElement (session=\"d603891cf695a908c811d360a9beaafc\", element=\"aa246100-3ec2-43d5-ae70-e333c26f8803\")>,\n",
       " <selenium.webdriver.remote.webelement.WebElement (session=\"d603891cf695a908c811d360a9beaafc\", element=\"47f48186-605d-4bc7-9963-2d60cace718b\")>,\n",
       " <selenium.webdriver.remote.webelement.WebElement (session=\"d603891cf695a908c811d360a9beaafc\", element=\"5c3f4dd5-ac51-44a6-b0ac-a0712f623b9d\")>,\n",
       " <selenium.webdriver.remote.webelement.WebElement (session=\"d603891cf695a908c811d360a9beaafc\", element=\"8c4963e0-31b3-48b0-b55b-7fcb071b414f\")>,\n",
       " <selenium.webdriver.remote.webelement.WebElement (session=\"d603891cf695a908c811d360a9beaafc\", element=\"30f5e4e1-6c6b-41ef-8ff6-e879aa171ce0\")>,\n",
       " <selenium.webdriver.remote.webelement.WebElement (session=\"d603891cf695a908c811d360a9beaafc\", element=\"f0a5666f-1ef4-4c11-8f88-eceb96ee1ca8\")>,\n",
       " <selenium.webdriver.remote.webelement.WebElement (session=\"d603891cf695a908c811d360a9beaafc\", element=\"68df721d-6919-421a-8502-d75d13168c1f\")>,\n",
       " <selenium.webdriver.remote.webelement.WebElement (session=\"d603891cf695a908c811d360a9beaafc\", element=\"64408633-a5ed-4b40-b6be-81099169b382\")>]"
      ]
     },
     "execution_count": 16,
     "metadata": {},
     "output_type": "execute_result"
    }
   ],
   "source": [
    "driver.execute_script('return document.getElementsByClassName(\"css-901oao css-16my406 r-1qd0xha r-ad9z0x r-bcqeeo r-qvutc0\");')"
   ]
  },
  {
   "cell_type": "code",
   "execution_count": 17,
   "metadata": {},
   "outputs": [
    {
     "data": {
      "text/plain": [
       "[]"
      ]
     },
     "execution_count": 17,
     "metadata": {},
     "output_type": "execute_result"
    }
   ],
   "source": [
    "driver.find_elements_by_class_name('css-901oao css-16my406 r-1qd0xha r-ad9z0x r-bcqeeo r-qvutc0')"
   ]
  },
  {
   "cell_type": "code",
   "execution_count": 25,
   "metadata": {},
   "outputs": [],
   "source": [
    "import timedriver.execute_script('window.scrollBy(0,1000);') #pixels"
   ]
  },
  {
   "cell_type": "code",
   "execution_count": 28,
   "metadata": {},
   "outputs": [],
   "source": [
    "import time\n",
    "for i in range(5):\n",
    "    driver.execute_script('window.scrollBy(0,1000);') #pixels\n",
    "    time.sleep(3)"
   ]
  },
  {
   "cell_type": "code",
   "execution_count": null,
   "metadata": {},
   "outputs": [],
   "source": [
    "driver.execute_script('window.scrollBy(0,-1000);')"
   ]
  }
 ],
 "metadata": {
  "kernelspec": {
   "display_name": "Python 3",
   "language": "python",
   "name": "python3"
  },
  "language_info": {
   "codemirror_mode": {
    "name": "ipython",
    "version": 3
   },
   "file_extension": ".py",
   "mimetype": "text/x-python",
   "name": "python",
   "nbconvert_exporter": "python",
   "pygments_lexer": "ipython3",
   "version": "3.8.2"
  }
 },
 "nbformat": 4,
 "nbformat_minor": 2
}
