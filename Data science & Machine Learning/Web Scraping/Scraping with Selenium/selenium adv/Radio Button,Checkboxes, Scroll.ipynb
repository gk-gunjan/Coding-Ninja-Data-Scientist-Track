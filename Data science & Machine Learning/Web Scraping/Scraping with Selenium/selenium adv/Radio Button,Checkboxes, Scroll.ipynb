{
 "cells": [
  {
   "cell_type": "code",
   "execution_count": 5,
   "metadata": {},
   "outputs": [],
   "source": [
    "from selenium import webdriver"
   ]
  },
  {
   "cell_type": "code",
   "execution_count": 6,
   "metadata": {},
   "outputs": [],
   "source": [
    "driver = webdriver.Chrome(executable_path = 'chromedriver')\n",
    "driver.get('https://www.toolsqa.com/automation-practice-form/')\n",
    "# btn = driver.find_element_by_name('exp')\n",
    "# print(btn.get_attribute('outerHTML'))  "
   ]
  },
  {
   "cell_type": "code",
   "execution_count": 9,
   "metadata": {},
   "outputs": [],
   "source": [
    "driver = webdriver.Chrome(executable_path = '/Users/codingninjastudio/Downloads/chromedriver')\n",
    "driver.get('https://www.toolsqa.com/automation-practice-form/')\n",
    "btn = driver.find_elements_by_name('exp')\n",
    "btn[2].click()"
   ]
  },
  {
   "cell_type": "code",
   "execution_count": 11,
   "metadata": {},
   "outputs": [
    {
     "name": "stdout",
     "output_type": "stream",
     "text": [
      "True\n",
      "False\n"
     ]
    }
   ],
   "source": [
    "print(btn[2].is_selected())\n",
    "print(btn[0].is_selected())"
   ]
  },
  {
   "cell_type": "code",
   "execution_count": 12,
   "metadata": {
    "collapsed": true
   },
   "outputs": [],
   "source": [
    "btn[4].click()"
   ]
  },
  {
   "cell_type": "code",
   "execution_count": 15,
   "metadata": {},
   "outputs": [
    {
     "data": {
      "text/plain": [
       "[<selenium.webdriver.remote.webelement.WebElement (session=\"a7b804fa7059c64f609ba7015fc1bb89\", element=\"0.8767140897476811-1\")>,\n",
       " <selenium.webdriver.remote.webelement.WebElement (session=\"a7b804fa7059c64f609ba7015fc1bb89\", element=\"0.8767140897476811-2\")>]"
      ]
     },
     "execution_count": 15,
     "metadata": {},
     "output_type": "execute_result"
    }
   ],
   "source": [
    "driver = webdriver.Chrome(executable_path = '/Users/codingninjastudio/Downloads/chromedriver')\n",
    "driver.get('https://www.toolsqa.com/automation-practice-form/')\n",
    "checkboxes = driver.find_elements_by_name('profession')\n",
    "checkboxes"
   ]
  },
  {
   "cell_type": "code",
   "execution_count": 16,
   "metadata": {
    "collapsed": true
   },
   "outputs": [],
   "source": [
    "for i in checkboxes :\n",
    "    if i.get_attribute('value') == 'Automation Tester' : \n",
    "        i.click()"
   ]
  },
  {
   "cell_type": "code",
   "execution_count": 17,
   "metadata": {
    "collapsed": true
   },
   "outputs": [],
   "source": [
    "for i in checkboxes :\n",
    "    if i.is_selected() : \n",
    "        i.click()"
   ]
  },
  {
   "cell_type": "markdown",
   "metadata": {},
   "source": [
    "What values can the following return?\n",
    "driver.findelementbyid(\"buttonradio\").get_attribute(\"checked\");\n",
    "\n",
    "This will return ‘true’ if the radio button is selected. But will return NoneType if radio button is not selected."
   ]
  },
  {
   "cell_type": "markdown",
   "metadata": {},
   "source": [
    "What values can the following return?\n",
    "driver.findelementbyid(\"tellvalue\").is_selected();\n",
    "\n",
    "-True\n",
    "-False"
   ]
  },
  {
   "cell_type": "markdown",
   "metadata": {},
   "source": [
    "# Scroll\n",
    "\n",
    "-scrollBy () -> Javascript functions helps in scrolling by a specific number of pixels\n",
    "\n",
    "-scrollto"
   ]
  },
  {
   "cell_type": "code",
   "execution_count": 10,
   "metadata": {},
   "outputs": [],
   "source": [
    "driver.get('https://twitter.com/StackOverheards')"
   ]
  },
  {
   "cell_type": "code",
   "execution_count": 8,
   "metadata": {},
   "outputs": [],
   "source": [
    "driver.execute_script('window.location=\"https://www.google.com/\";')\n",
    "#visits the website"
   ]
  },
  {
   "cell_type": "code",
   "execution_count": 11,
   "metadata": {},
   "outputs": [
    {
     "data": {
      "text/plain": [
       "[<selenium.webdriver.remote.webelement.WebElement (session=\"5186d8014d7f959ac87aba8833a83266\", element=\"e3e6f9ba-dd3d-4f8e-9855-dd18fb015bb3\")>,\n",
       " <selenium.webdriver.remote.webelement.WebElement (session=\"5186d8014d7f959ac87aba8833a83266\", element=\"bb363e94-d89e-43be-89e7-b32ed81ffdfa\")>,\n",
       " <selenium.webdriver.remote.webelement.WebElement (session=\"5186d8014d7f959ac87aba8833a83266\", element=\"828b9415-bd15-46d8-8378-ac8cb0ee0cc5\")>,\n",
       " <selenium.webdriver.remote.webelement.WebElement (session=\"5186d8014d7f959ac87aba8833a83266\", element=\"d6c1bfec-e01a-4279-b187-586143bb655f\")>,\n",
       " <selenium.webdriver.remote.webelement.WebElement (session=\"5186d8014d7f959ac87aba8833a83266\", element=\"723fe498-fa73-46f7-8699-d435b58c593f\")>,\n",
       " <selenium.webdriver.remote.webelement.WebElement (session=\"5186d8014d7f959ac87aba8833a83266\", element=\"e69e3514-2b95-4bf4-a252-e1f2973c6f18\")>,\n",
       " <selenium.webdriver.remote.webelement.WebElement (session=\"5186d8014d7f959ac87aba8833a83266\", element=\"a51c3278-aa17-4763-b19d-98ec5693d303\")>,\n",
       " <selenium.webdriver.remote.webelement.WebElement (session=\"5186d8014d7f959ac87aba8833a83266\", element=\"59d9dca1-5daf-4c01-bb53-b51e86d09bbb\")>,\n",
       " <selenium.webdriver.remote.webelement.WebElement (session=\"5186d8014d7f959ac87aba8833a83266\", element=\"8277ef6c-a827-4649-a53f-33203acc2602\")>,\n",
       " <selenium.webdriver.remote.webelement.WebElement (session=\"5186d8014d7f959ac87aba8833a83266\", element=\"b023c8c5-6f3f-4d5a-9507-648e59dcbab8\")>,\n",
       " <selenium.webdriver.remote.webelement.WebElement (session=\"5186d8014d7f959ac87aba8833a83266\", element=\"733b60e3-9169-41e5-a288-f1a2c30c5541\")>,\n",
       " <selenium.webdriver.remote.webelement.WebElement (session=\"5186d8014d7f959ac87aba8833a83266\", element=\"71964c3a-fab8-44ea-a1da-fb79d5f71d69\")>,\n",
       " <selenium.webdriver.remote.webelement.WebElement (session=\"5186d8014d7f959ac87aba8833a83266\", element=\"f5fa7e2e-c79c-4810-a6e0-0dea92188210\")>,\n",
       " <selenium.webdriver.remote.webelement.WebElement (session=\"5186d8014d7f959ac87aba8833a83266\", element=\"19a06d6e-dc63-497c-a867-6f1bffeaa7f6\")>,\n",
       " <selenium.webdriver.remote.webelement.WebElement (session=\"5186d8014d7f959ac87aba8833a83266\", element=\"8cf4f564-aeaf-41db-b50b-9c10a35cdbe9\")>,\n",
       " <selenium.webdriver.remote.webelement.WebElement (session=\"5186d8014d7f959ac87aba8833a83266\", element=\"db1d2a7c-db67-4d91-9a64-a0129b2ceed1\")>,\n",
       " <selenium.webdriver.remote.webelement.WebElement (session=\"5186d8014d7f959ac87aba8833a83266\", element=\"b0e17848-8920-4465-8073-62fe6ad2f496\")>,\n",
       " <selenium.webdriver.remote.webelement.WebElement (session=\"5186d8014d7f959ac87aba8833a83266\", element=\"85399d38-673a-40cc-b10f-f5bd411f2528\")>,\n",
       " <selenium.webdriver.remote.webelement.WebElement (session=\"5186d8014d7f959ac87aba8833a83266\", element=\"4d76834c-7546-49dd-a89b-759ad6dfde74\")>,\n",
       " <selenium.webdriver.remote.webelement.WebElement (session=\"5186d8014d7f959ac87aba8833a83266\", element=\"fa222159-7b1d-4876-8c73-1ceb67d27d7b\")>,\n",
       " <selenium.webdriver.remote.webelement.WebElement (session=\"5186d8014d7f959ac87aba8833a83266\", element=\"aa2fc5d7-9329-4e40-a7c9-1351914bb238\")>,\n",
       " <selenium.webdriver.remote.webelement.WebElement (session=\"5186d8014d7f959ac87aba8833a83266\", element=\"d82825e8-3b61-4c4a-a874-462e22cd3909\")>,\n",
       " <selenium.webdriver.remote.webelement.WebElement (session=\"5186d8014d7f959ac87aba8833a83266\", element=\"e36221e2-a321-4ea4-b6a1-c0e2653abbfe\")>,\n",
       " <selenium.webdriver.remote.webelement.WebElement (session=\"5186d8014d7f959ac87aba8833a83266\", element=\"03b4d23a-7977-4b0a-add6-ce09097f5a6d\")>,\n",
       " <selenium.webdriver.remote.webelement.WebElement (session=\"5186d8014d7f959ac87aba8833a83266\", element=\"01aea214-7b56-4d80-9ae6-cc8b0ff3928e\")>,\n",
       " <selenium.webdriver.remote.webelement.WebElement (session=\"5186d8014d7f959ac87aba8833a83266\", element=\"7a3ce6f5-9811-4911-80d1-e81a372e49e0\")>,\n",
       " <selenium.webdriver.remote.webelement.WebElement (session=\"5186d8014d7f959ac87aba8833a83266\", element=\"4d07d588-fecd-4232-90b3-f247e03bb872\")>,\n",
       " <selenium.webdriver.remote.webelement.WebElement (session=\"5186d8014d7f959ac87aba8833a83266\", element=\"f3b1bd3a-bc8d-4544-abfd-88c1a1424797\")>,\n",
       " <selenium.webdriver.remote.webelement.WebElement (session=\"5186d8014d7f959ac87aba8833a83266\", element=\"18fa2459-ed8c-40b8-8641-0081f651cfd0\")>,\n",
       " <selenium.webdriver.remote.webelement.WebElement (session=\"5186d8014d7f959ac87aba8833a83266\", element=\"786b84e4-a187-407f-a6c5-66d69d277b09\")>,\n",
       " <selenium.webdriver.remote.webelement.WebElement (session=\"5186d8014d7f959ac87aba8833a83266\", element=\"9f06960a-39fa-4c7f-bcff-7a58b2e87c0c\")>,\n",
       " <selenium.webdriver.remote.webelement.WebElement (session=\"5186d8014d7f959ac87aba8833a83266\", element=\"2731d6d2-1e74-4308-ac14-d2f88e67b30d\")>,\n",
       " <selenium.webdriver.remote.webelement.WebElement (session=\"5186d8014d7f959ac87aba8833a83266\", element=\"175c8388-eee9-4b12-a7ea-f80b76d8467a\")>,\n",
       " <selenium.webdriver.remote.webelement.WebElement (session=\"5186d8014d7f959ac87aba8833a83266\", element=\"1780ea8f-0a15-483e-89bf-1eb0b6a33c86\")>,\n",
       " <selenium.webdriver.remote.webelement.WebElement (session=\"5186d8014d7f959ac87aba8833a83266\", element=\"a2c6e9b4-4904-456c-8030-07426897a8f1\")>,\n",
       " <selenium.webdriver.remote.webelement.WebElement (session=\"5186d8014d7f959ac87aba8833a83266\", element=\"9d90bd39-151f-4da2-8349-3b4e0f274455\")>,\n",
       " <selenium.webdriver.remote.webelement.WebElement (session=\"5186d8014d7f959ac87aba8833a83266\", element=\"5358762b-df0f-4e81-a8bb-410da8a0d48b\")>,\n",
       " <selenium.webdriver.remote.webelement.WebElement (session=\"5186d8014d7f959ac87aba8833a83266\", element=\"7dabca20-b8f2-4b79-84d6-667949eaa027\")>,\n",
       " <selenium.webdriver.remote.webelement.WebElement (session=\"5186d8014d7f959ac87aba8833a83266\", element=\"8c774b9a-5774-4320-a274-d4b0cbe131b1\")>,\n",
       " <selenium.webdriver.remote.webelement.WebElement (session=\"5186d8014d7f959ac87aba8833a83266\", element=\"3f1cf394-1b08-444a-bb66-852edb910363\")>]"
      ]
     },
     "execution_count": 11,
     "metadata": {},
     "output_type": "execute_result"
    }
   ],
   "source": [
    "driver.execute_script('return document.getElementsByClassName(\"css-901oao css-16my406 r-1qd0xha r-ad9z0x r-bcqeeo r-qvutc0\");')"
   ]
  },
  {
   "cell_type": "code",
   "execution_count": 12,
   "metadata": {},
   "outputs": [
    {
     "data": {
      "text/plain": [
       "[]"
      ]
     },
     "execution_count": 12,
     "metadata": {},
     "output_type": "execute_result"
    }
   ],
   "source": [
    "driver.find_elements_by_class_name('css-901oao css-16my406 r-1qd0xha r-ad9z0x r-bcqeeo r-qvutc0')"
   ]
  },
  {
   "cell_type": "code",
   "execution_count": 15,
   "metadata": {},
   "outputs": [
    {
     "ename": "SyntaxError",
     "evalue": "invalid syntax (<ipython-input-15-b2751f932b1b>, line 1)",
     "output_type": "error",
     "traceback": [
      "\u001b[1;36m  File \u001b[1;32m\"<ipython-input-15-b2751f932b1b>\"\u001b[1;36m, line \u001b[1;32m1\u001b[0m\n\u001b[1;33m    import timedriver.execute_script('window.scrollBy(0,1000);')\u001b[0m\n\u001b[1;37m                                    ^\u001b[0m\n\u001b[1;31mSyntaxError\u001b[0m\u001b[1;31m:\u001b[0m invalid syntax\n"
     ]
    }
   ],
   "source": [
    "import timedriver.execute_script('window.scrollBy(0,1000);') \n",
    "#pixels"
   ]
  },
  {
   "cell_type": "code",
   "execution_count": 16,
   "metadata": {},
   "outputs": [],
   "source": [
    "import time\n",
    "for i in range(5):\n",
    "    driver.execute_script('window.scrollBy(0,1000);') #pixels\n",
    "    time.sleep(3)"
   ]
  },
  {
   "cell_type": "code",
   "execution_count": 18,
   "metadata": {},
   "outputs": [],
   "source": [
    "driver.execute_script('window.scrollBy(0,-1000);')"
   ]
  },
  {
   "cell_type": "markdown",
   "metadata": {},
   "source": [
    "Which of the following function is used to Synchronously execute any javascript in the current page?\n",
    "-execute_script"
   ]
  },
  {
   "cell_type": "markdown",
   "metadata": {},
   "source": [
    "Which of the following Javascript function helps in scrolling until a particular element is in fully visible?\n",
    "\n",
    "-scrollIntoView()"
   ]
  },
  {
   "cell_type": "markdown",
   "metadata": {},
   "source": [
    "## Quora"
   ]
  },
  {
   "cell_type": "code",
   "execution_count": 19,
   "metadata": {},
   "outputs": [],
   "source": [
    "from selenium.webdriver.common.keys import Keys"
   ]
  },
  {
   "cell_type": "code",
   "execution_count": 20,
   "metadata": {},
   "outputs": [],
   "source": [
    "driver.get('https://www.quora.com/')"
   ]
  },
  {
   "cell_type": "code",
   "execution_count": 10,
   "metadata": {},
   "outputs": [],
   "source": [
    "driver.execute_script('window.location=\"https://www.quora.com/\";')\n",
    "#visits the website"
   ]
  },
  {
   "cell_type": "code",
   "execution_count": 11,
   "metadata": {},
   "outputs": [],
   "source": [
    "s=driver.find_element_by_xpath('//input[@class= \"q-input qu-fontSize--small qu-lineHeight--regular TextInput___StyledInput-sc-9srrla-0 kxQIWW puppeteer_test_selector_input qu-ellipsis\"]')"
   ]
  },
  {
   "cell_type": "code",
   "execution_count": 12,
   "metadata": {},
   "outputs": [
    {
     "data": {
      "text/plain": [
       "'<input class=\"q-input qu-fontSize--small qu-lineHeight--regular TextInput___StyledInput-sc-9srrla-0 kxQIWW puppeteer_test_selector_input qu-ellipsis\" type=\"text\" width=\"100%\" placeholder=\"Search Quora\" autocomplete=\"chrome-off\" value=\"\" style=\"box-sizing: border-box; direction: ltr; width: 100%; box-shadow: none; background-color: transparent; padding: 0px; min-height: 26px; height: unset; outline: none; border: none; flex: 1 1 0%;\">'"
      ]
     },
     "execution_count": 12,
     "metadata": {},
     "output_type": "execute_result"
    }
   ],
   "source": [
    "s.get_attribute(\"outerHTML\")"
   ]
  },
  {
   "cell_type": "code",
   "execution_count": 13,
   "metadata": {},
   "outputs": [],
   "source": [
    "s.send_keys(\"Avengers\")"
   ]
  },
  {
   "cell_type": "code",
   "execution_count": 14,
   "metadata": {},
   "outputs": [],
   "source": [
    "s.send_keys(Keys.ENTER)"
   ]
  },
  {
   "cell_type": "code",
   "execution_count": 17,
   "metadata": {},
   "outputs": [],
   "source": [
    "import time\n",
    "ques=[]\n",
    "for i in range(4):\n",
    "    x=driver.execute_script('return document.getElementsByClassName(\"ui_qtext_rendered_qtext\");')\n",
    "    ques.append(x)\n",
    "    driver.execute_script('window.scrollBy(0,1000);') \n",
    "    time.sleep(3)"
   ]
  },
  {
   "cell_type": "code",
   "execution_count": 18,
   "metadata": {},
   "outputs": [
    {
     "data": {
      "text/plain": [
       "4"
      ]
     },
     "execution_count": 18,
     "metadata": {},
     "output_type": "execute_result"
    }
   ],
   "source": [
    "len(ques)"
   ]
  },
  {
   "cell_type": "code",
   "execution_count": 19,
   "metadata": {},
   "outputs": [
    {
     "data": {
      "text/plain": [
       "[[<selenium.webdriver.remote.webelement.WebElement (session=\"3c9869e8bf0b94c50d197d6f3b6ec4e9\", element=\"d6a5ad85-5e5c-4dc5-9537-694a65ff0928\")>,\n",
       "  <selenium.webdriver.remote.webelement.WebElement (session=\"3c9869e8bf0b94c50d197d6f3b6ec4e9\", element=\"d5add681-77ba-43b7-bb09-bdad53c43756\")>,\n",
       "  <selenium.webdriver.remote.webelement.WebElement (session=\"3c9869e8bf0b94c50d197d6f3b6ec4e9\", element=\"24fcd256-3482-4984-b785-367416a2acaf\")>,\n",
       "  <selenium.webdriver.remote.webelement.WebElement (session=\"3c9869e8bf0b94c50d197d6f3b6ec4e9\", element=\"1c8585ba-58ee-4f59-8d7b-2f4f6dc7a1d9\")>,\n",
       "  <selenium.webdriver.remote.webelement.WebElement (session=\"3c9869e8bf0b94c50d197d6f3b6ec4e9\", element=\"b98b1789-74ed-4144-80d3-230a838d75ac\")>,\n",
       "  <selenium.webdriver.remote.webelement.WebElement (session=\"3c9869e8bf0b94c50d197d6f3b6ec4e9\", element=\"0193b151-3006-4a9c-9a50-6f50242d7fca\")>,\n",
       "  <selenium.webdriver.remote.webelement.WebElement (session=\"3c9869e8bf0b94c50d197d6f3b6ec4e9\", element=\"1db4c6b6-26df-4893-9e1c-9782f6829ff9\")>,\n",
       "  <selenium.webdriver.remote.webelement.WebElement (session=\"3c9869e8bf0b94c50d197d6f3b6ec4e9\", element=\"7e24379c-a180-4735-b7ca-c295f64397ea\")>,\n",
       "  <selenium.webdriver.remote.webelement.WebElement (session=\"3c9869e8bf0b94c50d197d6f3b6ec4e9\", element=\"5a327d22-cca1-4799-ade7-26868c02d779\")>],\n",
       " [<selenium.webdriver.remote.webelement.WebElement (session=\"3c9869e8bf0b94c50d197d6f3b6ec4e9\", element=\"d6a5ad85-5e5c-4dc5-9537-694a65ff0928\")>,\n",
       "  <selenium.webdriver.remote.webelement.WebElement (session=\"3c9869e8bf0b94c50d197d6f3b6ec4e9\", element=\"d5add681-77ba-43b7-bb09-bdad53c43756\")>,\n",
       "  <selenium.webdriver.remote.webelement.WebElement (session=\"3c9869e8bf0b94c50d197d6f3b6ec4e9\", element=\"24fcd256-3482-4984-b785-367416a2acaf\")>,\n",
       "  <selenium.webdriver.remote.webelement.WebElement (session=\"3c9869e8bf0b94c50d197d6f3b6ec4e9\", element=\"1c8585ba-58ee-4f59-8d7b-2f4f6dc7a1d9\")>,\n",
       "  <selenium.webdriver.remote.webelement.WebElement (session=\"3c9869e8bf0b94c50d197d6f3b6ec4e9\", element=\"b98b1789-74ed-4144-80d3-230a838d75ac\")>,\n",
       "  <selenium.webdriver.remote.webelement.WebElement (session=\"3c9869e8bf0b94c50d197d6f3b6ec4e9\", element=\"0193b151-3006-4a9c-9a50-6f50242d7fca\")>,\n",
       "  <selenium.webdriver.remote.webelement.WebElement (session=\"3c9869e8bf0b94c50d197d6f3b6ec4e9\", element=\"1db4c6b6-26df-4893-9e1c-9782f6829ff9\")>,\n",
       "  <selenium.webdriver.remote.webelement.WebElement (session=\"3c9869e8bf0b94c50d197d6f3b6ec4e9\", element=\"7e24379c-a180-4735-b7ca-c295f64397ea\")>,\n",
       "  <selenium.webdriver.remote.webelement.WebElement (session=\"3c9869e8bf0b94c50d197d6f3b6ec4e9\", element=\"5a327d22-cca1-4799-ade7-26868c02d779\")>],\n",
       " [<selenium.webdriver.remote.webelement.WebElement (session=\"3c9869e8bf0b94c50d197d6f3b6ec4e9\", element=\"d6a5ad85-5e5c-4dc5-9537-694a65ff0928\")>,\n",
       "  <selenium.webdriver.remote.webelement.WebElement (session=\"3c9869e8bf0b94c50d197d6f3b6ec4e9\", element=\"d5add681-77ba-43b7-bb09-bdad53c43756\")>,\n",
       "  <selenium.webdriver.remote.webelement.WebElement (session=\"3c9869e8bf0b94c50d197d6f3b6ec4e9\", element=\"24fcd256-3482-4984-b785-367416a2acaf\")>,\n",
       "  <selenium.webdriver.remote.webelement.WebElement (session=\"3c9869e8bf0b94c50d197d6f3b6ec4e9\", element=\"1c8585ba-58ee-4f59-8d7b-2f4f6dc7a1d9\")>,\n",
       "  <selenium.webdriver.remote.webelement.WebElement (session=\"3c9869e8bf0b94c50d197d6f3b6ec4e9\", element=\"b98b1789-74ed-4144-80d3-230a838d75ac\")>,\n",
       "  <selenium.webdriver.remote.webelement.WebElement (session=\"3c9869e8bf0b94c50d197d6f3b6ec4e9\", element=\"0193b151-3006-4a9c-9a50-6f50242d7fca\")>,\n",
       "  <selenium.webdriver.remote.webelement.WebElement (session=\"3c9869e8bf0b94c50d197d6f3b6ec4e9\", element=\"1db4c6b6-26df-4893-9e1c-9782f6829ff9\")>,\n",
       "  <selenium.webdriver.remote.webelement.WebElement (session=\"3c9869e8bf0b94c50d197d6f3b6ec4e9\", element=\"7e24379c-a180-4735-b7ca-c295f64397ea\")>,\n",
       "  <selenium.webdriver.remote.webelement.WebElement (session=\"3c9869e8bf0b94c50d197d6f3b6ec4e9\", element=\"5a327d22-cca1-4799-ade7-26868c02d779\")>,\n",
       "  <selenium.webdriver.remote.webelement.WebElement (session=\"3c9869e8bf0b94c50d197d6f3b6ec4e9\", element=\"536d13ba-0e69-4c8a-a053-9fe940b3d8db\")>,\n",
       "  <selenium.webdriver.remote.webelement.WebElement (session=\"3c9869e8bf0b94c50d197d6f3b6ec4e9\", element=\"c94beb92-c460-4c01-b66e-64b37ef78427\")>,\n",
       "  <selenium.webdriver.remote.webelement.WebElement (session=\"3c9869e8bf0b94c50d197d6f3b6ec4e9\", element=\"126d9d6e-3caa-4543-9912-45c5603d72a1\")>,\n",
       "  <selenium.webdriver.remote.webelement.WebElement (session=\"3c9869e8bf0b94c50d197d6f3b6ec4e9\", element=\"99a320f5-48a2-41d2-a235-2a021f5dedbf\")>,\n",
       "  <selenium.webdriver.remote.webelement.WebElement (session=\"3c9869e8bf0b94c50d197d6f3b6ec4e9\", element=\"89cc5cec-c3d4-4d48-ac04-eab511295da8\")>,\n",
       "  <selenium.webdriver.remote.webelement.WebElement (session=\"3c9869e8bf0b94c50d197d6f3b6ec4e9\", element=\"7a4e0efe-3f82-4f4b-bc75-2337707635a5\")>,\n",
       "  <selenium.webdriver.remote.webelement.WebElement (session=\"3c9869e8bf0b94c50d197d6f3b6ec4e9\", element=\"fff6f6a5-1f6b-4db2-b567-d9176244eaf2\")>,\n",
       "  <selenium.webdriver.remote.webelement.WebElement (session=\"3c9869e8bf0b94c50d197d6f3b6ec4e9\", element=\"d4c66e38-b034-48cb-9048-506dfc3dd1b7\")>,\n",
       "  <selenium.webdriver.remote.webelement.WebElement (session=\"3c9869e8bf0b94c50d197d6f3b6ec4e9\", element=\"e2be7c98-b5b6-4470-a9cf-b03286b521c2\")>,\n",
       "  <selenium.webdriver.remote.webelement.WebElement (session=\"3c9869e8bf0b94c50d197d6f3b6ec4e9\", element=\"db8a1512-d8e7-4250-92d9-4403a6dce9ac\")>],\n",
       " [<selenium.webdriver.remote.webelement.WebElement (session=\"3c9869e8bf0b94c50d197d6f3b6ec4e9\", element=\"d6a5ad85-5e5c-4dc5-9537-694a65ff0928\")>,\n",
       "  <selenium.webdriver.remote.webelement.WebElement (session=\"3c9869e8bf0b94c50d197d6f3b6ec4e9\", element=\"d5add681-77ba-43b7-bb09-bdad53c43756\")>,\n",
       "  <selenium.webdriver.remote.webelement.WebElement (session=\"3c9869e8bf0b94c50d197d6f3b6ec4e9\", element=\"24fcd256-3482-4984-b785-367416a2acaf\")>,\n",
       "  <selenium.webdriver.remote.webelement.WebElement (session=\"3c9869e8bf0b94c50d197d6f3b6ec4e9\", element=\"1c8585ba-58ee-4f59-8d7b-2f4f6dc7a1d9\")>,\n",
       "  <selenium.webdriver.remote.webelement.WebElement (session=\"3c9869e8bf0b94c50d197d6f3b6ec4e9\", element=\"b98b1789-74ed-4144-80d3-230a838d75ac\")>,\n",
       "  <selenium.webdriver.remote.webelement.WebElement (session=\"3c9869e8bf0b94c50d197d6f3b6ec4e9\", element=\"0193b151-3006-4a9c-9a50-6f50242d7fca\")>,\n",
       "  <selenium.webdriver.remote.webelement.WebElement (session=\"3c9869e8bf0b94c50d197d6f3b6ec4e9\", element=\"1db4c6b6-26df-4893-9e1c-9782f6829ff9\")>,\n",
       "  <selenium.webdriver.remote.webelement.WebElement (session=\"3c9869e8bf0b94c50d197d6f3b6ec4e9\", element=\"7e24379c-a180-4735-b7ca-c295f64397ea\")>,\n",
       "  <selenium.webdriver.remote.webelement.WebElement (session=\"3c9869e8bf0b94c50d197d6f3b6ec4e9\", element=\"5a327d22-cca1-4799-ade7-26868c02d779\")>,\n",
       "  <selenium.webdriver.remote.webelement.WebElement (session=\"3c9869e8bf0b94c50d197d6f3b6ec4e9\", element=\"536d13ba-0e69-4c8a-a053-9fe940b3d8db\")>,\n",
       "  <selenium.webdriver.remote.webelement.WebElement (session=\"3c9869e8bf0b94c50d197d6f3b6ec4e9\", element=\"c94beb92-c460-4c01-b66e-64b37ef78427\")>,\n",
       "  <selenium.webdriver.remote.webelement.WebElement (session=\"3c9869e8bf0b94c50d197d6f3b6ec4e9\", element=\"126d9d6e-3caa-4543-9912-45c5603d72a1\")>,\n",
       "  <selenium.webdriver.remote.webelement.WebElement (session=\"3c9869e8bf0b94c50d197d6f3b6ec4e9\", element=\"99a320f5-48a2-41d2-a235-2a021f5dedbf\")>,\n",
       "  <selenium.webdriver.remote.webelement.WebElement (session=\"3c9869e8bf0b94c50d197d6f3b6ec4e9\", element=\"89cc5cec-c3d4-4d48-ac04-eab511295da8\")>,\n",
       "  <selenium.webdriver.remote.webelement.WebElement (session=\"3c9869e8bf0b94c50d197d6f3b6ec4e9\", element=\"7a4e0efe-3f82-4f4b-bc75-2337707635a5\")>,\n",
       "  <selenium.webdriver.remote.webelement.WebElement (session=\"3c9869e8bf0b94c50d197d6f3b6ec4e9\", element=\"fff6f6a5-1f6b-4db2-b567-d9176244eaf2\")>,\n",
       "  <selenium.webdriver.remote.webelement.WebElement (session=\"3c9869e8bf0b94c50d197d6f3b6ec4e9\", element=\"d4c66e38-b034-48cb-9048-506dfc3dd1b7\")>,\n",
       "  <selenium.webdriver.remote.webelement.WebElement (session=\"3c9869e8bf0b94c50d197d6f3b6ec4e9\", element=\"e2be7c98-b5b6-4470-a9cf-b03286b521c2\")>,\n",
       "  <selenium.webdriver.remote.webelement.WebElement (session=\"3c9869e8bf0b94c50d197d6f3b6ec4e9\", element=\"db8a1512-d8e7-4250-92d9-4403a6dce9ac\")>]]"
      ]
     },
     "execution_count": 19,
     "metadata": {},
     "output_type": "execute_result"
    }
   ],
   "source": [
    "ques"
   ]
  },
  {
   "cell_type": "code",
   "execution_count": 24,
   "metadata": {
    "scrolled": true
   },
   "outputs": [
    {
     "name": "stdout",
     "output_type": "stream",
     "text": [
      "What is something you noticed in <span class=\"matched_term\">Avengers</span>: Endgame that you believe others have missed?\n",
      "Who would win in a fight between the <span class=\"matched_term\">Avengers</span> and the Justice League?\n",
      "What are your predictions for what will happen in <span class=\"matched_term\">Avengers</span> 4?\n",
      "Is <span class=\"matched_term\">Avengers</span>: Endgame the last <span class=\"matched_term\">Avengers</span> movie?\n",
      "What is the best site to Download <span class=\"matched_term\">Avengers</span>: Infinity War in HD?\n",
      "What is your review of <span class=\"matched_term\">Avengers</span>: Endgame (2019 movie)?\n",
      "What did you hate about <span class=\"matched_term\">Avengers</span>: Endgame?\n",
      "What is your review of <span class=\"matched_term\">Avengers</span>: Infinity War (2018 movie)?\n",
      "Who's stronger in <span class=\"matched_term\">Avengers</span>?\n",
      "What is something you noticed in <span class=\"matched_term\">Avengers</span>: Endgame that you believe others have missed?\n",
      "Who would win in a fight between the <span class=\"matched_term\">Avengers</span> and the Justice League?\n",
      "What are your predictions for what will happen in <span class=\"matched_term\">Avengers</span> 4?\n",
      "Is <span class=\"matched_term\">Avengers</span>: Endgame the last <span class=\"matched_term\">Avengers</span> movie?\n",
      "What is the best site to Download <span class=\"matched_term\">Avengers</span>: Infinity War in HD?\n",
      "What is your review of <span class=\"matched_term\">Avengers</span>: Endgame (2019 movie)?\n",
      "What did you hate about <span class=\"matched_term\">Avengers</span>: Endgame?\n",
      "What is your review of <span class=\"matched_term\">Avengers</span>: Infinity War (2018 movie)?\n",
      "Who's stronger in <span class=\"matched_term\">Avengers</span>?\n",
      "What is something you noticed in <span class=\"matched_term\">Avengers</span>: Endgame that you believe others have missed?\n",
      "Who would win in a fight between the <span class=\"matched_term\">Avengers</span> and the Justice League?\n",
      "What are your predictions for what will happen in <span class=\"matched_term\">Avengers</span> 4?\n",
      "Is <span class=\"matched_term\">Avengers</span>: Endgame the last <span class=\"matched_term\">Avengers</span> movie?\n",
      "What is the best site to Download <span class=\"matched_term\">Avengers</span>: Infinity War in HD?\n",
      "What is your review of <span class=\"matched_term\">Avengers</span>: Endgame (2019 movie)?\n",
      "What did you hate about <span class=\"matched_term\">Avengers</span>: Endgame?\n",
      "What is your review of <span class=\"matched_term\">Avengers</span>: Infinity War (2018 movie)?\n",
      "Who's stronger in <span class=\"matched_term\">Avengers</span>?\n",
      "Who will die in <span class=\"matched_term\">Avengers</span>: Endgame?\n",
      "What movie is better, <span class=\"matched_term\">Avengers</span>: Endgame or <span class=\"matched_term\">Avengers</span>: Infinity War?\n",
      "What would you like to see happen in <span class=\"matched_term\">Avengers</span>: Endgame?\n",
      "What is your review of the first <span class=\"matched_term\">Avengers</span>: Endgame movie trailer (December 2018)?\n",
      "Is Tony Stark (Iron Man) going to die in <span class=\"matched_term\">Avengers</span>: Endgame?\n",
      "What characters die in Infinity War?\n",
      "What is something you noticed in <span class=\"matched_term\">Avengers</span>: Infinity War that you believe others have missed?\n",
      "Who is the most powerful in <span class=\"matched_term\">Avengers</span>: Endgame?\n",
      "What is your biggest complaint about <span class=\"matched_term\">Avengers</span>: Infinity War (2018 movie)?\n",
      "Which of the <span class=\"matched_term\">Avengers</span> do you think might die in the Infinity War movies?\n",
      "What is something you noticed in <span class=\"matched_term\">Avengers</span>: Endgame that you believe others have missed?\n",
      "Who would win in a fight between the <span class=\"matched_term\">Avengers</span> and the Justice League?\n",
      "What are your predictions for what will happen in <span class=\"matched_term\">Avengers</span> 4?\n",
      "Is <span class=\"matched_term\">Avengers</span>: Endgame the last <span class=\"matched_term\">Avengers</span> movie?\n",
      "What is the best site to Download <span class=\"matched_term\">Avengers</span>: Infinity War in HD?\n",
      "What is your review of <span class=\"matched_term\">Avengers</span>: Endgame (2019 movie)?\n",
      "What did you hate about <span class=\"matched_term\">Avengers</span>: Endgame?\n",
      "What is your review of <span class=\"matched_term\">Avengers</span>: Infinity War (2018 movie)?\n",
      "Who's stronger in <span class=\"matched_term\">Avengers</span>?\n",
      "Who will die in <span class=\"matched_term\">Avengers</span>: Endgame?\n",
      "What movie is better, <span class=\"matched_term\">Avengers</span>: Endgame or <span class=\"matched_term\">Avengers</span>: Infinity War?\n",
      "What would you like to see happen in <span class=\"matched_term\">Avengers</span>: Endgame?\n",
      "What is your review of the first <span class=\"matched_term\">Avengers</span>: Endgame movie trailer (December 2018)?\n",
      "Is Tony Stark (Iron Man) going to die in <span class=\"matched_term\">Avengers</span>: Endgame?\n",
      "What characters die in Infinity War?\n",
      "What is something you noticed in <span class=\"matched_term\">Avengers</span>: Infinity War that you believe others have missed?\n",
      "Who is the most powerful in <span class=\"matched_term\">Avengers</span>: Endgame?\n",
      "What is your biggest complaint about <span class=\"matched_term\">Avengers</span>: Infinity War (2018 movie)?\n",
      "Which of the <span class=\"matched_term\">Avengers</span> do you think might die in the Infinity War movies?\n"
     ]
    }
   ],
   "source": [
    "for i in ques:\n",
    "    for j in i:\n",
    "        print(j.get_attribute('innerHTML'))"
   ]
  },
  {
   "cell_type": "code",
   "execution_count": 25,
   "metadata": {},
   "outputs": [
    {
     "name": "stdout",
     "output_type": "stream",
     "text": [
      "What is something you noticed in Avengers: Endgame that you believe others have missed?\n",
      "Who would win in a fight between the Avengers and the Justice League?\n",
      "What are your predictions for what will happen in Avengers 4?\n",
      "Is Avengers: Endgame the last Avengers movie?\n",
      "What is the best site to Download Avengers: Infinity War in HD?\n",
      "What is your review of Avengers: Endgame (2019 movie)?\n",
      "What did you hate about Avengers: Endgame?\n",
      "What is your review of Avengers: Infinity War (2018 movie)?\n",
      "Who's stronger in Avengers?\n",
      "What is something you noticed in Avengers: Endgame that you believe others have missed?\n",
      "Who would win in a fight between the Avengers and the Justice League?\n",
      "What are your predictions for what will happen in Avengers 4?\n",
      "Is Avengers: Endgame the last Avengers movie?\n",
      "What is the best site to Download Avengers: Infinity War in HD?\n",
      "What is your review of Avengers: Endgame (2019 movie)?\n",
      "What did you hate about Avengers: Endgame?\n",
      "What is your review of Avengers: Infinity War (2018 movie)?\n",
      "Who's stronger in Avengers?\n",
      "What is something you noticed in Avengers: Endgame that you believe others have missed?\n",
      "Who would win in a fight between the Avengers and the Justice League?\n",
      "What are your predictions for what will happen in Avengers 4?\n",
      "Is Avengers: Endgame the last Avengers movie?\n",
      "What is the best site to Download Avengers: Infinity War in HD?\n",
      "What is your review of Avengers: Endgame (2019 movie)?\n",
      "What did you hate about Avengers: Endgame?\n",
      "What is your review of Avengers: Infinity War (2018 movie)?\n",
      "Who's stronger in Avengers?\n",
      "Who will die in Avengers: Endgame?\n",
      "What movie is better, Avengers: Endgame or Avengers: Infinity War?\n",
      "What would you like to see happen in Avengers: Endgame?\n",
      "What is your review of the first Avengers: Endgame movie trailer (December 2018)?\n",
      "Is Tony Stark (Iron Man) going to die in Avengers: Endgame?\n",
      "What characters die in Infinity War?\n",
      "What is something you noticed in Avengers: Infinity War that you believe others have missed?\n",
      "Who is the most powerful in Avengers: Endgame?\n",
      "What is your biggest complaint about Avengers: Infinity War (2018 movie)?\n",
      "Which of the Avengers do you think might die in the Infinity War movies?\n",
      "What is something you noticed in Avengers: Endgame that you believe others have missed?\n",
      "Who would win in a fight between the Avengers and the Justice League?\n",
      "What are your predictions for what will happen in Avengers 4?\n",
      "Is Avengers: Endgame the last Avengers movie?\n",
      "What is the best site to Download Avengers: Infinity War in HD?\n",
      "What is your review of Avengers: Endgame (2019 movie)?\n",
      "What did you hate about Avengers: Endgame?\n",
      "What is your review of Avengers: Infinity War (2018 movie)?\n",
      "Who's stronger in Avengers?\n",
      "Who will die in Avengers: Endgame?\n",
      "What movie is better, Avengers: Endgame or Avengers: Infinity War?\n",
      "What would you like to see happen in Avengers: Endgame?\n",
      "What is your review of the first Avengers: Endgame movie trailer (December 2018)?\n",
      "Is Tony Stark (Iron Man) going to die in Avengers: Endgame?\n",
      "What characters die in Infinity War?\n",
      "What is something you noticed in Avengers: Infinity War that you believe others have missed?\n",
      "Who is the most powerful in Avengers: Endgame?\n",
      "What is your biggest complaint about Avengers: Infinity War (2018 movie)?\n",
      "Which of the Avengers do you think might die in the Infinity War movies?\n"
     ]
    }
   ],
   "source": [
    "for i in ques:\n",
    "    for j in i:\n",
    "        print(j.text)"
   ]
  }
 ],
 "metadata": {
  "kernelspec": {
   "display_name": "Python 3",
   "language": "python",
   "name": "python3"
  },
  "language_info": {
   "codemirror_mode": {
    "name": "ipython",
    "version": 3
   },
   "file_extension": ".py",
   "mimetype": "text/x-python",
   "name": "python",
   "nbconvert_exporter": "python",
   "pygments_lexer": "ipython3",
   "version": "3.8.2"
  }
 },
 "nbformat": 4,
 "nbformat_minor": 2
}
