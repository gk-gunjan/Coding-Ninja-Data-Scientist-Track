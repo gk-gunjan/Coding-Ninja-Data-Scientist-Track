{
 "cells": [
  {
   "cell_type": "code",
   "execution_count": 9,
   "metadata": {},
   "outputs": [],
   "source": [
    "from selenium import webdriver"
   ]
  },
  {
   "cell_type": "code",
   "execution_count": 11,
   "metadata": {},
   "outputs": [],
   "source": [
    "driver = webdriver.Chrome(executable_path = 'chromedriver')\n"
   ]
  },
  {
   "cell_type": "code",
   "execution_count": 27,
   "metadata": {},
   "outputs": [
    {
     "data": {
      "text/plain": [
       "<selenium.webdriver.remote.webelement.WebElement (session=\"f80cad37893e9d90575ef449685d73db\", element=\"0.8316177088794825-1\")>"
      ]
     },
     "execution_count": 27,
     "metadata": {},
     "output_type": "execute_result"
    }
   ],
   "source": [
    "drp_dwn = driver.find_element_by_id('continents')\n",
    "drp_dwn"
   ]
  },
  {
   "cell_type": "code",
   "execution_count": 28,
   "metadata": {
    "collapsed": true
   },
   "outputs": [],
   "source": [
    "from selenium.webdriver.support.select import Select\n",
    "s = Select(drp_dwn)"
   ]
  },
  {
   "cell_type": "code",
   "execution_count": 29,
   "metadata": {},
   "outputs": [
    {
     "data": {
      "text/plain": [
       "[<selenium.webdriver.remote.webelement.WebElement (session=\"f80cad37893e9d90575ef449685d73db\", element=\"0.8316177088794825-2\")>,\n",
       " <selenium.webdriver.remote.webelement.WebElement (session=\"f80cad37893e9d90575ef449685d73db\", element=\"0.8316177088794825-3\")>,\n",
       " <selenium.webdriver.remote.webelement.WebElement (session=\"f80cad37893e9d90575ef449685d73db\", element=\"0.8316177088794825-4\")>,\n",
       " <selenium.webdriver.remote.webelement.WebElement (session=\"f80cad37893e9d90575ef449685d73db\", element=\"0.8316177088794825-5\")>,\n",
       " <selenium.webdriver.remote.webelement.WebElement (session=\"f80cad37893e9d90575ef449685d73db\", element=\"0.8316177088794825-6\")>,\n",
       " <selenium.webdriver.remote.webelement.WebElement (session=\"f80cad37893e9d90575ef449685d73db\", element=\"0.8316177088794825-7\")>,\n",
       " <selenium.webdriver.remote.webelement.WebElement (session=\"f80cad37893e9d90575ef449685d73db\", element=\"0.8316177088794825-8\")>]"
      ]
     },
     "execution_count": 29,
     "metadata": {},
     "output_type": "execute_result"
    }
   ],
   "source": [
    "s.options"
   ]
  },
  {
   "cell_type": "code",
   "execution_count": 31,
   "metadata": {},
   "outputs": [
    {
     "data": {
      "text/plain": [
       "'<option>Asia</option>'"
      ]
     },
     "execution_count": 31,
     "metadata": {},
     "output_type": "execute_result"
    }
   ],
   "source": [
    "s.first_selected_option\n",
    "s.first_selected_option.get_attribute('outerHTML')"
   ]
  },
  {
   "cell_type": "code",
   "execution_count": 32,
   "metadata": {},
   "outputs": [
    {
     "data": {
      "text/plain": [
       "[<selenium.webdriver.remote.webelement.WebElement (session=\"f80cad37893e9d90575ef449685d73db\", element=\"0.8316177088794825-2\")>]"
      ]
     },
     "execution_count": 32,
     "metadata": {},
     "output_type": "execute_result"
    }
   ],
   "source": [
    "s.all_selected_options"
   ]
  },
  {
   "cell_type": "code",
   "execution_count": 33,
   "metadata": {
    "collapsed": true
   },
   "outputs": [],
   "source": [
    "s.select_by_index(1)"
   ]
  },
  {
   "cell_type": "code",
   "execution_count": null,
   "metadata": {},
   "outputs": [],
   "source": [
    "s.select_by_value('Australia')"
   ]
  },
  {
   "cell_type": "code",
   "execution_count": 35,
   "metadata": {
    "collapsed": true
   },
   "outputs": [],
   "source": [
    "s.select_by_index('2')"
   ]
  },
  {
   "cell_type": "code",
   "execution_count": 36,
   "metadata": {
    "collapsed": true
   },
   "outputs": [],
   "source": [
    "s.select_by_visible_text('Australia')"
   ]
  },
  {
   "cell_type": "code",
   "execution_count": null,
   "metadata": {},
   "outputs": [],
   "source": [
    "drp_dwn2 = driver.find_element_by_id('selenium_commands')\n",
    "s1 = Select(drp_dwn2)\n",
    "s1"
   ]
  },
  {
   "cell_type": "code",
   "execution_count": 41,
   "metadata": {},
   "outputs": [
    {
     "data": {
      "text/plain": [
       "[<selenium.webdriver.remote.webelement.WebElement (session=\"f80cad37893e9d90575ef449685d73db\", element=\"0.046712099246680516-2\")>,\n",
       " <selenium.webdriver.remote.webelement.WebElement (session=\"f80cad37893e9d90575ef449685d73db\", element=\"0.046712099246680516-3\")>,\n",
       " <selenium.webdriver.remote.webelement.WebElement (session=\"f80cad37893e9d90575ef449685d73db\", element=\"0.046712099246680516-4\")>,\n",
       " <selenium.webdriver.remote.webelement.WebElement (session=\"f80cad37893e9d90575ef449685d73db\", element=\"0.046712099246680516-5\")>,\n",
       " <selenium.webdriver.remote.webelement.WebElement (session=\"f80cad37893e9d90575ef449685d73db\", element=\"0.046712099246680516-6\")>]"
      ]
     },
     "execution_count": 41,
     "metadata": {},
     "output_type": "execute_result"
    }
   ],
   "source": [
    "s1.options"
   ]
  },
  {
   "cell_type": "code",
   "execution_count": 42,
   "metadata": {},
   "outputs": [],
   "source": [
    "s1.select_by_visible_text('Navigation Commands')\n",
    "s1.select_by_visible_text('Switch Commands')"
   ]
  },
  {
   "cell_type": "code",
   "execution_count": 43,
   "metadata": {},
   "outputs": [
    {
     "data": {
      "text/plain": [
       "[<selenium.webdriver.remote.webelement.WebElement (session=\"f80cad37893e9d90575ef449685d73db\", element=\"0.046712099246680516-3\")>,\n",
       " <selenium.webdriver.remote.webelement.WebElement (session=\"f80cad37893e9d90575ef449685d73db\", element=\"0.046712099246680516-4\")>]"
      ]
     },
     "execution_count": 43,
     "metadata": {},
     "output_type": "execute_result"
    }
   ],
   "source": [
    "s1.all_selected_options"
   ]
  },
  {
   "cell_type": "code",
   "execution_count": null,
   "metadata": {},
   "outputs": [],
   "source": [
    "s1.select_by_value(3)"
   ]
  }
 ],
 "metadata": {
  "kernelspec": {
   "display_name": "Python 3",
   "language": "python",
   "name": "python3"
  },
  "language_info": {
   "codemirror_mode": {
    "name": "ipython",
    "version": 3
   },
   "file_extension": ".py",
   "mimetype": "text/x-python",
   "name": "python",
   "nbconvert_exporter": "python",
   "pygments_lexer": "ipython3",
   "version": "3.8.2"
  }
 },
 "nbformat": 4,
 "nbformat_minor": 2
}
