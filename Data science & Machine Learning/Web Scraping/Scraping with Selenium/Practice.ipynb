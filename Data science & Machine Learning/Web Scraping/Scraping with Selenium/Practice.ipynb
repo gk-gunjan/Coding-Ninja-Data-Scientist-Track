{
 "cells": [
  {
   "cell_type": "markdown",
   "metadata": {},
   "source": [
    "# Practice"
   ]
  },
  {
   "cell_type": "markdown",
   "metadata": {},
   "source": [
    "JavaScriptExecutor is used when Selenium Webdriver fails to click on any element due to some issue.\n"
   ]
  },
  {
   "cell_type": "code",
   "execution_count": 122,
   "metadata": {},
   "outputs": [],
   "source": [
    "#importing libraries\n",
    "from selenium import webdriver\n",
    "from selenium.webdriver.common.keys import Keys\n",
    "from selenium.common.exceptions import TimeoutException\n",
    "from selenium.webdriver.common.by import By\n",
    "from selenium.webdriver.common.keys import Keys\n",
    "from selenium.webdriver.support.ui import WebDriverWait\n",
    "from selenium.webdriver.support.expected_conditions import presence_of_element_located\n",
    "from selenium.common.exceptions import NoSuchElementException\n",
    "import time\n",
    "\n",
    "#Creating a web driver session\n",
    "driver = webdriver.Chrome(executable_path = 'D:\\Coding Ninja\\Data science & Machine Learning/chromedriver')"
   ]
  },
  {
   "cell_type": "code",
   "execution_count": 39,
   "metadata": {},
   "outputs": [],
   "source": [
    "driver.get(\"http://demo.guru99.com/V4/\");"
   ]
  },
  {
   "cell_type": "code",
   "execution_count": 47,
   "metadata": {
    "scrolled": true
   },
   "outputs": [],
   "source": [
    "driver.find_element(By.NAME, \"uid\").send_keys(\"mngr34926\");"
   ]
  },
  {
   "cell_type": "code",
   "execution_count": 41,
   "metadata": {},
   "outputs": [],
   "source": [
    "driver.find_element_by_name(\"uid\").send_keys(\"mngr34926\")"
   ]
  },
  {
   "cell_type": "code",
   "execution_count": 22,
   "metadata": {},
   "outputs": [],
   "source": [
    "driver.find_element_by_name(\"password\").send_keys(\"amUpenu\")"
   ]
  },
  {
   "cell_type": "code",
   "execution_count": 25,
   "metadata": {},
   "outputs": [],
   "source": [
    "driver.execute_script('window.scrollBy(0,100);')"
   ]
  },
  {
   "cell_type": "code",
   "execution_count": 33,
   "metadata": {},
   "outputs": [],
   "source": [
    "current_height = driver.execute_script('return document.getElementsByName(\"btnLogin\")[0].click();')"
   ]
  },
  {
   "cell_type": "code",
   "execution_count": 50,
   "metadata": {},
   "outputs": [],
   "source": [
    "driver.execute_script(\"alert('Practice');\");  "
   ]
  },
  {
   "cell_type": "code",
   "execution_count": 55,
   "metadata": {},
   "outputs": [],
   "source": [
    "driver.get(\"http://demo.guru99.com/V4/\");"
   ]
  },
  {
   "cell_type": "code",
   "execution_count": 62,
   "metadata": {},
   "outputs": [
    {
     "data": {
      "text/plain": [
       "'demo.guru99.com'"
      ]
     },
     "execution_count": 62,
     "metadata": {},
     "output_type": "execute_result"
    }
   ],
   "source": [
    "driver.execute_script(\"return document.domain;\")"
   ]
  },
  {
   "cell_type": "code",
   "execution_count": 64,
   "metadata": {},
   "outputs": [],
   "source": [
    "url=driver.execute_script(\"return document.URL;\")"
   ]
  },
  {
   "cell_type": "code",
   "execution_count": 66,
   "metadata": {},
   "outputs": [
    {
     "name": "stdout",
     "output_type": "stream",
     "text": [
      "URL of the site =  http://demo.guru99.com/V4/\n"
     ]
    }
   ],
   "source": [
    "print(\"URL of the site = \",url);"
   ]
  },
  {
   "cell_type": "code",
   "execution_count": 68,
   "metadata": {},
   "outputs": [
    {
     "data": {
      "text/plain": [
       "'Guru99 Bank Home Page'"
      ]
     },
     "execution_count": 68,
     "metadata": {},
     "output_type": "execute_result"
    }
   ],
   "source": [
    "driver.execute_script(\"return document.title;\")"
   ]
  },
  {
   "cell_type": "code",
   "execution_count": 70,
   "metadata": {},
   "outputs": [],
   "source": [
    "driver.execute_script(\"window.location = 'http://google.com/'\")"
   ]
  },
  {
   "cell_type": "code",
   "execution_count": 26,
   "metadata": {},
   "outputs": [],
   "source": [
    "driver.get(\"http://moneyboats.com/\")"
   ]
  },
  {
   "cell_type": "code",
   "execution_count": 76,
   "metadata": {},
   "outputs": [],
   "source": [
    "driver.maximize_window()"
   ]
  },
  {
   "cell_type": "code",
   "execution_count": 58,
   "metadata": {},
   "outputs": [],
   "source": [
    "driver.execute_script(\"window.scrollBy(0,600)\")"
   ]
  },
  {
   "cell_type": "code",
   "execution_count": 60,
   "metadata": {},
   "outputs": [],
   "source": [
    "driver.execute_script(\"window.scrollBy(0,-250)\", \"\");"
   ]
  },
  {
   "cell_type": "code",
   "execution_count": 54,
   "metadata": {},
   "outputs": [],
   "source": [
    "driver.execute_script(\"window.scrollTo(0, document.body.scrollHeight)\");\n",
    "# scrolls to end of the page"
   ]
  },
  {
   "cell_type": "code",
   "execution_count": 61,
   "metadata": {},
   "outputs": [],
   "source": [
    "driver.execute_script(\"window.scrollBy(0,500)\")"
   ]
  },
  {
   "cell_type": "code",
   "execution_count": 64,
   "metadata": {},
   "outputs": [],
   "source": [
    "arg=driver.find_elements_by_class_name(\"r\")"
   ]
  },
  {
   "cell_type": "code",
   "execution_count": 84,
   "metadata": {},
   "outputs": [
    {
     "data": {
      "text/plain": [
       "[<selenium.webdriver.remote.webelement.WebElement (session=\"b3044e7ce15eb6f253eb25884dd9bfba\", element=\"31a38c02-ae99-4cd5-b4ad-942f1ee4e8cd\")>,\n",
       " <selenium.webdriver.remote.webelement.WebElement (session=\"b3044e7ce15eb6f253eb25884dd9bfba\", element=\"58d9dca0-7a45-4564-9b2e-aa936767efb7\")>,\n",
       " <selenium.webdriver.remote.webelement.WebElement (session=\"b3044e7ce15eb6f253eb25884dd9bfba\", element=\"8e1168e0-6ca0-4a18-9485-b0a004fc3375\")>,\n",
       " <selenium.webdriver.remote.webelement.WebElement (session=\"b3044e7ce15eb6f253eb25884dd9bfba\", element=\"56ef47cb-ba8f-4625-82b2-5086fb4c23f6\")>,\n",
       " <selenium.webdriver.remote.webelement.WebElement (session=\"b3044e7ce15eb6f253eb25884dd9bfba\", element=\"06cb8f70-3790-473b-8ee3-d1bae1202bf2\")>,\n",
       " <selenium.webdriver.remote.webelement.WebElement (session=\"b3044e7ce15eb6f253eb25884dd9bfba\", element=\"c787cc82-1415-45df-9487-1890698156f6\")>]"
      ]
     },
     "execution_count": 84,
     "metadata": {},
     "output_type": "execute_result"
    }
   ],
   "source": [
    "driver.execute_script('return document.getElementsByClassName(\"r\");')"
   ]
  },
  {
   "cell_type": "code",
   "execution_count": 86,
   "metadata": {
    "scrolled": true
   },
   "outputs": [
    {
     "ename": "JavascriptException",
     "evalue": "Message: javascript error: Failed to execute 'getElementsByClassName' on 'Document': 1 argument required, but only 0 present.\n  (Session info: chrome=86.0.4240.111)\n",
     "output_type": "error",
     "traceback": [
      "\u001b[1;31m---------------------------------------------------------------------------\u001b[0m",
      "\u001b[1;31mJavascriptException\u001b[0m                       Traceback (most recent call last)",
      "\u001b[1;32m<ipython-input-86-a970258943b9>\u001b[0m in \u001b[0;36m<module>\u001b[1;34m\u001b[0m\n\u001b[1;32m----> 1\u001b[1;33m \u001b[0mdriver\u001b[0m\u001b[1;33m.\u001b[0m\u001b[0mexecute_script\u001b[0m\u001b[1;33m(\u001b[0m\u001b[1;34m\"return document.getElementsByClassName(\"\u001b[0m\u001b[1;34mr\")[0].scrollIntoView()\"\u001b[0m\u001b[1;33m)\u001b[0m\u001b[1;33m;\u001b[0m\u001b[1;33m\u001b[0m\u001b[1;33m\u001b[0m\u001b[0m\n\u001b[0m",
      "\u001b[1;32mc:\\users\\mridu\\appdata\\local\\programs\\python\\python38-32\\lib\\site-packages\\selenium\\webdriver\\remote\\webdriver.py\u001b[0m in \u001b[0;36mexecute_script\u001b[1;34m(self, script, *args)\u001b[0m\n\u001b[0;32m    632\u001b[0m             \u001b[0mcommand\u001b[0m \u001b[1;33m=\u001b[0m \u001b[0mCommand\u001b[0m\u001b[1;33m.\u001b[0m\u001b[0mEXECUTE_SCRIPT\u001b[0m\u001b[1;33m\u001b[0m\u001b[1;33m\u001b[0m\u001b[0m\n\u001b[0;32m    633\u001b[0m \u001b[1;33m\u001b[0m\u001b[0m\n\u001b[1;32m--> 634\u001b[1;33m         return self.execute(command, {\n\u001b[0m\u001b[0;32m    635\u001b[0m             \u001b[1;34m'script'\u001b[0m\u001b[1;33m:\u001b[0m \u001b[0mscript\u001b[0m\u001b[1;33m,\u001b[0m\u001b[1;33m\u001b[0m\u001b[1;33m\u001b[0m\u001b[0m\n\u001b[0;32m    636\u001b[0m             'args': converted_args})['value']\n",
      "\u001b[1;32mc:\\users\\mridu\\appdata\\local\\programs\\python\\python38-32\\lib\\site-packages\\selenium\\webdriver\\remote\\webdriver.py\u001b[0m in \u001b[0;36mexecute\u001b[1;34m(self, driver_command, params)\u001b[0m\n\u001b[0;32m    319\u001b[0m         \u001b[0mresponse\u001b[0m \u001b[1;33m=\u001b[0m \u001b[0mself\u001b[0m\u001b[1;33m.\u001b[0m\u001b[0mcommand_executor\u001b[0m\u001b[1;33m.\u001b[0m\u001b[0mexecute\u001b[0m\u001b[1;33m(\u001b[0m\u001b[0mdriver_command\u001b[0m\u001b[1;33m,\u001b[0m \u001b[0mparams\u001b[0m\u001b[1;33m)\u001b[0m\u001b[1;33m\u001b[0m\u001b[1;33m\u001b[0m\u001b[0m\n\u001b[0;32m    320\u001b[0m         \u001b[1;32mif\u001b[0m \u001b[0mresponse\u001b[0m\u001b[1;33m:\u001b[0m\u001b[1;33m\u001b[0m\u001b[1;33m\u001b[0m\u001b[0m\n\u001b[1;32m--> 321\u001b[1;33m             \u001b[0mself\u001b[0m\u001b[1;33m.\u001b[0m\u001b[0merror_handler\u001b[0m\u001b[1;33m.\u001b[0m\u001b[0mcheck_response\u001b[0m\u001b[1;33m(\u001b[0m\u001b[0mresponse\u001b[0m\u001b[1;33m)\u001b[0m\u001b[1;33m\u001b[0m\u001b[1;33m\u001b[0m\u001b[0m\n\u001b[0m\u001b[0;32m    322\u001b[0m             response['value'] = self._unwrap_value(\n\u001b[0;32m    323\u001b[0m                 response.get('value', None))\n",
      "\u001b[1;32mc:\\users\\mridu\\appdata\\local\\programs\\python\\python38-32\\lib\\site-packages\\selenium\\webdriver\\remote\\errorhandler.py\u001b[0m in \u001b[0;36mcheck_response\u001b[1;34m(self, response)\u001b[0m\n\u001b[0;32m    240\u001b[0m                 \u001b[0malert_text\u001b[0m \u001b[1;33m=\u001b[0m \u001b[0mvalue\u001b[0m\u001b[1;33m[\u001b[0m\u001b[1;34m'alert'\u001b[0m\u001b[1;33m]\u001b[0m\u001b[1;33m.\u001b[0m\u001b[0mget\u001b[0m\u001b[1;33m(\u001b[0m\u001b[1;34m'text'\u001b[0m\u001b[1;33m)\u001b[0m\u001b[1;33m\u001b[0m\u001b[1;33m\u001b[0m\u001b[0m\n\u001b[0;32m    241\u001b[0m             \u001b[1;32mraise\u001b[0m \u001b[0mexception_class\u001b[0m\u001b[1;33m(\u001b[0m\u001b[0mmessage\u001b[0m\u001b[1;33m,\u001b[0m \u001b[0mscreen\u001b[0m\u001b[1;33m,\u001b[0m \u001b[0mstacktrace\u001b[0m\u001b[1;33m,\u001b[0m \u001b[0malert_text\u001b[0m\u001b[1;33m)\u001b[0m\u001b[1;33m\u001b[0m\u001b[1;33m\u001b[0m\u001b[0m\n\u001b[1;32m--> 242\u001b[1;33m         \u001b[1;32mraise\u001b[0m \u001b[0mexception_class\u001b[0m\u001b[1;33m(\u001b[0m\u001b[0mmessage\u001b[0m\u001b[1;33m,\u001b[0m \u001b[0mscreen\u001b[0m\u001b[1;33m,\u001b[0m \u001b[0mstacktrace\u001b[0m\u001b[1;33m)\u001b[0m\u001b[1;33m\u001b[0m\u001b[1;33m\u001b[0m\u001b[0m\n\u001b[0m\u001b[0;32m    243\u001b[0m \u001b[1;33m\u001b[0m\u001b[0m\n\u001b[0;32m    244\u001b[0m     \u001b[1;32mdef\u001b[0m \u001b[0m_value_or_default\u001b[0m\u001b[1;33m(\u001b[0m\u001b[0mself\u001b[0m\u001b[1;33m,\u001b[0m \u001b[0mobj\u001b[0m\u001b[1;33m,\u001b[0m \u001b[0mkey\u001b[0m\u001b[1;33m,\u001b[0m \u001b[0mdefault\u001b[0m\u001b[1;33m)\u001b[0m\u001b[1;33m:\u001b[0m\u001b[1;33m\u001b[0m\u001b[1;33m\u001b[0m\u001b[0m\n",
      "\u001b[1;31mJavascriptException\u001b[0m: Message: javascript error: Failed to execute 'getElementsByClassName' on 'Document': 1 argument required, but only 0 present.\n  (Session info: chrome=86.0.4240.111)\n"
     ]
    }
   ],
   "source": [
    "driver.execute_script(\"return document.getElementsByClassName(\"r\")[0].scrollIntoView()\");"
   ]
  },
  {
   "cell_type": "code",
   "execution_count": 36,
   "metadata": {},
   "outputs": [
    {
     "name": "stdout",
     "output_type": "stream",
     "text": [
      "BrowserStack - Google Search\n"
     ]
    }
   ],
   "source": [
    "\n",
    "driver.get(\"http://www.google.com\")\n",
    "if not \"Google\" in driver.title:\n",
    "    raise Exception(\"Unable to load google page!\")\n",
    "elem = driver.find_element_by_name(\"q\")\n",
    "elem.send_keys(\"BrowserStack\")\n",
    "elem.submit()\n",
    "print(driver.title)"
   ]
  },
  {
   "cell_type": "code",
   "execution_count": 25,
   "metadata": {},
   "outputs": [],
   "source": [
    "desired_cap = {\n",
    "\"os\" : \"Windows\",\n",
    "\"os_version\" : \"10\",\n",
    "\"browser\" : \"Chrome\",\n",
    "\"browser_version\" : \"latest-beta\",\n",
    "\"browserstack.local\" : \"false\",\n",
    "\"browserstack.selenium_version\" : \"3.14.0\"\n",
    "}"
   ]
  },
  {
   "cell_type": "code",
   "execution_count": 124,
   "metadata": {},
   "outputs": [],
   "source": [
    "driver.get(\"https://www.facebook.com/\")"
   ]
  },
  {
   "cell_type": "code",
   "execution_count": 125,
   "metadata": {},
   "outputs": [],
   "source": [
    "sign=driver.find_elements_by_class_name(\"_6ltg\")"
   ]
  },
  {
   "cell_type": "code",
   "execution_count": 126,
   "metadata": {},
   "outputs": [],
   "source": [
    "sign[1].click()"
   ]
  },
  {
   "cell_type": "code",
   "execution_count": 99,
   "metadata": {},
   "outputs": [],
   "source": [
    "driver.find_element_by_name(\"firstname\").send_keys(\"hello\")"
   ]
  },
  {
   "cell_type": "code",
   "execution_count": 127,
   "metadata": {},
   "outputs": [],
   "source": [
    "sex=driver.find_element_by_class_name(\"_58mt\")"
   ]
  },
  {
   "cell_type": "code",
   "execution_count": 128,
   "metadata": {},
   "outputs": [],
   "source": [
    "sex.click()"
   ]
  },
  {
   "cell_type": "code",
   "execution_count": 129,
   "metadata": {},
   "outputs": [],
   "source": [
    "drp=driver.find_element_by_name(\"birthday_month\")"
   ]
  },
  {
   "cell_type": "code",
   "execution_count": 130,
   "metadata": {},
   "outputs": [],
   "source": [
    "from selenium.webdriver.support.select import Select\n",
    "s = Select(drp)"
   ]
  },
  {
   "cell_type": "code",
   "execution_count": 131,
   "metadata": {},
   "outputs": [
    {
     "data": {
      "text/plain": [
       "[<selenium.webdriver.remote.webelement.WebElement (session=\"f089f460933162a965d664e6b3ef2ba6\", element=\"1887003d-e8c0-483e-aa82-21646f519be7\")>,\n",
       " <selenium.webdriver.remote.webelement.WebElement (session=\"f089f460933162a965d664e6b3ef2ba6\", element=\"ca1b2bf4-9fa2-4899-a31b-ef40dc6ba9dc\")>,\n",
       " <selenium.webdriver.remote.webelement.WebElement (session=\"f089f460933162a965d664e6b3ef2ba6\", element=\"5c0d0c12-65d2-4dda-aa77-c017d9e55297\")>,\n",
       " <selenium.webdriver.remote.webelement.WebElement (session=\"f089f460933162a965d664e6b3ef2ba6\", element=\"4c257918-3429-4835-96f6-856c343099df\")>,\n",
       " <selenium.webdriver.remote.webelement.WebElement (session=\"f089f460933162a965d664e6b3ef2ba6\", element=\"544aa3be-e054-42c0-a5e2-b6dbc866396b\")>,\n",
       " <selenium.webdriver.remote.webelement.WebElement (session=\"f089f460933162a965d664e6b3ef2ba6\", element=\"9ffb2a89-f29a-4e66-912f-c2f9d4a1517e\")>,\n",
       " <selenium.webdriver.remote.webelement.WebElement (session=\"f089f460933162a965d664e6b3ef2ba6\", element=\"e6cbee04-eef4-4064-aa6d-ed1e6e35ea57\")>,\n",
       " <selenium.webdriver.remote.webelement.WebElement (session=\"f089f460933162a965d664e6b3ef2ba6\", element=\"e0c78c4e-6024-4b6c-8153-0d09f0773a5f\")>,\n",
       " <selenium.webdriver.remote.webelement.WebElement (session=\"f089f460933162a965d664e6b3ef2ba6\", element=\"213b9b8a-12be-4e42-96b7-4fa7e1d19349\")>,\n",
       " <selenium.webdriver.remote.webelement.WebElement (session=\"f089f460933162a965d664e6b3ef2ba6\", element=\"4607a606-98f8-4471-b2bc-a5db30a87f2f\")>,\n",
       " <selenium.webdriver.remote.webelement.WebElement (session=\"f089f460933162a965d664e6b3ef2ba6\", element=\"4e4f358c-e680-48b0-81db-f6a96f8a2e6f\")>,\n",
       " <selenium.webdriver.remote.webelement.WebElement (session=\"f089f460933162a965d664e6b3ef2ba6\", element=\"3b023109-1ef9-4b69-a7dd-cf625fc41946\")>,\n",
       " <selenium.webdriver.remote.webelement.WebElement (session=\"f089f460933162a965d664e6b3ef2ba6\", element=\"96548e99-1db8-4442-ac5e-0994dc044b58\")>]"
      ]
     },
     "execution_count": 131,
     "metadata": {},
     "output_type": "execute_result"
    }
   ],
   "source": [
    "s.options"
   ]
  },
  {
   "cell_type": "code",
   "execution_count": 132,
   "metadata": {},
   "outputs": [
    {
     "data": {
      "text/plain": [
       "<selenium.webdriver.remote.webelement.WebElement (session=\"f089f460933162a965d664e6b3ef2ba6\", element=\"4e4f358c-e680-48b0-81db-f6a96f8a2e6f\")>"
      ]
     },
     "execution_count": 132,
     "metadata": {},
     "output_type": "execute_result"
    }
   ],
   "source": [
    "s.first_selected_option"
   ]
  },
  {
   "cell_type": "code",
   "execution_count": 133,
   "metadata": {},
   "outputs": [],
   "source": [
    "s.select_by_index(7)"
   ]
  },
  {
   "cell_type": "code",
   "execution_count": 119,
   "metadata": {},
   "outputs": [
    {
     "data": {
      "text/plain": [
       "'<option value=\"1\">Jan</option>'"
      ]
     },
     "execution_count": 119,
     "metadata": {},
     "output_type": "execute_result"
    }
   ],
   "source": [
    "s.first_selected_option.get_attribute('outerHTML')"
   ]
  },
  {
   "cell_type": "code",
   "execution_count": 135,
   "metadata": {},
   "outputs": [],
   "source": [
    "s.select_by_visible_text('Feb')\n"
   ]
  },
  {
   "cell_type": "code",
   "execution_count": 136,
   "metadata": {},
   "outputs": [
    {
     "data": {
      "text/plain": [
       "[<selenium.webdriver.remote.webelement.WebElement (session=\"f089f460933162a965d664e6b3ef2ba6\", element=\"5c0d0c12-65d2-4dda-aa77-c017d9e55297\")>]"
      ]
     },
     "execution_count": 136,
     "metadata": {},
     "output_type": "execute_result"
    }
   ],
   "source": [
    "s.all_selected_options"
   ]
  }
 ],
 "metadata": {
  "kernelspec": {
   "display_name": "Python 3",
   "language": "python",
   "name": "python3"
  },
  "language_info": {
   "codemirror_mode": {
    "name": "ipython",
    "version": 3
   },
   "file_extension": ".py",
   "mimetype": "text/x-python",
   "name": "python",
   "nbconvert_exporter": "python",
   "pygments_lexer": "ipython3",
   "version": "3.8.2"
  }
 },
 "nbformat": 4,
 "nbformat_minor": 4
}
