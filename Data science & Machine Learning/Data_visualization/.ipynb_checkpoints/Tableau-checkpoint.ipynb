{
 "cells": [
  {
   "cell_type": "markdown",
   "metadata": {},
   "source": [
    "An outer join, either Left or Right, retrieves records that match as well as records that do not match."
   ]
  },
  {
   "cell_type": "markdown",
   "metadata": {},
   "source": [
    "### Tableau Navigation:"
   ]
  },
  {
   "cell_type": "markdown",
   "metadata": {},
   "source": [
    "Tableau Navigation includes start page,data source page, workspace area."
   ]
  },
  {
   "cell_type": "markdown",
   "metadata": {},
   "source": [
    "Rows: x axis </br>\n",
    "\n",
    "Columns: Y axis"
   ]
  },
  {
   "cell_type": "markdown",
   "metadata": {},
   "source": [
    "In the workspace, area Markspace Area is used for enhancing visualisation by setting color,size,label,path or shapes."
   ]
  },
  {
   "cell_type": "markdown",
   "metadata": {},
   "source": [
    "In the workspace, area column is treated as Y axis."
   ]
  },
  {
   "cell_type": "markdown",
   "metadata": {},
   "source": [
    "Tableau takes datatype of column by checking datatype of first 1000 rows"
   ]
  },
  {
   "cell_type": "markdown",
   "metadata": {},
   "source": [
    "Dimension contains qualitative value and measure contains numeric value"
   ]
  },
  {
   "cell_type": "markdown",
   "metadata": {},
   "source": [
    "#### Automatically generated fields"
   ]
  },
  {
   "cell_type": "markdown",
   "metadata": {},
   "source": [
    "measure name and measure values: takes aggregate function9by default sum) "
   ]
  },
  {
   "cell_type": "markdown",
   "metadata": {},
   "source": [
    "measure values calculated sum of values of evey field"
   ]
  },
  {
   "cell_type": "markdown",
   "metadata": {},
   "source": [
    "= : calculated field\n",
    "    eg no. of records, latitute and longitude (automatically added when any geographic field present)"
   ]
  },
  {
   "cell_type": "markdown",
   "metadata": {},
   "source": [
    "On using discrete data we get a table and values are used as headers.\n",
    "on using continuous data we get a plot and values will be used for getting axis of plot"
   ]
  },
  {
   "cell_type": "markdown",
   "metadata": {},
   "source": [
    "### Types of charts:"
   ]
  },
  {
   "cell_type": "markdown",
   "metadata": {},
   "source": [
    "Line graph is best suitable when you need to analyse something over a span of time.\n",
    "\n",
    "By default tableau aggregates the values  it aggregates all the values say in sheet 2 it sums up co2 per capita for all countries"
   ]
  },
  {
   "cell_type": "markdown",
   "metadata": {},
   "source": [
    "using control c select the dimensions and measures : show me the suitable charts.\n",
    "    red border : default one"
   ]
  },
  {
   "cell_type": "markdown",
   "metadata": {},
   "source": [
    "the order of selection of fields changes the plots"
   ]
  },
  {
   "cell_type": "markdown",
   "metadata": {},
   "source": [
    "1) On selecting any geographical feature we get a map and on selecting another dimension / feature map gets refined\n",
    "\n",
    "2) On adding a measure and date : line chart, any subsequent additions: refines the line chart.\n",
    "\n",
    "3) Text tables:\n",
    "    if we add a dimension first, and any subsequent addition gives refined table\n",
    "\n",
    "4) bar chart:\n",
    "    measure first then dimension\n",
    "    (opp of text table)\n",
    "    Data around different categories. n no. of categories is very limited(<15)\n",
    "\n",
    "5) scatter plot:\n",
    "    more than 1 measure\n",
    "\n",
    "6) histogram:\n",
    "    distribution of data over a cont. interval or certain time period.\n",
    "            combination of vertical bar chart (for different categories) and    line chart (over a time period)\n",
    "            \n",
    "    cont var: on x axis\n",
    "    eg height of students in class\n",
    "    divide eight in discrete bins , say bin 1:0-50cm 2:50-100 cm\n",
    "\n",
    "    no. of data in that interval: y axis\n",
    "    eg 3 students in range 0-30 so for bin 1 height is 3\n",
    "            \n",
    "            \n",
    "     Histograms also give rough estimation of probability distribution of your data."
   ]
  },
  {
   "cell_type": "markdown",
   "metadata": {},
   "source": []
  }
 ],
 "metadata": {
  "kernelspec": {
   "display_name": "Python 3",
   "language": "python",
   "name": "python3"
  },
  "language_info": {
   "codemirror_mode": {
    "name": "ipython",
    "version": 3
   },
   "file_extension": ".py",
   "mimetype": "text/x-python",
   "name": "python",
   "nbconvert_exporter": "python",
   "pygments_lexer": "ipython3",
   "version": "3.8.2"
  }
 },
 "nbformat": 4,
 "nbformat_minor": 4
}
