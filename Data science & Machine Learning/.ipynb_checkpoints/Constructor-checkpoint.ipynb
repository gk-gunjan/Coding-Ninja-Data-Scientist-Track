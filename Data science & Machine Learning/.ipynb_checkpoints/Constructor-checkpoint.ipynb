{
 "cells": [
  {
   "cell_type": "code",
   "execution_count": 9,
   "metadata": {},
   "outputs": [],
   "source": [
    "class Student :\n",
    "    ## Class attributes\n",
    "    totalStudents = 20\n",
    "    classTeacherName = 'Komal'\n",
    "    \n",
    "    \n",
    "    def __init__(self, name, *args) :\n",
    "        self.name = name\n",
    "        self.age = age\n",
    "        self.rollNumber = rn\n",
    "        \n",
    "    \n",
    "    \n",
    "    ## Instance methods\n",
    "    \n",
    "    def print(self, str) :\n",
    "        print(str)\n",
    "        \n",
    "    def printName(self) : \n",
    "        print(self.name)\n",
    "        \n",
    "    def addName(self, name) :\n",
    "        self.name = name\n",
    "    \n",
    "    def test(self) :\n",
    "        Student.totalStudents = 25\n",
    "        print(Student.totalStudents)\n",
    "        Student.test_class = 90\n",
    "    \n",
    "s1 = Student('Mohit', 20, 101)\n",
    "s2 = Student('Aman', 21, 102)\n",
    "s3 = Student('Nikhil', 23)"
   ]
  },
  {
   "cell_type": "code",
   "execution_count": 10,
   "metadata": {},
   "outputs": [
    {
     "name": "stdout",
     "output_type": "stream",
     "text": [
      "{'name': 'Mohit', 'age': 20, 'rollNumber': 101}\n",
      "{'name': 'Aman', 'age': 21, 'rollNumber': 102}\n",
      "{'name': 'Nikhil', 'age': 23, 'rollNumber': 101}\n"
     ]
    }
   ],
   "source": [
    "print(s1.__dict__)\n",
    "print(s2.__dict__)\n",
    "print(s3.__dict__)"
   ]
  }
 ],
 "metadata": {
  "kernelspec": {
   "display_name": "Python 3",
   "language": "python",
   "name": "python3"
  },
  "language_info": {
   "codemirror_mode": {
    "name": "ipython",
    "version": 3
   },
   "file_extension": ".py",
   "mimetype": "text/x-python",
   "name": "python",
   "nbconvert_exporter": "python",
   "pygments_lexer": "ipython3",
   "version": "3.8.2"
  }
 },
 "nbformat": 4,
 "nbformat_minor": 2
}
