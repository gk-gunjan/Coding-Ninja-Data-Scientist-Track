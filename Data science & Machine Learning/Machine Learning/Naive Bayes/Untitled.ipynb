{
 "cells": [
  {
   "cell_type": "markdown",
   "metadata": {},
   "source": [
    "P( Xj =xj/y=ai ) = no. of points(Xj=xj AND y=ai) / no. of points(y=ai) "
   ]
  },
  {
   "cell_type": "code",
   "execution_count": 1,
   "metadata": {},
   "outputs": [],
   "source": [
    "import numpy as np"
   ]
  },
  {
   "cell_type": "code",
   "execution_count": null,
   "metadata": {},
   "outputs": [],
   "source": [
    "def fit(x_train,y_train):\n",
    "    result={}\n",
    "    class_values=set(y_train)\n",
    "    for current_class in class_values:\n",
    "        result[current_class]={}\n",
    "        current_Class_Rows={y_train== }\n",
    "        num_features=x_train.shape[1]\n",
    "        for j in range(1,num_features+1):\n",
    "            result[current_class][j] ={}\n",
    "            all_possible_values=set(x_train[:,j])\n",
    "            for current_value in all_possible_values:\n",
    "                result[current_class][j][current_value]="
   ]
  }
 ],
 "metadata": {
  "kernelspec": {
   "display_name": "Python 3",
   "language": "python",
   "name": "python3"
  },
  "language_info": {
   "codemirror_mode": {
    "name": "ipython",
    "version": 3
   },
   "file_extension": ".py",
   "mimetype": "text/x-python",
   "name": "python",
   "nbconvert_exporter": "python",
   "pygments_lexer": "ipython3",
   "version": "3.8.2"
  }
 },
 "nbformat": 4,
 "nbformat_minor": 4
}
