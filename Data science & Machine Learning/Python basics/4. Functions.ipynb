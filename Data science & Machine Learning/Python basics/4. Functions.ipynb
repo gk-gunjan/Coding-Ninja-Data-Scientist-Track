{
 "cells": [
  {
   "cell_type": "markdown",
   "metadata": {},
   "source": [
    "#### Highest frequency number\n",
    "Send Feedback\n",
    "You are given an array of integers that contain numbers in random order. Write a program to find and return the number which occurs the maximum times in the given input.\n",
    "If two or more elements contend for the maximum frequency, return the element which occurs in the array first."
   ]
  },
  {
   "cell_type": "code",
   "execution_count": null,
   "metadata": {},
   "outputs": [],
   "source": [
    "def maxFreq(l):\n",
    "    d={}\n",
    "    c=0\n",
    "    num=''\n",
    "\n",
    "    for i in l:\n",
    "        d[i] = d.get(i,0) + 1\n",
    "        if d[i] > c:\n",
    "            c = d[i]\n",
    "            num = i\n",
    "    return num\n",
    "    \n",
    "    pass\n",
    "\n",
    "\n",
    "n=int(input())\n",
    "l=list(int(i) for i in input().strip().split(' '))\n",
    "print(maxFreq(l))"
   ]
  },
  {
   "cell_type": "code",
   "execution_count": null,
   "metadata": {},
   "outputs": [],
   "source": [
    "def maxFreq(l):\n",
    "    d={}\n",
    "    m=0\n",
    "    # Please add your code here\n",
    "    for i in l:\n",
    "        d[i]=d.get(i,0)+1\n",
    "    m=d.values()\n",
    "    n=max(m)\n",
    "    for i in l:\n",
    "        if d[i] == n:\n",
    "            return i\n",
    "            break\n",
    "    pass\n",
    "\n",
    "# Main\n",
    "n=int(input())\n",
    "l=list(int(i) for i in input().strip().split(' '))\n",
    "print(maxFreq(l))"
   ]
  }
 ],
 "metadata": {
  "kernelspec": {
   "display_name": "Python 3",
   "language": "python",
   "name": "python3"
  },
  "language_info": {
   "codemirror_mode": {
    "name": "ipython",
    "version": 3
   },
   "file_extension": ".py",
   "mimetype": "text/x-python",
   "name": "python",
   "nbconvert_exporter": "python",
   "pygments_lexer": "ipython3",
   "version": "3.8.2"
  }
 },
 "nbformat": 4,
 "nbformat_minor": 4
}
