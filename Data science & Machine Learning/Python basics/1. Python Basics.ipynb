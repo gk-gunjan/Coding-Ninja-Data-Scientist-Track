{
 "cells": [
  {
   "cell_type": "code",
   "execution_count": null,
   "metadata": {},
   "outputs": [],
   "source": [
    "#average\n",
    "a=int(input());\n",
    "b=int(input());\n",
    "c=int(input());\n",
    "avg=(a+b+c)/3;\n",
    "print(avg);"
   ]
  },
  {
   "cell_type": "code",
   "execution_count": null,
   "metadata": {
    "scrolled": true
   },
   "outputs": [],
   "source": [
    "#x to the power N\n",
    "X=int(input());\n",
    "N=int(input());\n",
    "print(pow(X,N));"
   ]
  },
  {
   "cell_type": "code",
   "execution_count": null,
   "metadata": {},
   "outputs": [],
   "source": [
    "#Common difference\n",
    "a=int(input());\n",
    "b=int(input());\n",
    "c=int(input());\n",
    "cd=c-b;\n",
    "print(cd);"
   ]
  },
  {
   "cell_type": "code",
   "execution_count": null,
   "metadata": {},
   "outputs": [],
   "source": [
    "#Area of rectangle\n",
    "x1=int(input());\n",
    "y1=int(input());\n",
    "x2=int(input());\n",
    "y2=int(input());\n",
    "l=x2-x1;\n",
    "b=y2-y1;\n",
    "print(l*b);"
   ]
  },
  {
   "cell_type": "code",
   "execution_count": null,
   "metadata": {},
   "outputs": [],
   "source": [
    "#check no.\n",
    "n=int(input());\n",
    "if(n>0):\n",
    "    print(\"Positive\");\n",
    "elif(n<0):\n",
    "    print(\"Negative\");\n",
    "else:\n",
    "    print(\"Zero\");"
   ]
  },
  {
   "cell_type": "code",
   "execution_count": 1,
   "metadata": {},
   "outputs": [
    {
     "name": "stdout",
     "output_type": "stream",
     "text": [
      "B\n"
     ]
    }
   ],
   "source": [
    "if True or True:\n",
    "    if False and True or False:\n",
    "        print('A');\n",
    "    elif False and False or True and True:\n",
    "        print('B');\n",
    "    else:\n",
    "        print('C');\n",
    "else:\n",
    "     print('D');\n",
    "#In Python, the left operand is always evaluated before the right operand. "
   ]
  },
  {
   "cell_type": "code",
   "execution_count": null,
   "metadata": {},
   "outputs": [],
   "source": [
    "#Sum 1 to n\n",
    "n=int(input());\n",
    "i=1;\n",
    "sum=0;\n",
    "while(i<=n):\n",
    "    sum=sum + i;\n",
    "    i=i+1;\n",
    "print(sum);"
   ]
  },
  {
   "cell_type": "code",
   "execution_count": null,
   "metadata": {},
   "outputs": [],
   "source": [
    "#sum of even numbers\n",
    "n=int(input());\n",
    "i=1;\n",
    "sum=0;\n",
    "while(i<=n):\n",
    "    if(i%2==0):\n",
    "        sum=sum + i;\n",
    "    i=i+1;\n",
    "print(sum);"
   ]
  },
  {
   "cell_type": "code",
   "execution_count": null,
   "metadata": {},
   "outputs": [],
   "source": [
    "#Palindrome\n",
    "def checkPalindrome(n):\n",
    "\n",
    "    temp=n\n",
    "    rev=0\n",
    "    while(n>0):\n",
    "        dig=n%10\n",
    "        rev=rev*10+dig\n",
    "        n=n//10\n",
    "    if(temp==rev):\n",
    "        print(\"true\")\n",
    "    else:\n",
    "        print(\"false\")\n",
    "\n",
    "num = int(input())\n",
    "isPalindrome = checkPalindrome(num)"
   ]
  },
  {
   "cell_type": "code",
   "execution_count": null,
   "metadata": {},
   "outputs": [],
   "source": [
    "#Reverse\n",
    "def reverse(n):\n",
    "    rev=0\n",
    "    while(n > 0): \n",
    "        a=n%10\n",
    "        rev=(rev*10)+a\n",
    "        n=n//10\n",
    "    return rev\n",
    "\n",
    "n=int(input())\n",
    "result = reverse(n)\n",
    "print(result)\n",
    "\n",
    "'''This is because when you make an assignment to a variable in a scope,\n",
    "that variable becomes local to that scope and shadows any similarly named variable in the outer scope\n",
    "rev=0\n",
    "def reverse(n):\n",
    "    global rev\n",
    "    while(n > 0): \n",
    "        a=n%10\n",
    "        rev=(rev*10)+a\n",
    "        n=n//10\n",
    "    return rev\n",
    "\n",
    "n=int(input())\n",
    "result = reverse(n)\n",
    "print(result)\n",
    "\n",
    "because since it is global to the scope you need to mention in the function'''"
   ]
  },
  {
   "cell_type": "code",
   "execution_count": null,
   "metadata": {},
   "outputs": [],
   "source": [
    "#Even Odd sum\n",
    "n=int(input())\n",
    "even=0\n",
    "odd=0\n",
    "while(n>0):\n",
    "    a=n%10\n",
    "    if(a%2==0):\n",
    "        even=even+a\n",
    "    else:\n",
    "        odd=odd+a\n",
    "    n=n//10\n",
    "print (str(even)+' '+str(odd))"
   ]
  },
  {
   "cell_type": "code",
   "execution_count": null,
   "metadata": {},
   "outputs": [],
   "source": [
    "#fibonnaci\n",
    "\n",
    "def fibonacci(n): \n",
    "    a = 0\n",
    "    b = 1\n",
    "    if n == 0:\n",
    "        return a\n",
    "    elif n == 1:\n",
    "        return b\n",
    "    else:\n",
    "        for i in range(2,n+1):\n",
    "            c = a + b\n",
    "            a = b\n",
    "            b = c\n",
    "    return b\n",
    "n=int(input())  \n",
    "print(fibonacci(n))"
   ]
  },
  {
   "cell_type": "code",
   "execution_count": null,
   "metadata": {},
   "outputs": [],
   "source": [
    "#F TO C\n",
    "import math \n",
    "c=0\n",
    "S=int(input())\n",
    "E=int(input())\n",
    "W=int(input())\n",
    "while(S<=E):\n",
    "    c=(S-32)/1.8\n",
    "    if c>0:\n",
    "        c=math.floor(c)\n",
    "    else:\n",
    "        c=math.ceil(c)\n",
    "    print(str(S)+\"\\t\" + str(c))\n",
    "    S=S+W"
   ]
  }
 ],
 "metadata": {
  "kernelspec": {
   "display_name": "Python 3",
   "language": "python",
   "name": "python3"
  },
  "language_info": {
   "codemirror_mode": {
    "name": "ipython",
    "version": 3
   },
   "file_extension": ".py",
   "mimetype": "text/x-python",
   "name": "python",
   "nbconvert_exporter": "python",
   "pygments_lexer": "ipython3",
   "version": "3.8.2"
  }
 },
 "nbformat": 4,
 "nbformat_minor": 4
}
