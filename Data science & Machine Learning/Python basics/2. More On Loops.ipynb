{
 "cells": [
  {
   "cell_type": "markdown",
   "metadata": {},
   "source": [
    "Write a program to print first x terms of the series 3N + 2 which are not multiples of 4."
   ]
  },
  {
   "cell_type": "code",
   "execution_count": null,
   "metadata": {},
   "outputs": [],
   "source": [
    "## Read input as specified in the question.\n",
    "## Print output as specified in the question.\n",
    "x=int(input())\n",
    "\n",
    "count = 1\n",
    "current = 1\n",
    "\n",
    "while(count <= x):\n",
    "    num = 3 * current + 2\n",
    "    \n",
    "    if num % 4 != 0:\n",
    "        print(num, end=\" \")\n",
    "        count += 1\n",
    "        \n",
    "    current += 1"
   ]
  },
  {
   "cell_type": "markdown",
   "metadata": {},
   "source": [
    "Write a program that asks the user for a number N and a choice C. And then give them the possibility to choose between computing the sum and computing the product of all integers in the range 1 to N (both inclusive).\n",
    "If C is equal to -\n",
    " 1, then print the sum\n",
    " 2, then print the product\n",
    " Any other number, then print '-1' (without the quotes)"
   ]
  },
  {
   "cell_type": "code",
   "execution_count": null,
   "metadata": {},
   "outputs": [],
   "source": [
    "n=int(input())\n",
    "c=int(input())\n",
    "if c==1:\n",
    "    x=0\n",
    "else:\n",
    "    x=1\n",
    "\n",
    "for i in range(1,n+1):\n",
    "    if c==1:\n",
    "        x=x+i\n",
    "    elif c==2:\n",
    "        x=x*i\n",
    "    else:\n",
    "        x=-1\n",
    "        break\n",
    "print(x)"
   ]
  },
  {
   "cell_type": "markdown",
   "metadata": {},
   "source": [
    "Given a number N, find its square root. You need to find and print only the integral part of square root of N."
   ]
  },
  {
   "cell_type": "code",
   "execution_count": null,
   "metadata": {},
   "outputs": [],
   "source": [
    "## Read input as specified in the question.\n",
    "## Print output as specified in the question.\n",
    "import math\n",
    "n=int(input())\n",
    "x=math.floor(math.sqrt(n))\n",
    "print(x)\n"
   ]
  },
  {
   "cell_type": "code",
   "execution_count": 2,
   "metadata": {},
   "outputs": [
    {
     "name": "stdout",
     "output_type": "stream",
     "text": [
      "1 2 3 4 Else is also printed\n"
     ]
    }
   ],
   "source": [
    "## Output\n",
    "i=1\n",
    "while i<5:\n",
    "    if i == 6:\n",
    "        break\n",
    "    print(i,end=\" \")\n",
    "    i = i + 1\n",
    "else:\n",
    "    print('Else is also printed')"
   ]
  },
  {
   "cell_type": "code",
   "execution_count": 4,
   "metadata": {},
   "outputs": [
    {
     "name": "stdout",
     "output_type": "stream",
     "text": [
      "1 2 "
     ]
    }
   ],
   "source": [
    "## output\n",
    "\n",
    "i=1\n",
    "while i<5:\n",
    "    if i == 3:\n",
    "        break\n",
    "    print(i,end=' ')\n",
    "    i = i + 1\n",
    "else:\n",
    "    print('Else is also printed')"
   ]
  },
  {
   "cell_type": "markdown",
   "metadata": {},
   "source": [
    "Decimal to binary"
   ]
  },
  {
   "cell_type": "code",
   "execution_count": null,
   "metadata": {},
   "outputs": [],
   "source": [
    "## Read input as specified in the question.\n",
    "## Print output as specified in the question.\n",
    "n=int(input())\n",
    "print(bin(n).replace(\"0b\", \"\"))"
   ]
  },
  {
   "cell_type": "markdown",
   "metadata": {},
   "source": [
    "Binary to decimal"
   ]
  },
  {
   "cell_type": "code",
   "execution_count": null,
   "metadata": {},
   "outputs": [],
   "source": [
    "## Read input as specified in the question.\n",
    "## Print output as specified in the question.\n",
    "n=input()\n",
    "print(int(n,2))"
   ]
  },
  {
   "cell_type": "markdown",
   "metadata": {},
   "source": [
    "# Doubts"
   ]
  },
  {
   "cell_type": "markdown",
   "metadata": {},
   "source": [
    "### Even Fibonacci Numbers\n",
    "Send Feedback\n",
    "Given a number N find the sum of all the even valued terms in the fibonacci sequence less than or equal to N. Try generating only even fibonacci numbers instead of iterating over all Fibonacci numbers."
   ]
  },
  {
   "cell_type": "code",
   "execution_count": null,
   "metadata": {},
   "outputs": [],
   "source": [
    "n=int(input())\n",
    "def fib(n):\n",
    "    a=1 # starting from 1 because 0 doesn't count to sum\n",
    "    b=1 # taking first \n",
    "    sum=0\n",
    "    while a<=n : # i have used a rather than c because i want to consider first term also\n",
    "        if a%2==0: # i moved it up because i don't want to miss even single value of a\n",
    "            sum=sum+a\n",
    "        c=a+b # just swapping \n",
    "        a=b\n",
    "        b=c\n",
    "    return sum\n",
    "print(fib(n))\n",
    "\n",
    "            "
   ]
  },
  {
   "cell_type": "code",
   "execution_count": null,
   "metadata": {},
   "outputs": [],
   "source": [
    "n=int(input())\n",
    "def fib(n):\n",
    "    if n<2:\n",
    "        return 0\n",
    "    s = 0 \n",
    "    a = 0\n",
    "    b = 2\n",
    "    s = a+b\n",
    "    while b<=n:\n",
    "        c = 4*b + a\n",
    "        if c>n:\n",
    "            break\n",
    "        a = b\n",
    "        b = c\n",
    "        s+=b\n",
    "    return s\n",
    "    \n",
    "print(fib(n))\n"
   ]
  },
  {
   "cell_type": "markdown",
   "metadata": {},
   "source": [
    "Trailing 0's in n!"
   ]
  },
  {
   "cell_type": "code",
   "execution_count": null,
   "metadata": {},
   "outputs": [],
   "source": [
    "import math\n",
    "n=int(input())\n",
    "count=0\n",
    "i=5\n",
    "while(n//i >= 1):\n",
    "    count = count + math.floor(n/i) \n",
    "    i *= 5\n",
    "print(count)"
   ]
  }
 ],
 "metadata": {
  "kernelspec": {
   "display_name": "Python 3",
   "language": "python",
   "name": "python3"
  },
  "language_info": {
   "codemirror_mode": {
    "name": "ipython",
    "version": 3
   },
   "file_extension": ".py",
   "mimetype": "text/x-python",
   "name": "python",
   "nbconvert_exporter": "python",
   "pygments_lexer": "ipython3",
   "version": "3.8.2"
  }
 },
 "nbformat": 4,
 "nbformat_minor": 4
}
