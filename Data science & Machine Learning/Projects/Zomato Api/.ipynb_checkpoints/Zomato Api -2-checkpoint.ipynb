{
 "cells": [
  {
   "cell_type": "markdown",
   "metadata": {},
   "source": [
    "# Zomato API - II"
   ]
  },
  {
   "cell_type": "markdown",
   "metadata": {},
   "source": [
    "## Gathering data\n",
    "\n",
    "Due to Zomato API Basic Plan restriction, we cannot collect enough data for analysis. To overcome this problem ‘Zomato.csv’ file is provided to analyse the data deeply and to get useful inference.\n",
    "Data has been collected from the Zomato API in the form of .json files(raw data) using the following url (\"https://developers.zomato.com/api/v2.1/search?entity_id=1&entity_type=city&start=1&count=20 \") and stored in CSV file."
   ]
  },
  {
   "cell_type": "markdown",
   "metadata": {},
   "source": [
    "### Importing libraries"
   ]
  },
  {
   "cell_type": "code",
   "execution_count": 1,
   "metadata": {},
   "outputs": [],
   "source": [
    "import pandas as pd\n",
    "import numpy as np\n",
    "import seaborn as sns\n",
    "import matplotlib.pyplot as plt"
   ]
  },
  {
   "cell_type": "code",
   "execution_count": 2,
   "metadata": {},
   "outputs": [],
   "source": [
    "df_orig=pd.read_csv('zomato.csv',encoding='ISO-8859-1')\n",
    "df=df_orig.copy()"
   ]
  },
  {
   "cell_type": "markdown",
   "metadata": {},
   "source": [
    "## Assessing data"
   ]
  },
  {
   "cell_type": "code",
   "execution_count": 3,
   "metadata": {},
   "outputs": [
    {
     "data": {
      "text/html": [
       "<div>\n",
       "<style scoped>\n",
       "    .dataframe tbody tr th:only-of-type {\n",
       "        vertical-align: middle;\n",
       "    }\n",
       "\n",
       "    .dataframe tbody tr th {\n",
       "        vertical-align: top;\n",
       "    }\n",
       "\n",
       "    .dataframe thead th {\n",
       "        text-align: right;\n",
       "    }\n",
       "</style>\n",
       "<table border=\"1\" class=\"dataframe\">\n",
       "  <thead>\n",
       "    <tr style=\"text-align: right;\">\n",
       "      <th></th>\n",
       "      <th>Restaurant ID</th>\n",
       "      <th>Restaurant Name</th>\n",
       "      <th>Country Code</th>\n",
       "      <th>City</th>\n",
       "      <th>Address</th>\n",
       "      <th>Locality</th>\n",
       "      <th>Locality Verbose</th>\n",
       "      <th>Longitude</th>\n",
       "      <th>Latitude</th>\n",
       "      <th>Cuisines</th>\n",
       "      <th>...</th>\n",
       "      <th>Currency</th>\n",
       "      <th>Has Table booking</th>\n",
       "      <th>Has Online delivery</th>\n",
       "      <th>Is delivering now</th>\n",
       "      <th>Switch to order menu</th>\n",
       "      <th>Price range</th>\n",
       "      <th>Aggregate rating</th>\n",
       "      <th>Rating color</th>\n",
       "      <th>Rating text</th>\n",
       "      <th>Votes</th>\n",
       "    </tr>\n",
       "  </thead>\n",
       "  <tbody>\n",
       "    <tr>\n",
       "      <th>0</th>\n",
       "      <td>6317637</td>\n",
       "      <td>Le Petit Souffle</td>\n",
       "      <td>162</td>\n",
       "      <td>Makati City</td>\n",
       "      <td>Third Floor, Century City Mall, Kalayaan Avenu...</td>\n",
       "      <td>Century City Mall, Poblacion, Makati City</td>\n",
       "      <td>Century City Mall, Poblacion, Makati City, Mak...</td>\n",
       "      <td>121.027535</td>\n",
       "      <td>14.565443</td>\n",
       "      <td>French, Japanese, Desserts</td>\n",
       "      <td>...</td>\n",
       "      <td>Botswana Pula(P)</td>\n",
       "      <td>Yes</td>\n",
       "      <td>No</td>\n",
       "      <td>No</td>\n",
       "      <td>No</td>\n",
       "      <td>3</td>\n",
       "      <td>4.8</td>\n",
       "      <td>Dark Green</td>\n",
       "      <td>Excellent</td>\n",
       "      <td>314</td>\n",
       "    </tr>\n",
       "    <tr>\n",
       "      <th>1</th>\n",
       "      <td>6304287</td>\n",
       "      <td>Izakaya Kikufuji</td>\n",
       "      <td>162</td>\n",
       "      <td>Makati City</td>\n",
       "      <td>Little Tokyo, 2277 Chino Roces Avenue, Legaspi...</td>\n",
       "      <td>Little Tokyo, Legaspi Village, Makati City</td>\n",
       "      <td>Little Tokyo, Legaspi Village, Makati City, Ma...</td>\n",
       "      <td>121.014101</td>\n",
       "      <td>14.553708</td>\n",
       "      <td>Japanese</td>\n",
       "      <td>...</td>\n",
       "      <td>Botswana Pula(P)</td>\n",
       "      <td>Yes</td>\n",
       "      <td>No</td>\n",
       "      <td>No</td>\n",
       "      <td>No</td>\n",
       "      <td>3</td>\n",
       "      <td>4.5</td>\n",
       "      <td>Dark Green</td>\n",
       "      <td>Excellent</td>\n",
       "      <td>591</td>\n",
       "    </tr>\n",
       "    <tr>\n",
       "      <th>2</th>\n",
       "      <td>6300002</td>\n",
       "      <td>Heat - Edsa Shangri-La</td>\n",
       "      <td>162</td>\n",
       "      <td>Mandaluyong City</td>\n",
       "      <td>Edsa Shangri-La, 1 Garden Way, Ortigas, Mandal...</td>\n",
       "      <td>Edsa Shangri-La, Ortigas, Mandaluyong City</td>\n",
       "      <td>Edsa Shangri-La, Ortigas, Mandaluyong City, Ma...</td>\n",
       "      <td>121.056831</td>\n",
       "      <td>14.581404</td>\n",
       "      <td>Seafood, Asian, Filipino, Indian</td>\n",
       "      <td>...</td>\n",
       "      <td>Botswana Pula(P)</td>\n",
       "      <td>Yes</td>\n",
       "      <td>No</td>\n",
       "      <td>No</td>\n",
       "      <td>No</td>\n",
       "      <td>4</td>\n",
       "      <td>4.4</td>\n",
       "      <td>Green</td>\n",
       "      <td>Very Good</td>\n",
       "      <td>270</td>\n",
       "    </tr>\n",
       "    <tr>\n",
       "      <th>3</th>\n",
       "      <td>6318506</td>\n",
       "      <td>Ooma</td>\n",
       "      <td>162</td>\n",
       "      <td>Mandaluyong City</td>\n",
       "      <td>Third Floor, Mega Fashion Hall, SM Megamall, O...</td>\n",
       "      <td>SM Megamall, Ortigas, Mandaluyong City</td>\n",
       "      <td>SM Megamall, Ortigas, Mandaluyong City, Mandal...</td>\n",
       "      <td>121.056475</td>\n",
       "      <td>14.585318</td>\n",
       "      <td>Japanese, Sushi</td>\n",
       "      <td>...</td>\n",
       "      <td>Botswana Pula(P)</td>\n",
       "      <td>No</td>\n",
       "      <td>No</td>\n",
       "      <td>No</td>\n",
       "      <td>No</td>\n",
       "      <td>4</td>\n",
       "      <td>4.9</td>\n",
       "      <td>Dark Green</td>\n",
       "      <td>Excellent</td>\n",
       "      <td>365</td>\n",
       "    </tr>\n",
       "    <tr>\n",
       "      <th>4</th>\n",
       "      <td>6314302</td>\n",
       "      <td>Sambo Kojin</td>\n",
       "      <td>162</td>\n",
       "      <td>Mandaluyong City</td>\n",
       "      <td>Third Floor, Mega Atrium, SM Megamall, Ortigas...</td>\n",
       "      <td>SM Megamall, Ortigas, Mandaluyong City</td>\n",
       "      <td>SM Megamall, Ortigas, Mandaluyong City, Mandal...</td>\n",
       "      <td>121.057508</td>\n",
       "      <td>14.584450</td>\n",
       "      <td>Japanese, Korean</td>\n",
       "      <td>...</td>\n",
       "      <td>Botswana Pula(P)</td>\n",
       "      <td>Yes</td>\n",
       "      <td>No</td>\n",
       "      <td>No</td>\n",
       "      <td>No</td>\n",
       "      <td>4</td>\n",
       "      <td>4.8</td>\n",
       "      <td>Dark Green</td>\n",
       "      <td>Excellent</td>\n",
       "      <td>229</td>\n",
       "    </tr>\n",
       "  </tbody>\n",
       "</table>\n",
       "<p>5 rows × 21 columns</p>\n",
       "</div>"
      ],
      "text/plain": [
       "   Restaurant ID         Restaurant Name  Country Code              City  \\\n",
       "0        6317637        Le Petit Souffle           162       Makati City   \n",
       "1        6304287        Izakaya Kikufuji           162       Makati City   \n",
       "2        6300002  Heat - Edsa Shangri-La           162  Mandaluyong City   \n",
       "3        6318506                    Ooma           162  Mandaluyong City   \n",
       "4        6314302             Sambo Kojin           162  Mandaluyong City   \n",
       "\n",
       "                                             Address  \\\n",
       "0  Third Floor, Century City Mall, Kalayaan Avenu...   \n",
       "1  Little Tokyo, 2277 Chino Roces Avenue, Legaspi...   \n",
       "2  Edsa Shangri-La, 1 Garden Way, Ortigas, Mandal...   \n",
       "3  Third Floor, Mega Fashion Hall, SM Megamall, O...   \n",
       "4  Third Floor, Mega Atrium, SM Megamall, Ortigas...   \n",
       "\n",
       "                                     Locality  \\\n",
       "0   Century City Mall, Poblacion, Makati City   \n",
       "1  Little Tokyo, Legaspi Village, Makati City   \n",
       "2  Edsa Shangri-La, Ortigas, Mandaluyong City   \n",
       "3      SM Megamall, Ortigas, Mandaluyong City   \n",
       "4      SM Megamall, Ortigas, Mandaluyong City   \n",
       "\n",
       "                                    Locality Verbose   Longitude   Latitude  \\\n",
       "0  Century City Mall, Poblacion, Makati City, Mak...  121.027535  14.565443   \n",
       "1  Little Tokyo, Legaspi Village, Makati City, Ma...  121.014101  14.553708   \n",
       "2  Edsa Shangri-La, Ortigas, Mandaluyong City, Ma...  121.056831  14.581404   \n",
       "3  SM Megamall, Ortigas, Mandaluyong City, Mandal...  121.056475  14.585318   \n",
       "4  SM Megamall, Ortigas, Mandaluyong City, Mandal...  121.057508  14.584450   \n",
       "\n",
       "                           Cuisines  ...          Currency Has Table booking  \\\n",
       "0        French, Japanese, Desserts  ...  Botswana Pula(P)               Yes   \n",
       "1                          Japanese  ...  Botswana Pula(P)               Yes   \n",
       "2  Seafood, Asian, Filipino, Indian  ...  Botswana Pula(P)               Yes   \n",
       "3                   Japanese, Sushi  ...  Botswana Pula(P)                No   \n",
       "4                  Japanese, Korean  ...  Botswana Pula(P)               Yes   \n",
       "\n",
       "  Has Online delivery Is delivering now Switch to order menu Price range  \\\n",
       "0                  No                No                   No           3   \n",
       "1                  No                No                   No           3   \n",
       "2                  No                No                   No           4   \n",
       "3                  No                No                   No           4   \n",
       "4                  No                No                   No           4   \n",
       "\n",
       "   Aggregate rating  Rating color Rating text Votes  \n",
       "0               4.8    Dark Green   Excellent   314  \n",
       "1               4.5    Dark Green   Excellent   591  \n",
       "2               4.4         Green   Very Good   270  \n",
       "3               4.9    Dark Green   Excellent   365  \n",
       "4               4.8    Dark Green   Excellent   229  \n",
       "\n",
       "[5 rows x 21 columns]"
      ]
     },
     "execution_count": 3,
     "metadata": {},
     "output_type": "execute_result"
    }
   ],
   "source": [
    "df.head()"
   ]
  },
  {
   "cell_type": "code",
   "execution_count": 4,
   "metadata": {},
   "outputs": [
    {
     "data": {
      "text/plain": [
       "(9551, 21)"
      ]
     },
     "execution_count": 4,
     "metadata": {},
     "output_type": "execute_result"
    }
   ],
   "source": [
    "df.shape"
   ]
  },
  {
   "cell_type": "code",
   "execution_count": 5,
   "metadata": {
    "scrolled": true
   },
   "outputs": [
    {
     "name": "stdout",
     "output_type": "stream",
     "text": [
      "<class 'pandas.core.frame.DataFrame'>\n",
      "RangeIndex: 9551 entries, 0 to 9550\n",
      "Data columns (total 21 columns):\n",
      " #   Column                Non-Null Count  Dtype  \n",
      "---  ------                --------------  -----  \n",
      " 0   Restaurant ID         9551 non-null   int64  \n",
      " 1   Restaurant Name       9551 non-null   object \n",
      " 2   Country Code          9551 non-null   int64  \n",
      " 3   City                  9551 non-null   object \n",
      " 4   Address               9551 non-null   object \n",
      " 5   Locality              9551 non-null   object \n",
      " 6   Locality Verbose      9551 non-null   object \n",
      " 7   Longitude             9551 non-null   float64\n",
      " 8   Latitude              9551 non-null   float64\n",
      " 9   Cuisines              9542 non-null   object \n",
      " 10  Average Cost for two  9551 non-null   int64  \n",
      " 11  Currency              9551 non-null   object \n",
      " 12  Has Table booking     9551 non-null   object \n",
      " 13  Has Online delivery   9551 non-null   object \n",
      " 14  Is delivering now     9551 non-null   object \n",
      " 15  Switch to order menu  9551 non-null   object \n",
      " 16  Price range           9551 non-null   int64  \n",
      " 17  Aggregate rating      9551 non-null   float64\n",
      " 18  Rating color          9551 non-null   object \n",
      " 19  Rating text           9551 non-null   object \n",
      " 20  Votes                 9551 non-null   int64  \n",
      "dtypes: float64(3), int64(5), object(13)\n",
      "memory usage: 1.1+ MB\n"
     ]
    }
   ],
   "source": [
    "df.info()"
   ]
  },
  {
   "cell_type": "markdown",
   "metadata": {},
   "source": [
    "#### Checking for null values"
   ]
  },
  {
   "cell_type": "code",
   "execution_count": 6,
   "metadata": {
    "scrolled": true
   },
   "outputs": [
    {
     "data": {
      "text/plain": [
       "Restaurant ID           0\n",
       "Restaurant Name         0\n",
       "Country Code            0\n",
       "City                    0\n",
       "Address                 0\n",
       "Locality                0\n",
       "Locality Verbose        0\n",
       "Longitude               0\n",
       "Latitude                0\n",
       "Cuisines                9\n",
       "Average Cost for two    0\n",
       "Currency                0\n",
       "Has Table booking       0\n",
       "Has Online delivery     0\n",
       "Is delivering now       0\n",
       "Switch to order menu    0\n",
       "Price range             0\n",
       "Aggregate rating        0\n",
       "Rating color            0\n",
       "Rating text             0\n",
       "Votes                   0\n",
       "dtype: int64"
      ]
     },
     "execution_count": 6,
     "metadata": {},
     "output_type": "execute_result"
    }
   ],
   "source": [
    "df.isnull().sum()"
   ]
  },
  {
   "cell_type": "code",
   "execution_count": 7,
   "metadata": {},
   "outputs": [
    {
     "data": {
      "text/plain": [
       "array(['Makati City', 'Mandaluyong City', 'Pasay City', 'Pasig City',\n",
       "       'Quezon City', 'San Juan City', 'Santa Rosa', 'Tagaytay City',\n",
       "       'Taguig City', 'Brasí_lia', 'Rio de Janeiro', 'Sí£o Paulo',\n",
       "       'Albany', 'Armidale', 'Athens', 'Augusta', 'Balingup',\n",
       "       'Beechworth', 'Boise', 'Cedar Rapids/Iowa City', 'Chatham-Kent',\n",
       "       'Clatskanie', 'Cochrane', 'Columbus', 'Consort', 'Dalton',\n",
       "       'Davenport', 'Des Moines', 'Dicky Beach', 'Dubuque',\n",
       "       'East Ballina', 'Fernley', 'Flaxton', 'Forrest', 'Gainesville',\n",
       "       'Hepburn Springs', 'Huskisson', 'Inverloch', 'Lakes Entrance',\n",
       "       'Lakeview', 'Lincoln', 'Lorn', 'Macedon', 'Macon', 'Mayfield',\n",
       "       'Mc Millan', 'Middleton Beach', 'Miller', 'Monroe', 'Montville',\n",
       "       'Ojo Caliente', 'Orlando', 'Palm Cove', 'Paynesville', 'Penola',\n",
       "       'Pensacola', 'Phillip Island', 'Pocatello', 'Potrero', 'Princeton',\n",
       "       'Rest of Hawaii', 'Savannah', 'Singapore', 'Sioux City',\n",
       "       'Tampa Bay', 'Tanunda', 'Trentham East', 'Valdosta', 'Vernonia',\n",
       "       'Victor Harbor', 'Vineland Station', 'Waterloo', 'Weirton',\n",
       "       'Winchester Bay', 'Yorkton', 'Abu Dhabi', 'Dubai', 'Sharjah',\n",
       "       'Agra', 'Ahmedabad', 'Allahabad', 'Amritsar', 'Aurangabad',\n",
       "       'Bangalore', 'Bhopal', 'Bhubaneshwar', 'Chandigarh', 'Chennai',\n",
       "       'Coimbatore', 'Dehradun', 'Faridabad', 'Ghaziabad', 'Goa',\n",
       "       'Gurgaon', 'Guwahati', 'Hyderabad', 'Indore', 'Jaipur', 'Kanpur',\n",
       "       'Kochi', 'Kolkata', 'Lucknow', 'Ludhiana', 'Mangalore', 'Mohali',\n",
       "       'Mumbai', 'Mysore', 'Nagpur', 'Nashik', 'New Delhi', 'Noida',\n",
       "       'Panchkula', 'Patna', 'Puducherry', 'Pune', 'Ranchi',\n",
       "       'Secunderabad', 'Surat', 'Vadodara', 'Varanasi', 'Vizag',\n",
       "       'Bandung', 'Bogor', 'Jakarta', 'Tangerang', 'Auckland',\n",
       "       'Wellington City', 'Birmingham', 'Edinburgh', 'London',\n",
       "       'Manchester', 'Doha', 'Cape Town', 'Inner City', 'Johannesburg',\n",
       "       'Pretoria', 'Randburg', 'Sandton', 'Colombo', 'Ankara',\n",
       "       'ÛÁstanbul'], dtype=object)"
      ]
     },
     "execution_count": 7,
     "metadata": {},
     "output_type": "execute_result"
    }
   ],
   "source": [
    "df.City.unique()"
   ]
  },
  {
   "cell_type": "markdown",
   "metadata": {},
   "source": [
    "## Cleaning Data:"
   ]
  },
  {
   "cell_type": "code",
   "execution_count": 8,
   "metadata": {},
   "outputs": [],
   "source": [
    "df.drop(['Has Table booking','Is delivering now','Switch to order menu','Rating color'], axis = 1, inplace = True)"
   ]
  },
  {
   "cell_type": "code",
   "execution_count": 9,
   "metadata": {},
   "outputs": [
    {
     "name": "stdout",
     "output_type": "stream",
     "text": [
      "<class 'pandas.core.frame.DataFrame'>\n",
      "RangeIndex: 9551 entries, 0 to 9550\n",
      "Data columns (total 17 columns):\n",
      " #   Column                Non-Null Count  Dtype  \n",
      "---  ------                --------------  -----  \n",
      " 0   Restaurant ID         9551 non-null   int64  \n",
      " 1   Restaurant Name       9551 non-null   object \n",
      " 2   Country Code          9551 non-null   int64  \n",
      " 3   City                  9551 non-null   object \n",
      " 4   Address               9551 non-null   object \n",
      " 5   Locality              9551 non-null   object \n",
      " 6   Locality Verbose      9551 non-null   object \n",
      " 7   Longitude             9551 non-null   float64\n",
      " 8   Latitude              9551 non-null   float64\n",
      " 9   Cuisines              9542 non-null   object \n",
      " 10  Average Cost for two  9551 non-null   int64  \n",
      " 11  Currency              9551 non-null   object \n",
      " 12  Has Online delivery   9551 non-null   object \n",
      " 13  Price range           9551 non-null   int64  \n",
      " 14  Aggregate rating      9551 non-null   float64\n",
      " 15  Rating text           9551 non-null   object \n",
      " 16  Votes                 9551 non-null   int64  \n",
      "dtypes: float64(3), int64(5), object(9)\n",
      "memory usage: 932.8+ KB\n"
     ]
    }
   ],
   "source": [
    "df.info()"
   ]
  },
  {
   "cell_type": "code",
   "execution_count": 10,
   "metadata": {},
   "outputs": [],
   "source": [
    "df = df[df['Country Code'] == 1]\n",
    "df.reset_index(drop = True, inplace = True)"
   ]
  },
  {
   "cell_type": "code",
   "execution_count": 11,
   "metadata": {},
   "outputs": [],
   "source": [
    "df['City'].replace('New Delhi', 'ncr', inplace = True)\n",
    "df['City'].replace('Ghaziabad', 'ncr', inplace = True)\n",
    "df['City'].replace('Noida', 'ncr', inplace = True)\n",
    "df['City'].replace('Gurgaon', 'ncr', inplace = True)\n",
    "df['City'].replace('Faridabad', 'ncr', inplace = True)\n",
    "\n",
    "# all other cities as Rest of India\n",
    "indexes = df[df['City'] != 'ncr'].index\n",
    "\n",
    "df.loc[indexes, 'City'] = 'rest'\n"
   ]
  },
  {
   "cell_type": "markdown",
   "metadata": {},
   "source": [
    "## Data analysis and Visualisation"
   ]
  },
  {
   "cell_type": "markdown",
   "metadata": {},
   "source": [
    "### No. of restraunts in Delhi NCR vs rest of India"
   ]
  },
  {
   "cell_type": "code",
   "execution_count": 12,
   "metadata": {},
   "outputs": [
    {
     "name": "stdout",
     "output_type": "stream",
     "text": [
      "No. of restraunts in Delhi Ncr : 7947\n",
      "No. of restraunts in other cities : 705\n"
     ]
    }
   ],
   "source": [
    "region=df.City.value_counts().index\n",
    "val=df.City.value_counts().values\n",
    "print(\"No. of restraunts in Delhi Ncr :\", val[0])\n",
    "print(\"No. of restraunts in other cities :\", val[1])\n"
   ]
  },
  {
   "cell_type": "code",
   "execution_count": 13,
   "metadata": {},
   "outputs": [
    {
     "data": {
      "image/png": "[encoded data removed]",
      "text/plain": [
       "<Figure size 432x288 with 1 Axes>"
      ]
     },
     "metadata": {},
     "output_type": "display_data"
    },
    {
     "data": {
      "image/png": "[encoded data removed]",
      "text/plain": [
       "<Figure size 432x288 with 1 Axes>"
      ]
     },
     "metadata": {},
     "output_type": "display_data"
    }
   ],
   "source": [
    "sns.set()\n",
    "sns.barplot(x=region,y=val,)\n",
    "plt.ylabel(\"No. of restraunts\")\n",
    "plt.xlabel(\"Region of India\")\n",
    "plt.title(\"No. Of Restraunts in India\")\n",
    "plt.show()\n",
    "\n",
    "colors=[\"purple\",\"pink\"]\n",
    "plt.pie(val,labels = region,explode=[0,0.15],colors=colors,autopct = \"%.2f\")\n",
    "plt.show()"
   ]
  },
  {
   "cell_type": "markdown",
   "metadata": {},
   "source": [
    "### Find the cuisines which are not present in restaurant of Delhi NCR but present in rest of India.Check using Zomato API whether this cuisines are actually not served in restaurants of Delhi-NCR or just it due to incomplete dataset.\n"
   ]
  },
  {
   "cell_type": "code",
   "execution_count": 14,
   "metadata": {},
   "outputs": [
    {
     "name": "stdout",
     "output_type": "stream",
     "text": [
      "{'Cajun', 'German', 'Malwani', 'BBQ'}\n"
     ]
    }
   ],
   "source": [
    "delhi = []\n",
    "others=[]\n",
    "for i in range(len(df['City'])):\n",
    "    if df['City'][i] =='ncr':\n",
    "        if ',' in df['Cuisines'][i]:\n",
    "            cu = df['Cuisines'][i].split(',')\n",
    "            for j in cu:\n",
    "                delhi.append(j.strip())\n",
    "        else:\n",
    "            delhi.append(df['Cuisines'][i])\n",
    "    else:\n",
    "        if ',' in df['Cuisines'][i]:\n",
    "            cu = df['Cuisines'][i].split(',')\n",
    "            for j in cu:\n",
    "                others.append(j.strip())\n",
    "        else:\n",
    "            others.append(df['Cuisines'][i])\n",
    "del_set=set(delhi)\n",
    "oth_set=set(others)\n",
    "only=oth_set-del_set\n",
    "print(only)"
   ]
  },
  {
   "cell_type": "code",
   "execution_count": 15,
   "metadata": {},
   "outputs": [],
   "source": [
    "import requests\n",
    "import json\n",
    "\n",
    "h = {\"user-key\":\"cf1194b048c4e62fcccfc0f02638d919\"}\n",
    "li=['New Delhi', 'Ghaziabad', 'Noida', 'Gurgaon', 'Faridabad']\n",
    "cit=set()\n",
    "\n",
    "for i in li:\n",
    "    p = {'query':i}\n",
    "    r=requests.get(\"https://developers.zomato.com/api/v2.1/locations\",params=p,headers=h)\n",
    "    data=r.json()\n",
    "#     x=data[\"location_sugegstions\"]\n",
    "#     cit.append(x[\"city_id\"])\n",
    "    x=data['location_suggestions']\n",
    "    for j in x:\n",
    "        cit.add(j['city_id'])\n"
   ]
  },
  {
   "cell_type": "code",
   "execution_count": 16,
   "metadata": {},
   "outputs": [
    {
     "name": "stdout",
     "output_type": "stream",
     "text": [
      "Malwani\n",
      "BBQ\n"
     ]
    }
   ],
   "source": [
    "import requests\n",
    "import json\n",
    "\n",
    "cui=set()\n",
    "h = {\"user-key\":\"cf1194b048c4e62fcccfc0f02638d919\"}\n",
    "p={'city_id':1}\n",
    "r=requests.get(\"https://developers.zomato.com/api/v2.1/cuisines\",params=p,headers=h)\n",
    "data=r.json()\n",
    "for i in data['cuisines']:\n",
    "    cui.add(i['cuisine']['cuisine_name'])\n",
    "    \n",
    "li2=['Cajun', 'German', 'BBQ', 'Malwani']\n",
    "for i in only:\n",
    "    if i in cui:\n",
    "        print(i)"
   ]
  },
  {
   "cell_type": "markdown",
   "metadata": {},
   "source": [
    "### Find the top 10 cuisines served by maximum number of restaurants in Delhi NCR and rest of India."
   ]
  },
  {
   "cell_type": "code",
   "execution_count": 17,
   "metadata": {},
   "outputs": [],
   "source": [
    "d={}\n",
    "for i in delhi:\n",
    "        d[i]=d.get(i,0)+1\n",
    "o={}\n",
    "for i in others:\n",
    "        o[i]=o.get(i,0)+1\n",
    "        \n",
    "sort_d = sorted(d.items(), key = lambda kv:kv[1], reverse = True)[:10]\n",
    "sort_o = sorted(o.items(), key = lambda kv:kv[1], reverse = True)[:10]\n"
   ]
  },
  {
   "cell_type": "code",
   "execution_count": 18,
   "metadata": {
    "scrolled": true
   },
   "outputs": [
    {
     "name": "stdout",
     "output_type": "stream",
     "text": [
      "Top 10 cuisines served by maximum number of restaurants in Delhi NCR are: \n",
      "North Indian  :  3597\n",
      "Chinese  :  2448\n",
      "Fast Food  :  1866\n",
      "Mughlai  :  933\n",
      "Bakery  :  697\n",
      "South Indian  :  569\n",
      "Continental  :  547\n",
      "Desserts  :  542\n",
      "Street Food  :  538\n",
      "Italian  :  535\n",
      "-----\n",
      "Top 10 cuisines served by maximum number of restaurants in Rest of India are:\n",
      "North Indian  :  349\n",
      "Chinese  :  242\n",
      "Continental  :  177\n",
      "Italian  :  147\n",
      "Cafe  :  136\n",
      "Fast Food  :  97\n",
      "South Indian  :  62\n",
      "Mughlai  :  59\n",
      "Desserts  :  55\n",
      "Mexican  :  50\n"
     ]
    }
   ],
   "source": [
    "print('Top 10 cuisines served by maximum number of restaurants in Delhi NCR are: ')\n",
    "for i,j in sort_d:\n",
    "    print(i,\" : \",j)\n",
    "print(\"-----\")        \n",
    "print('Top 10 cuisines served by maximum number of restaurants in Rest of India are:')\n",
    "for i,j in sort_o:\n",
    "\n",
    "    print(i,\" : \",j)"
   ]
  },
  {
   "cell_type": "code",
   "execution_count": 19,
   "metadata": {},
   "outputs": [
    {
     "data": {
      "image/png": "[encoded data removed]",
      "text/plain": [
       "<Figure size 432x288 with 1 Axes>"
      ]
     },
     "metadata": {},
     "output_type": "display_data"
    },
    {
     "name": "stdout",
     "output_type": "stream",
     "text": [
      "\n"
     ]
    },
    {
     "data": {
      "image/png": "[encoded data removed]",
      "text/plain": [
       "<Figure size 432x288 with 1 Axes>"
      ]
     },
     "metadata": {},
     "output_type": "display_data"
    }
   ],
   "source": [
    "cui_d=[]\n",
    "val_d=[]\n",
    "\n",
    "cui_r=[]\n",
    "val_r=[]\n",
    "\n",
    "for i,j in sort_d:\n",
    "    cui_d.append(i)\n",
    "    val_d.append(j)\n",
    "    \n",
    "for l,m in sort_o:\n",
    "    cui_r.append(l)\n",
    "    val_r.append(m)\n",
    "    \n",
    "sns.set()\n",
    "sns.set_palette(\"Paired\")\n",
    "sns.barplot(x=val_d,y=cui_d)\n",
    "plt.ylabel(\"Cuisines\")\n",
    "plt.xlabel(\"No. of restraunts\")\n",
    "plt.title(\"Top cuisines served by maximum restraunts in Delhi-NCR\")\n",
    "plt.show()\n",
    "\n",
    "print()\n",
    "\n",
    "sns.set()\n",
    "sns.set_palette(\"RdPu\")\n",
    "sns.barplot(x=val_r,y=cui_r)\n",
    "plt.ylabel(\"Cuisines\")\n",
    "plt.xlabel(\"No. of restraunts\")\n",
    "plt.title(\"Top cuisines served by maximum restraunts in Rest of India\")\n",
    "plt.show()"
   ]
  },
  {
   "cell_type": "markdown",
   "metadata": {},
   "source": [
    "### Q4) Detailed analysis of how cuisine served is different from Delhi NCR to Rest of India."
   ]
  },
  {
   "cell_type": "code",
   "execution_count": null,
   "metadata": {},
   "outputs": [],
   "source": []
  },
  {
   "cell_type": "markdown",
   "metadata": {},
   "source": [
    "### User Rating of a restaurant plays a crucial role in selecting a restaurant or ordering the food from the restaurant:"
   ]
  },
  {
   "cell_type": "code",
   "execution_count": 20,
   "metadata": {},
   "outputs": [
    {
     "ename": "SyntaxError",
     "evalue": "invalid syntax (<ipython-input-20-130dfb27d719>, line 1)",
     "output_type": "error",
     "traceback": [
      "\u001b[1;36m  File \u001b[1;32m\"<ipython-input-20-130dfb27d719>\"\u001b[1;36m, line \u001b[1;32m1\u001b[0m\n\u001b[1;33m    Number of Votes given Restaurant\u001b[0m\n\u001b[1;37m           ^\u001b[0m\n\u001b[1;31mSyntaxError\u001b[0m\u001b[1;31m:\u001b[0m invalid syntax\n"
     ]
    }
   ],
   "source": [
    "Number of Votes given Restaurant"
   ]
  },
  {
   "cell_type": "code",
   "execution_count": null,
   "metadata": {},
   "outputs": [],
   "source": [
    "df['Restaurant Name'].nunique()"
   ]
  },
  {
   "cell_type": "code",
   "execution_count": null,
   "metadata": {},
   "outputs": [],
   "source": [
    "df[\"Has Online delivery\"]\n",
    "df[\"Aggregate rating\"]"
   ]
  }
 ],
 "metadata": {
  "kernelspec": {
   "display_name": "Python 3",
   "language": "python",
   "name": "python3"
  },
  "language_info": {
   "codemirror_mode": {
    "name": "ipython",
    "version": 3
   },
   "file_extension": ".py",
   "mimetype": "text/x-python",
   "name": "python",
   "nbconvert_exporter": "python",
   "pygments_lexer": "ipython3",
   "version": "3.8.2"
  }
 },
 "nbformat": 4,
 "nbformat_minor": 4
}
