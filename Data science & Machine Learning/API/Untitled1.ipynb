{
 "cells": [
  {
   "cell_type": "markdown",
   "metadata": {},
   "source": [
    "## Http Basic authentication: \n",
    "    "
   ]
  },
  {
   "cell_type": "code",
   "execution_count": 3,
   "metadata": {},
   "outputs": [
    {
     "name": "stdout",
     "output_type": "stream",
     "text": [
      "401\n"
     ]
    }
   ],
   "source": [
    "import requests\n",
    "from requests.auth import HTTPBasicAuth\n",
    "a=requests.get('https://api.github.com/user')\n",
    "print(a.status_code)\n",
    "#unsuccessful as requires authentication"
   ]
  },
  {
   "cell_type": "markdown",
   "metadata": {},
   "source": [
    "https://docs.github.com/en/free-pro-team@latest/rest/reference/users#get-the-authenticated-user"
   ]
  },
  {
   "cell_type": "code",
   "execution_count": 6,
   "metadata": {},
   "outputs": [
    {
     "name": "stdout",
     "output_type": "stream",
     "text": [
      "200\n"
     ]
    }
   ],
   "source": [
    "a=requests.get('https://api.github.com/user',auth=HTTPBasicAuth('mridulkhanna2','coding@22'))\n",
    "print(a.status_code)"
   ]
  },
  {
   "cell_type": "code",
   "execution_count": 7,
   "metadata": {},
   "outputs": [
    {
     "name": "stdout",
     "output_type": "stream",
     "text": [
      "200\n"
     ]
    }
   ],
   "source": [
    "a=requests.get('https://api.github.com/user',auth=('mridulkhanna2','coding@22'))\n",
    "print(a.status_code)"
   ]
  },
  {
   "cell_type": "markdown",
   "metadata": {},
   "source": [
    "https://developer.github.com/v3/repos/#create"
   ]
  },
  {
   "cell_type": "code",
   "execution_count": 10,
   "metadata": {},
   "outputs": [],
   "source": [
    "import json\n",
    "info={'name':'test_repo','description':'created via API call','auto_init':'true'}\n",
    "\n",
    "\n",
    "a=a=requests.post('https://api.github.com/user/repos',auth=('mridulkhanna2','coding@22'),data=json.dumps(info))"
   ]
  },
  {
   "cell_type": "code",
   "execution_count": null,
   "metadata": {},
   "outputs": [],
   "source": []
  },
  {
   "cell_type": "markdown",
   "metadata": {},
   "source": [
    "https://www.reddit.com/dev/api/"
   ]
  },
  {
   "cell_type": "markdown",
   "metadata": {},
   "source": [
    "https://github.com/reddit-archive/reddit/wiki/API"
   ]
  },
  {
   "cell_type": "code",
   "execution_count": 15,
   "metadata": {},
   "outputs": [
    {
     "name": "stdout",
     "output_type": "stream",
     "text": [
      "200\n"
     ]
    }
   ],
   "source": [
    "import json\n",
    "a=requests.get('https://api.github.com/repos/google/go-cloud',auth=())\n",
    "print(a.status_code)"
   ]
  },
  {
   "cell_type": "code",
   "execution_count": null,
   "metadata": {},
   "outputs": [],
   "source": []
  },
  {
   "cell_type": "markdown",
   "metadata": {},
   "source": [
    "### Github License\n",
    "\n",
    "Fetch the license used in ‘google/go-cloud’ Github repository from Github API using basic auth i.e by passing username and password\n",
    "Print the license name.\n",
    "Note:Read the Github API documentation carefully.\n",
    "Output Format:\n",
    "license_name"
   ]
  },
  {
   "cell_type": "code",
   "execution_count": 18,
   "metadata": {},
   "outputs": [
    {
     "name": "stdout",
     "output_type": "stream",
     "text": [
      "<class 'requests.models.Response'>\n",
      "Apache License 2.0\n"
     ]
    }
   ],
   "source": [
    "## Open and read data file as specified in the question\n",
    "## Print the required output in given format\n",
    "import requests\n",
    "from requests.auth import HTTPBasicAuth\n",
    "import json\n",
    "a=requests.get('https://api.github.com/repos/google/go-cloud',auth=('mridulkhanna2','coding@22'))\n",
    "# print(type(a))\n",
    "#converting json format to python dict\n",
    "\n",
    "a=a.json()\n",
    "\n",
    "# now since we need license name\n",
    "\n",
    "print(a[\"license\"][\"name\"].strip()) # i have used strip function to remove extra spaces from front and rear"
   ]
  },
  {
   "cell_type": "code",
   "execution_count": 17,
   "metadata": {
    "scrolled": false
   },
   "outputs": [
    {
     "data": {
      "text/plain": [
       "{'id': 126250425,\n",
       " 'node_id': 'MDEwOlJlcG9zaXRvcnkxMjYyNTA0MjU=',\n",
       " 'name': 'go-cloud',\n",
       " 'full_name': 'google/go-cloud',\n",
       " 'private': False,\n",
       " 'owner': {'login': 'google',\n",
       "  'id': 1342004,\n",
       "  'node_id': 'MDEyOk9yZ2FuaXphdGlvbjEzNDIwMDQ=',\n",
       "  'avatar_url': 'https://avatars1.githubusercontent.com/u/1342004?v=4',\n",
       "  'gravatar_id': '',\n",
       "  'url': 'https://api.github.com/users/google',\n",
       "  'html_url': 'https://github.com/google',\n",
       "  'followers_url': 'https://api.github.com/users/google/followers',\n",
       "  'following_url': 'https://api.github.com/users/google/following{/other_user}',\n",
       "  'gists_url': 'https://api.github.com/users/google/gists{/gist_id}',\n",
       "  'starred_url': 'https://api.github.com/users/google/starred{/owner}{/repo}',\n",
       "  'subscriptions_url': 'https://api.github.com/users/google/subscriptions',\n",
       "  'organizations_url': 'https://api.github.com/users/google/orgs',\n",
       "  'repos_url': 'https://api.github.com/users/google/repos',\n",
       "  'events_url': 'https://api.github.com/users/google/events{/privacy}',\n",
       "  'received_events_url': 'https://api.github.com/users/google/received_events',\n",
       "  'type': 'Organization',\n",
       "  'site_admin': False},\n",
       " 'html_url': 'https://github.com/google/go-cloud',\n",
       " 'description': 'The Go Cloud Development Kit (Go CDK): A library and tools for open cloud development in Go.',\n",
       " 'fork': False,\n",
       " 'url': 'https://api.github.com/repos/google/go-cloud',\n",
       " 'forks_url': 'https://api.github.com/repos/google/go-cloud/forks',\n",
       " 'keys_url': 'https://api.github.com/repos/google/go-cloud/keys{/key_id}',\n",
       " 'collaborators_url': 'https://api.github.com/repos/google/go-cloud/collaborators{/collaborator}',\n",
       " 'teams_url': 'https://api.github.com/repos/google/go-cloud/teams',\n",
       " 'hooks_url': 'https://api.github.com/repos/google/go-cloud/hooks',\n",
       " 'issue_events_url': 'https://api.github.com/repos/google/go-cloud/issues/events{/number}',\n",
       " 'events_url': 'https://api.github.com/repos/google/go-cloud/events',\n",
       " 'assignees_url': 'https://api.github.com/repos/google/go-cloud/assignees{/user}',\n",
       " 'branches_url': 'https://api.github.com/repos/google/go-cloud/branches{/branch}',\n",
       " 'tags_url': 'https://api.github.com/repos/google/go-cloud/tags',\n",
       " 'blobs_url': 'https://api.github.com/repos/google/go-cloud/git/blobs{/sha}',\n",
       " 'git_tags_url': 'https://api.github.com/repos/google/go-cloud/git/tags{/sha}',\n",
       " 'git_refs_url': 'https://api.github.com/repos/google/go-cloud/git/refs{/sha}',\n",
       " 'trees_url': 'https://api.github.com/repos/google/go-cloud/git/trees{/sha}',\n",
       " 'statuses_url': 'https://api.github.com/repos/google/go-cloud/statuses/{sha}',\n",
       " 'languages_url': 'https://api.github.com/repos/google/go-cloud/languages',\n",
       " 'stargazers_url': 'https://api.github.com/repos/google/go-cloud/stargazers',\n",
       " 'contributors_url': 'https://api.github.com/repos/google/go-cloud/contributors',\n",
       " 'subscribers_url': 'https://api.github.com/repos/google/go-cloud/subscribers',\n",
       " 'subscription_url': 'https://api.github.com/repos/google/go-cloud/subscription',\n",
       " 'commits_url': 'https://api.github.com/repos/google/go-cloud/commits{/sha}',\n",
       " 'git_commits_url': 'https://api.github.com/repos/google/go-cloud/git/commits{/sha}',\n",
       " 'comments_url': 'https://api.github.com/repos/google/go-cloud/comments{/number}',\n",
       " 'issue_comment_url': 'https://api.github.com/repos/google/go-cloud/issues/comments{/number}',\n",
       " 'contents_url': 'https://api.github.com/repos/google/go-cloud/contents/{+path}',\n",
       " 'compare_url': 'https://api.github.com/repos/google/go-cloud/compare/{base}...{head}',\n",
       " 'merges_url': 'https://api.github.com/repos/google/go-cloud/merges',\n",
       " 'archive_url': 'https://api.github.com/repos/google/go-cloud/{archive_format}{/ref}',\n",
       " 'downloads_url': 'https://api.github.com/repos/google/go-cloud/downloads',\n",
       " 'issues_url': 'https://api.github.com/repos/google/go-cloud/issues{/number}',\n",
       " 'pulls_url': 'https://api.github.com/repos/google/go-cloud/pulls{/number}',\n",
       " 'milestones_url': 'https://api.github.com/repos/google/go-cloud/milestones{/number}',\n",
       " 'notifications_url': 'https://api.github.com/repos/google/go-cloud/notifications{?since,all,participating}',\n",
       " 'labels_url': 'https://api.github.com/repos/google/go-cloud/labels{/name}',\n",
       " 'releases_url': 'https://api.github.com/repos/google/go-cloud/releases{/id}',\n",
       " 'deployments_url': 'https://api.github.com/repos/google/go-cloud/deployments',\n",
       " 'created_at': '2018-03-21T22:57:26Z',\n",
       " 'updated_at': '2020-09-29T10:18:22Z',\n",
       " 'pushed_at': '2020-09-28T15:05:15Z',\n",
       " 'git_url': 'git://github.com/google/go-cloud.git',\n",
       " 'ssh_url': 'git@github.com:google/go-cloud.git',\n",
       " 'clone_url': 'https://github.com/google/go-cloud.git',\n",
       " 'svn_url': 'https://github.com/google/go-cloud',\n",
       " 'homepage': 'https://gocloud.dev/',\n",
       " 'size': 30524,\n",
       " 'stargazers_count': 7324,\n",
       " 'watchers_count': 7324,\n",
       " 'language': 'Go',\n",
       " 'has_issues': True,\n",
       " 'has_projects': False,\n",
       " 'has_downloads': True,\n",
       " 'has_wiki': False,\n",
       " 'has_pages': True,\n",
       " 'forks_count': 574,\n",
       " 'mirror_url': None,\n",
       " 'archived': False,\n",
       " 'disabled': False,\n",
       " 'open_issues_count': 63,\n",
       " 'license': {'key': 'apache-2.0',\n",
       "  'name': 'Apache License 2.0',\n",
       "  'spdx_id': 'Apache-2.0',\n",
       "  'url': 'https://api.github.com/licenses/apache-2.0',\n",
       "  'node_id': 'MDc6TGljZW5zZTI='},\n",
       " 'forks': 574,\n",
       " 'open_issues': 63,\n",
       " 'watchers': 7324,\n",
       " 'default_branch': 'master',\n",
       " 'permissions': {'admin': False, 'push': False, 'pull': True},\n",
       " 'temp_clone_token': '',\n",
       " 'organization': {'login': 'google',\n",
       "  'id': 1342004,\n",
       "  'node_id': 'MDEyOk9yZ2FuaXphdGlvbjEzNDIwMDQ=',\n",
       "  'avatar_url': 'https://avatars1.githubusercontent.com/u/1342004?v=4',\n",
       "  'gravatar_id': '',\n",
       "  'url': 'https://api.github.com/users/google',\n",
       "  'html_url': 'https://github.com/google',\n",
       "  'followers_url': 'https://api.github.com/users/google/followers',\n",
       "  'following_url': 'https://api.github.com/users/google/following{/other_user}',\n",
       "  'gists_url': 'https://api.github.com/users/google/gists{/gist_id}',\n",
       "  'starred_url': 'https://api.github.com/users/google/starred{/owner}{/repo}',\n",
       "  'subscriptions_url': 'https://api.github.com/users/google/subscriptions',\n",
       "  'organizations_url': 'https://api.github.com/users/google/orgs',\n",
       "  'repos_url': 'https://api.github.com/users/google/repos',\n",
       "  'events_url': 'https://api.github.com/users/google/events{/privacy}',\n",
       "  'received_events_url': 'https://api.github.com/users/google/received_events',\n",
       "  'type': 'Organization',\n",
       "  'site_admin': False},\n",
       " 'network_count': 574,\n",
       " 'subscribers_count': 239}"
      ]
     },
     "execution_count": 17,
     "metadata": {},
     "output_type": "execute_result"
    }
   ],
   "source": [
    "a"
   ]
  },
  {
   "cell_type": "markdown",
   "metadata": {},
   "source": [
    "### All Topics\n",
    "\n",
    "Fetch the list of topics that are present in ‘google/clusterfuzz’ Github repository from Github API using basic auth i.e by passing username and password.\n",
    "Print the topic names\n",
    "Note:Read the Github API documentation carefully.\n",
    "Output Format:\n",
    "topic_name1\n",
    "topic_name2"
   ]
  },
  {
   "cell_type": "code",
   "execution_count": 42,
   "metadata": {},
   "outputs": [],
   "source": [
    "## Open and read data file as specified in the question\n",
    "## Print the required output in given format\n",
    "import requests\n",
    "from requests.auth import HTTPBasicAuth\n",
    "import json\n",
    "a=requests.get('https://api.github.com/repos/google/clusterfuzz/topics',auth=('mridulkhanna2','coding@22'))\n",
    "\n",
    "#converting json format to python dict\n",
    "a=a.json()"
   ]
  },
  {
   "cell_type": "code",
   "execution_count": 46,
   "metadata": {
    "scrolled": true
   },
   "outputs": [
    {
     "data": {
      "text/plain": [
       "['fuzzing', 'security', 'stability', 'vulnerabilities']"
      ]
     },
     "execution_count": 46,
     "metadata": {},
     "output_type": "execute_result"
    }
   ],
   "source": [
    "import requests\n",
    "from requests.auth import HTTPBasicAuth\n",
    "import json\n",
    "h={\"Accept\":\"application/vnd.github.mercy-preview+json\"}\n",
    "a=requests.get('https://api.github.com/repos/google/clusterfuzz',headers=h,auth=())\n",
    "\n",
    "#converting json format to python dict\n",
    "a=a.json()\n",
    "a['topics']"
   ]
  },
  {
   "cell_type": "code",
   "execution_count": 39,
   "metadata": {},
   "outputs": [
    {
     "name": "stdout",
     "output_type": "stream",
     "text": [
      "{'id': 168060021, 'node_id': 'MDEwOlJlcG9zaXRvcnkxNjgwNjAwMjE=', 'name': 'clusterfuzz', 'full_name': 'google/clusterfuzz', 'private': False, 'owner': {'login': 'google', 'id': 1342004, 'node_id': 'MDEyOk9yZ2FuaXphdGlvbjEzNDIwMDQ=', 'avatar_url': 'https://avatars1.githubusercontent.com/u/1342004?v=4', 'gravatar_id': '', 'url': 'https://api.github.com/users/google', 'html_url': 'https://github.com/google', 'followers_url': 'https://api.github.com/users/google/followers', 'following_url': 'https://api.github.com/users/google/following{/other_user}', 'gists_url': 'https://api.github.com/users/google/gists{/gist_id}', 'starred_url': 'https://api.github.com/users/google/starred{/owner}{/repo}', 'subscriptions_url': 'https://api.github.com/users/google/subscriptions', 'organizations_url': 'https://api.github.com/users/google/orgs', 'repos_url': 'https://api.github.com/users/google/repos', 'events_url': 'https://api.github.com/users/google/events{/privacy}', 'received_events_url': 'https://api.github.com/users/google/received_events', 'type': 'Organization', 'site_admin': False}, 'html_url': 'https://github.com/google/clusterfuzz', 'description': 'Scalable fuzzing infrastructure.', 'fork': False, 'url': 'https://api.github.com/repos/google/clusterfuzz', 'forks_url': 'https://api.github.com/repos/google/clusterfuzz/forks', 'keys_url': 'https://api.github.com/repos/google/clusterfuzz/keys{/key_id}', 'collaborators_url': 'https://api.github.com/repos/google/clusterfuzz/collaborators{/collaborator}', 'teams_url': 'https://api.github.com/repos/google/clusterfuzz/teams', 'hooks_url': 'https://api.github.com/repos/google/clusterfuzz/hooks', 'issue_events_url': 'https://api.github.com/repos/google/clusterfuzz/issues/events{/number}', 'events_url': 'https://api.github.com/repos/google/clusterfuzz/events', 'assignees_url': 'https://api.github.com/repos/google/clusterfuzz/assignees{/user}', 'branches_url': 'https://api.github.com/repos/google/clusterfuzz/branches{/branch}', 'tags_url': 'https://api.github.com/repos/google/clusterfuzz/tags', 'blobs_url': 'https://api.github.com/repos/google/clusterfuzz/git/blobs{/sha}', 'git_tags_url': 'https://api.github.com/repos/google/clusterfuzz/git/tags{/sha}', 'git_refs_url': 'https://api.github.com/repos/google/clusterfuzz/git/refs{/sha}', 'trees_url': 'https://api.github.com/repos/google/clusterfuzz/git/trees{/sha}', 'statuses_url': 'https://api.github.com/repos/google/clusterfuzz/statuses/{sha}', 'languages_url': 'https://api.github.com/repos/google/clusterfuzz/languages', 'stargazers_url': 'https://api.github.com/repos/google/clusterfuzz/stargazers', 'contributors_url': 'https://api.github.com/repos/google/clusterfuzz/contributors', 'subscribers_url': 'https://api.github.com/repos/google/clusterfuzz/subscribers', 'subscription_url': 'https://api.github.com/repos/google/clusterfuzz/subscription', 'commits_url': 'https://api.github.com/repos/google/clusterfuzz/commits{/sha}', 'git_commits_url': 'https://api.github.com/repos/google/clusterfuzz/git/commits{/sha}', 'comments_url': 'https://api.github.com/repos/google/clusterfuzz/comments{/number}', 'issue_comment_url': 'https://api.github.com/repos/google/clusterfuzz/issues/comments{/number}', 'contents_url': 'https://api.github.com/repos/google/clusterfuzz/contents/{+path}', 'compare_url': 'https://api.github.com/repos/google/clusterfuzz/compare/{base}...{head}', 'merges_url': 'https://api.github.com/repos/google/clusterfuzz/merges', 'archive_url': 'https://api.github.com/repos/google/clusterfuzz/{archive_format}{/ref}', 'downloads_url': 'https://api.github.com/repos/google/clusterfuzz/downloads', 'issues_url': 'https://api.github.com/repos/google/clusterfuzz/issues{/number}', 'pulls_url': 'https://api.github.com/repos/google/clusterfuzz/pulls{/number}', 'milestones_url': 'https://api.github.com/repos/google/clusterfuzz/milestones{/number}', 'notifications_url': 'https://api.github.com/repos/google/clusterfuzz/notifications{?since,all,participating}', 'labels_url': 'https://api.github.com/repos/google/clusterfuzz/labels{/name}', 'releases_url': 'https://api.github.com/repos/google/clusterfuzz/releases{/id}', 'deployments_url': 'https://api.github.com/repos/google/clusterfuzz/deployments', 'created_at': '2019-01-29T00:19:40Z', 'updated_at': '2020-09-29T10:19:54Z', 'pushed_at': '2020-09-28T23:19:56Z', 'git_url': 'git://github.com/google/clusterfuzz.git', 'ssh_url': 'git@github.com:google/clusterfuzz.git', 'clone_url': 'https://github.com/google/clusterfuzz.git', 'svn_url': 'https://github.com/google/clusterfuzz', 'homepage': 'https://google.github.io/clusterfuzz', 'size': 77723, 'stargazers_count': 4342, 'watchers_count': 4342, 'language': 'Python', 'has_issues': True, 'has_projects': True, 'has_downloads': True, 'has_wiki': True, 'has_pages': True, 'forks_count': 391, 'mirror_url': None, 'archived': False, 'disabled': False, 'open_issues_count': 134, 'license': {'key': 'apache-2.0', 'name': 'Apache License 2.0', 'spdx_id': 'Apache-2.0', 'url': 'https://api.github.com/licenses/apache-2.0', 'node_id': 'MDc6TGljZW5zZTI='}, 'forks': 391, 'open_issues': 134, 'watchers': 4342, 'default_branch': 'master', 'permissions': {'admin': False, 'push': False, 'pull': True}, 'temp_clone_token': '', 'organization': {'login': 'google', 'id': 1342004, 'node_id': 'MDEyOk9yZ2FuaXphdGlvbjEzNDIwMDQ=', 'avatar_url': 'https://avatars1.githubusercontent.com/u/1342004?v=4', 'gravatar_id': '', 'url': 'https://api.github.com/users/google', 'html_url': 'https://github.com/google', 'followers_url': 'https://api.github.com/users/google/followers', 'following_url': 'https://api.github.com/users/google/following{/other_user}', 'gists_url': 'https://api.github.com/users/google/gists{/gist_id}', 'starred_url': 'https://api.github.com/users/google/starred{/owner}{/repo}', 'subscriptions_url': 'https://api.github.com/users/google/subscriptions', 'organizations_url': 'https://api.github.com/users/google/orgs', 'repos_url': 'https://api.github.com/users/google/repos', 'events_url': 'https://api.github.com/users/google/events{/privacy}', 'received_events_url': 'https://api.github.com/users/google/received_events', 'type': 'Organization', 'site_admin': False}, 'network_count': 391, 'subscribers_count': 119}\n"
     ]
    }
   ],
   "source": [
    "print(a)"
   ]
  },
  {
   "cell_type": "code",
   "execution_count": 31,
   "metadata": {},
   "outputs": [
    {
     "data": {
      "text/plain": [
       "'Swift'"
      ]
     },
     "execution_count": 31,
     "metadata": {},
     "output_type": "execute_result"
    }
   ],
   "source": [
    "## Open and read data file as specified in the question\n",
    "## Print the required output in given format\n",
    "import requests\n",
    "from requests.auth import HTTPBasicAuth\n",
    "import json\n",
    "a=requests.get('https://api.github.com/repos/google/science-journal-ios',auth=())\n",
    "\n",
    "#converting json format to python dict\n",
    "a=a.json()\n",
    "\n",
    "a[\"language\"]"
   ]
  }
 ],
 "metadata": {
  "kernelspec": {
   "display_name": "Python 3",
   "language": "python",
   "name": "python3"
  },
  "language_info": {
   "codemirror_mode": {
    "name": "ipython",
    "version": 3
   },
   "file_extension": ".py",
   "mimetype": "text/x-python",
   "name": "python",
   "nbconvert_exporter": "python",
   "pygments_lexer": "ipython3",
   "version": "3.8.2"
  }
 },
 "nbformat": 4,
 "nbformat_minor": 4
}
