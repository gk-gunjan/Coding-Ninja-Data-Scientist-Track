{
 "cells": [
  {
   "cell_type": "markdown",
   "metadata": {},
   "source": [
    "# Binary Trees"
   ]
  },
  {
   "cell_type": "code",
   "execution_count": 1,
   "metadata": {},
   "outputs": [],
   "source": [
    "class bin:\n",
    "    def __init__(self,data):\n",
    "        self.data=data\n",
    "        self.left=None\n",
    "        self.right=None\n",
    " \n"
   ]
  },
  {
   "cell_type": "code",
   "execution_count": 2,
   "metadata": {},
   "outputs": [],
   "source": [
    "b1=bin(1)\n",
    "b2=bin(3)\n",
    "b3=bin(5)\n",
    "b4=bin(7)\n",
    "b5=bin(9)"
   ]
  },
  {
   "cell_type": "code",
   "execution_count": 3,
   "metadata": {},
   "outputs": [],
   "source": [
    "b1.left=b2\n",
    "b1.right=b3  \n",
    "b2.left=b4\n",
    "b2.right=b5"
   ]
  },
  {
   "cell_type": "markdown",
   "metadata": {},
   "source": [
    "# Printing"
   ]
  },
  {
   "cell_type": "code",
   "execution_count": 4,
   "metadata": {},
   "outputs": [],
   "source": [
    "def printtree(root):\n",
    "    if root == None:\n",
    "        return\n",
    "    print(root.data)\n",
    "    printtree(root.left)\n",
    "    printtree(root.right)\n",
    "    "
   ]
  },
  {
   "cell_type": "code",
   "execution_count": 5,
   "metadata": {},
   "outputs": [],
   "source": [
    "def printdetail(root):\n",
    "    if root == None:\n",
    "        return\n",
    "    print(root.data,end=\":\")\n",
    "    if root.left !=None:    \n",
    "        print(\"L\",root.left.data,end=\",\")\n",
    "    if root.right !=None:\n",
    "        print(\"R\",root.right.data)\n",
    "    print()\n",
    "    printdetail(root.left)\n",
    "    printdetail(root.right)\n",
    "    \n",
    "    "
   ]
  },
  {
   "cell_type": "code",
   "execution_count": 6,
   "metadata": {},
   "outputs": [
    {
     "name": "stdout",
     "output_type": "stream",
     "text": [
      "1\n",
      "3\n",
      "7\n",
      "9\n",
      "5\n"
     ]
    }
   ],
   "source": [
    "printtree(b1)"
   ]
  },
  {
   "cell_type": "code",
   "execution_count": 7,
   "metadata": {
    "scrolled": true
   },
   "outputs": [
    {
     "name": "stdout",
     "output_type": "stream",
     "text": [
      "1:L 3,R 5\n",
      "\n",
      "3:L 7,R 9\n",
      "\n",
      "7:\n",
      "9:\n",
      "5:\n"
     ]
    }
   ],
   "source": [
    "printdetail(b1)"
   ]
  },
  {
   "cell_type": "markdown",
   "metadata": {},
   "source": [
    "# Input"
   ]
  },
  {
   "cell_type": "code",
   "execution_count": 8,
   "metadata": {},
   "outputs": [],
   "source": [
    "def treeinput():\n",
    "    rootdata=int(input())\n",
    "    if rootdata == -1:\n",
    "        return None\n",
    "    root=bin(rootdata)\n",
    "    left=treeinput()\n",
    "    right=treeinput()\n",
    "    root.left=left\n",
    "    root.right=right\n",
    "    return root"
   ]
  },
  {
   "cell_type": "code",
   "execution_count": 9,
   "metadata": {
    "scrolled": true
   },
   "outputs": [],
   "source": [
    "#root=treeinput()\n",
    "#printdetail(root)"
   ]
  },
  {
   "cell_type": "markdown",
   "metadata": {},
   "source": [
    "# Count no. of nodes"
   ]
  },
  {
   "cell_type": "code",
   "execution_count": 10,
   "metadata": {},
   "outputs": [],
   "source": [
    "def num(root):\n",
    "    if root is None:\n",
    "        return 0\n",
    "    leftcount=num(root.left)\n",
    "    rightcount=num(root.right)\n",
    "    return 1+leftcount+rightcount\n",
    "    "
   ]
  },
  {
   "cell_type": "code",
   "execution_count": 11,
   "metadata": {
    "scrolled": true
   },
   "outputs": [],
   "source": [
    "# root=treeinput()\n",
    "# printdetail(root)\n",
    "# print(num(root))"
   ]
  },
  {
   "cell_type": "markdown",
   "metadata": {},
   "source": [
    "# Sum of nodes"
   ]
  },
  {
   "cell_type": "code",
   "execution_count": 12,
   "metadata": {},
   "outputs": [],
   "source": [
    "import queue\n",
    "class BinaryTreeNode:\n",
    "    def __init__(self, data):\n",
    "        self.data = data\n",
    "        self.left = None\n",
    "        self.right = None\n",
    "\n",
    "def sumOfAllNodes(root):\n",
    "    # Given a binary tree, find and return the sum of all nodes.\n",
    "    #############################\n",
    "    # PLEASE ADD YOUR CODE HERE #\n",
    "    #############################\n",
    "    if root is None:\n",
    "        return 0\n",
    "    leftdata=sumOfAllNodes(root.left)\n",
    "    rightdata=sumOfAllNodes(root.right)\n",
    "    return root.data+leftdata+rightdata\n",
    "    \n",
    "    \n",
    "    pass\n",
    "\n",
    "def buildLevelTree(levelorder):\n",
    "    index = 0\n",
    "    length = len(levelorder)\n",
    "    if length<=0 or levelorder[0]==-1:\n",
    "        return None\n",
    "    root = BinaryTreeNode(levelorder[index])\n",
    "    index += 1\n",
    "    q = queue.Queue()\n",
    "    q.put(root)\n",
    "    while not q.empty():\n",
    "        currentNode = q.get()\n",
    "        leftChild = levelorder[index]\n",
    "        index += 1\n",
    "        if leftChild != -1:\n",
    "            leftNode = BinaryTreeNode(leftChild)\n",
    "            currentNode.left =leftNode\n",
    "            q.put(leftNode)\n",
    "        rightChild = levelorder[index]\n",
    "        index += 1\n",
    "        if rightChild != -1:\n",
    "            rightNode = BinaryTreeNode(rightChild)\n",
    "            currentNode.right =rightNode\n",
    "            q.put(rightNode)\n",
    "    return root\n",
    "\n",
    "# Main\n",
    "levelOrder = [int(i) for i in input().strip().split()]\n",
    "root = buildLevelTree(levelOrder)\n",
    "print(sumOfAllNodes(root))\n"
   ]
  },
  {
   "cell_type": "markdown",
   "metadata": {},
   "source": [
    "# Tree traversal"
   ]
  },
  {
   "cell_type": "markdown",
   "metadata": {},
   "source": [
    "### Preorder"
   ]
  },
  {
   "cell_type": "code",
   "execution_count": 13,
   "metadata": {},
   "outputs": [],
   "source": [
    "# import queue\n",
    "# class BinaryTreeNode:\n",
    "#     def __init__(self, data):\n",
    "#         self.data = data\n",
    "#         self.left = None\n",
    "#         self.right = None\n",
    "\n",
    "# def preOrder(root):\n",
    "#     # Given a binary tree, print the preorder traversal of given tree. Pre-order\n",
    "#     # traversal is: Root LeftChild RightChild\n",
    "#     #############################\n",
    "#     # PLEASE ADD YOUR CODE HERE #\n",
    "#     #############################\n",
    "#     if root == None:\n",
    "#         return\n",
    "#     print(root.data,end=' ')\n",
    "#     preOrder(root.left)\n",
    "#     preOrder(root.right)\n",
    "\n",
    "#     pass\n",
    "\n",
    "# def buildLevelTree(levelorder):\n",
    "#     index = 0\n",
    "#     length = len(levelorder)\n",
    "#     if length<=0 or levelorder[0]==-1:\n",
    "#         return None\n",
    "#     root = BinaryTreeNode(levelorder[index])\n",
    "#     index += 1\n",
    "#     q = queue.Queue()\n",
    "#     q.put(root)\n",
    "#     while not q.empty():\n",
    "#         currentNode = q.get()\n",
    "#         leftChild = levelorder[index]\n",
    "#         index += 1\n",
    "#         if leftChild != -1:\n",
    "#             leftNode = BinaryTreeNode(leftChild)\n",
    "#             currentNode.left =leftNode\n",
    "#             q.put(leftNode)\n",
    "#         rightChild = levelorder[index]\n",
    "#         index += 1\n",
    "#         if rightChild != -1:\n",
    "#             rightNode = BinaryTreeNode(rightChild)\n",
    "#             currentNode.right =rightNode\n",
    "#             q.put(rightNode)\n",
    "#     return root\n",
    "\n",
    "# # Main\n",
    "# levelOrder = [int(i) for i in input().strip().split()]\n",
    "# root = buildLevelTree(levelOrder)\n",
    "# preOrder(root)\n"
   ]
  },
  {
   "cell_type": "markdown",
   "metadata": {},
   "source": [
    "### Postorder"
   ]
  },
  {
   "cell_type": "code",
   "execution_count": 14,
   "metadata": {},
   "outputs": [],
   "source": [
    "# import queue\n",
    "# class BinaryTreeNode:\n",
    "#     def __init__(self, data):\n",
    "#         self.data = data\n",
    "#         self.left = None\n",
    "#         self.right = None\n",
    "\n",
    "# def postOrder(root):\n",
    "#     # Given a binary tree, print the postorder traversal of given tree.\n",
    "#     # Post-order traversal is: LeftChild RightChild Root\n",
    "#     #############################\n",
    "#     # PLEASE ADD YOUR CODE HERE #\n",
    "#     #############################\n",
    "#     if root == None:\n",
    "#         return\n",
    "    \n",
    "#     postOrder(root.left)\n",
    "#     postOrder(root.right)\n",
    "#     print(root.data,end=' ')\n",
    "#     pass\n",
    "\n",
    "# def buildLevelTree(levelorder):\n",
    "#     index = 0\n",
    "#     length = len(levelorder)\n",
    "#     if length<=0 or levelorder[0]==-1:\n",
    "#         return None\n",
    "#     root = BinaryTreeNode(levelorder[index])\n",
    "#     index += 1\n",
    "#     q = queue.Queue()\n",
    "#     q.put(root)\n",
    "#     while not q.empty():\n",
    "#         currentNode = q.get()\n",
    "#         leftChild = levelorder[index]\n",
    "#         index += 1\n",
    "#         if leftChild != -1:\n",
    "#             leftNode = BinaryTreeNode(leftChild)\n",
    "#             currentNode.left =leftNode\n",
    "#             q.put(leftNode)\n",
    "#         rightChild = levelorder[index]\n",
    "#         index += 1\n",
    "#         if rightChild != -1:\n",
    "#             rightNode = BinaryTreeNode(rightChild)\n",
    "#             currentNode.right =rightNode\n",
    "#             q.put(rightNode)\n",
    "#     return root\n",
    "\n",
    "# # Main\n",
    "# levelOrder = [int(i) for i in input().strip().split()]\n",
    "# root = buildLevelTree(levelOrder)\n",
    "# postOrder(root)\n"
   ]
  },
  {
   "cell_type": "code",
   "execution_count": null,
   "metadata": {},
   "outputs": [],
   "source": []
  },
  {
   "cell_type": "code",
   "execution_count": 15,
   "metadata": {},
   "outputs": [],
   "source": [
    "def largest(root):\n",
    "    if root == None:\n",
    "        return -1\n",
    "    leftlarg=largest(root.left)\n",
    "    rightlarg=largest(root.right)\n",
    "    larg=max(root.data,leftlarg,rightlarg)\n",
    "    return larg\n",
    "    "
   ]
  },
  {
   "cell_type": "code",
   "execution_count": 16,
   "metadata": {},
   "outputs": [
    {
     "name": "stdout",
     "output_type": "stream",
     "text": [
      "10\n",
      "20\n",
      "5\n",
      "-1\n",
      "-1\n",
      "9\n",
      "-1\n",
      "-1\n",
      "3\n",
      "-1\n",
      "-1\n",
      "10:L 20,R 3\n",
      "\n",
      "20:L 5,R 9\n",
      "\n",
      "5:\n",
      "9:\n",
      "3:\n"
     ]
    },
    {
     "data": {
      "text/plain": [
       "20"
      ]
     },
     "execution_count": 16,
     "metadata": {},
     "output_type": "execute_result"
    }
   ],
   "source": [
    "root=treeinput()\n",
    "printdetail(root)\n",
    "largest(root)"
   ]
  },
  {
   "cell_type": "markdown",
   "metadata": {},
   "source": [
    "# Height"
   ]
  },
  {
   "cell_type": "code",
   "execution_count": null,
   "metadata": {},
   "outputs": [],
   "source": [
    "#!/usr/bin/env python\n",
    "# coding: utf-8\n",
    "\n",
    "# In[ ]:\n",
    "\n",
    "\n",
    "import queue\n",
    "class BinaryTreeNode:\n",
    "    def __init__(self, data):\n",
    "        self.data = data\n",
    "        self.left = None\n",
    "        self.right = None\n",
    "\n",
    "def height(root):\n",
    "    # Find the Height Of Binary Tree\n",
    "    #############################\n",
    "    # PLEASE ADD YOUR CODE HERE #\n",
    "    #############################\n",
    "    if root is None:\n",
    "        return 0\n",
    "    lefth=int(height(root.left))\n",
    "    righth=int(height(root.right))\n",
    "    return (lefth if lefth>righth else righth) + 1\n",
    "    \n",
    "    \n",
    "\n",
    "def buildLevelTree():\n",
    "    \n",
    "    root = BinaryTreeNode(int(input()))\n",
    "    q = queue.Queue()\n",
    "    q.put(root)\n",
    "    while not q.empty():\n",
    "        currentNode = q.get()\n",
    "        leftChild = int(input())\n",
    "        if leftChild != -1:\n",
    "            leftNode = BinaryTreeNode(leftChild)\n",
    "            currentNode.left =leftNode\n",
    "            q.put(leftNode)\n",
    "        rightChild = int(input())\n",
    "        if rightChild != -1:\n",
    "            rightNode = BinaryTreeNode(rightChild)\n",
    "            currentNode.right =rightNode\n",
    "            q.put(rightNode)\n",
    "    return root\n",
    "\n",
    "# Main\n",
    "root = buildLevelTree()\n",
    "print(height(root))\n",
    "\n"
   ]
  },
  {
   "cell_type": "markdown",
   "metadata": {},
   "source": [
    "# No of leaf nodes"
   ]
  },
  {
   "cell_type": "code",
   "execution_count": 21,
   "metadata": {},
   "outputs": [],
   "source": [
    "def numleaf(root):\n",
    "    if root==None: #IMP\n",
    "        return 0\n",
    "    if root.left==None and root.right==None:\n",
    "        return 1\n",
    "    leafleft=numleaf(root.left)\n",
    "    leafright=numleaf(root.right)\n",
    "    return leafleft+leafright"
   ]
  },
  {
   "cell_type": "code",
   "execution_count": 22,
   "metadata": {
    "scrolled": true
   },
   "outputs": [
    {
     "name": "stdout",
     "output_type": "stream",
     "text": [
      "1\n",
      "2\n",
      "-1\n",
      "-1\n",
      "-1\n",
      "1:L 2,\n",
      "2:\n"
     ]
    },
    {
     "data": {
      "text/plain": [
       "1"
      ]
     },
     "execution_count": 22,
     "metadata": {},
     "output_type": "execute_result"
    }
   ],
   "source": [
    "root=treeinput()\n",
    "printdetail(root)\n",
    "numleaf(root)"
   ]
  },
  {
   "cell_type": "markdown",
   "metadata": {},
   "source": [
    "# Nodes at depth k:\n",
    "depth:distance from root\n",
    "\n"
   ]
  },
  {
   "cell_type": "code",
   "execution_count": 23,
   "metadata": {},
   "outputs": [],
   "source": [
    "def printdep(root,k):\n",
    "    if root==None:\n",
    "        return\n",
    "    if k==0:\n",
    "        print (root.data)\n",
    "        return\n",
    "    printdep(root.left,k-1)\n",
    "    printdep(root.right,k-1)"
   ]
  },
  {
   "cell_type": "code",
   "execution_count": 25,
   "metadata": {},
   "outputs": [
    {
     "name": "stdout",
     "output_type": "stream",
     "text": [
      "1\n",
      "2\n",
      "4\n",
      "-1\n",
      "-1\n",
      "5\n",
      "-1\n",
      "-1\n",
      "3\n",
      "6\n",
      "-1\n",
      "-1\n",
      "-1\n",
      "1:L 2,R 3\n",
      "\n",
      "2:L 4,R 5\n",
      "\n",
      "4:\n",
      "5:\n",
      "3:L 6,\n",
      "6:\n",
      "4\n",
      "5\n",
      "6\n"
     ]
    }
   ],
   "source": [
    "root=treeinput()\n",
    "printdetail(root)\n",
    "printdep(root,2)"
   ]
  },
  {
   "cell_type": "code",
   "execution_count": 26,
   "metadata": {},
   "outputs": [],
   "source": [
    "#Method 2\n",
    "def printdep2(root,k,d=0):\n",
    "    if root==None:\n",
    "        return\n",
    "    if k==d:\n",
    "        print (root.data)\n",
    "        return\n",
    "    printdep2(root.left,k,d+1)\n",
    "    printdep2(root.right,k,d+1)"
   ]
  },
  {
   "cell_type": "code",
   "execution_count": 27,
   "metadata": {},
   "outputs": [
    {
     "name": "stdout",
     "output_type": "stream",
     "text": [
      "1\n",
      "2\n",
      "4\n",
      "-1\n",
      "-1\n",
      "5\n",
      "-1\n",
      "-1\n",
      "3\n",
      "6\n",
      "-1\n",
      "-1\n",
      "-1\n",
      "1:L 2,R 3\n",
      "\n",
      "2:L 4,R 5\n",
      "\n",
      "4:\n",
      "5:\n",
      "3:L 6,\n",
      "6:\n",
      "4\n",
      "5\n",
      "6\n"
     ]
    }
   ],
   "source": [
    "root=treeinput()\n",
    "printdetail(root)\n",
    "printdep(root,2)"
   ]
  },
  {
   "cell_type": "markdown",
   "metadata": {},
   "source": [
    "# Replace Node With Depth"
   ]
  },
  {
   "cell_type": "code",
   "execution_count": null,
   "metadata": {},
   "outputs": [],
   "source": [
    "#!/usr/bin/env python\n",
    "# coding: utf-8\n",
    "\n",
    "# In[ ]:\n",
    "\n",
    "\n",
    "import queue\n",
    "class BinaryTreeNode:\n",
    "    def __init__(self, data):\n",
    "        self.data = data\n",
    "        self.left = None\n",
    "        self.right = None\n",
    "\n",
    "def replaceWithDepth(root,level=0):\n",
    "    # Given a Binary Tree and an integer x, find and return the count of nodes\n",
    "    # which are having data greater than x.\n",
    "    #############################\n",
    "    # PLEASE ADD YOUR CODE HERE #\n",
    "    #############################\n",
    "    if root==None:\n",
    "    \treturn\n",
    "    root.data=level\n",
    "\t\n",
    "    replaceWithDepth(root.left,level + 1)\n",
    "    replaceWithDepth(root.right,level +1)\n",
    "    \n",
    "def inorder(root):\n",
    "    if root is None:\n",
    "        return\n",
    "    inorder(root.left)\n",
    "    print(root.data)\n",
    "    inorder(root.right)\n",
    "\n",
    "def buildLevelTree(levelorder):\n",
    "    index = 0\n",
    "    length = len(levelorder)\n",
    "    if length<=0 or levelorder[0]==-1:\n",
    "        return None\n",
    "    root = BinaryTreeNode(levelorder[index])\n",
    "    index += 1\n",
    "    q = queue.Queue()\n",
    "    q.put(root)\n",
    "    while not q.empty():\n",
    "        currentNode = q.get()\n",
    "        leftChild = levelorder[index]\n",
    "        index += 1\n",
    "        if leftChild != -1:\n",
    "            leftNode = BinaryTreeNode(leftChild)\n",
    "            currentNode.left =leftNode\n",
    "            q.put(leftNode)\n",
    "        rightChild = levelorder[index]\n",
    "        index += 1\n",
    "        if rightChild != -1:\n",
    "            rightNode = BinaryTreeNode(rightChild)\n",
    "            currentNode.right =rightNode\n",
    "            q.put(rightNode)\n",
    "    return root\n",
    "\n",
    "# Main\n",
    "levelOrder = [int(i) for i in input().strip().split()]\n",
    "root = buildLevelTree(levelOrder)\n",
    "replaceWithDepth(root)\n",
    "inorder(root)\n",
    "\n"
   ]
  },
  {
   "cell_type": "markdown",
   "metadata": {},
   "source": [
    "# Is node present?"
   ]
  },
  {
   "cell_type": "code",
   "execution_count": null,
   "metadata": {},
   "outputs": [],
   "source": [
    "import queue\n",
    "class BinaryTreeNode:\n",
    "    def __init__(self, data):\n",
    "        self.data = data\n",
    "        self.left = None\n",
    "        self.right = None\n",
    "\n",
    "def isNodePresent(root, x):\n",
    "    # Given a Binary Tree and an integer x, check if node with data x is present\n",
    "    # in the input binary tree or not. Return True or False.\n",
    "    #############################\n",
    "    # PLEASE ADD YOUR CODE HERE #\n",
    "    #############################\n",
    "    flag=False\n",
    "    if root is None:\n",
    "        return\n",
    "    if root.data == x:\n",
    "        flag = True\n",
    "    left=isNodePresent(root.left,x)\n",
    "    right=isNodePresent(root.right,x)\n",
    "    return (flag or left or right)\n",
    "    pass\n",
    "\n",
    "def buildLevelTree(levelorder):\n",
    "    index = 0\n",
    "    length = len(levelorder)\n",
    "    if length<=0 or levelorder[0]==-1:\n",
    "        return None\n",
    "    root = BinaryTreeNode(levelorder[index])\n",
    "    index += 1\n",
    "    q = queue.Queue()\n",
    "    q.put(root)\n",
    "    while not q.empty():\n",
    "        currentNode = q.get()\n",
    "        leftChild = levelorder[index]\n",
    "        index += 1\n",
    "        if leftChild != -1:\n",
    "            leftNode = BinaryTreeNode(leftChild)\n",
    "            currentNode.left =leftNode\n",
    "            q.put(leftNode)\n",
    "        rightChild = levelorder[index]\n",
    "        index += 1\n",
    "        if rightChild != -1:\n",
    "            rightNode = BinaryTreeNode(rightChild)\n",
    "            currentNode.right =rightNode\n",
    "            q.put(rightNode)\n",
    "    return root\n",
    "\n",
    "# Main\n",
    "levelOrder = [int(i) for i in input().strip().split()]\n",
    "root = buildLevelTree(levelOrder)\n",
    "x=int(input())\n",
    "present=isNodePresent(root, x)\n",
    "if present:\n",
    "    print('true')\n",
    "else:\n",
    "    print('false')\n"
   ]
  },
  {
   "cell_type": "markdown",
   "metadata": {},
   "source": [
    "# Nodes without sibling"
   ]
  },
  {
   "cell_type": "code",
   "execution_count": null,
   "metadata": {},
   "outputs": [],
   "source": [
    "import queue\n",
    "class BinaryTreeNode:\n",
    "    def __init__(self, data):\n",
    "        self.data = data\n",
    "        self.left = None\n",
    "        self.right = None\n",
    "\n",
    "def nodesWithoutSibling(root):\n",
    "    # Given a binary tree, print all nodes that don’t have a sibling. Print the\n",
    "    # elements in different lines. And order of elements doesn't matter.\n",
    "    #############################\n",
    "    # PLEASE ADD YOUR CODE HERE #\n",
    "    #############################\n",
    "\tif root is None: \n",
    "\t\treturn \n",
    "  \n",
    "    #internal node\n",
    "\tif root.left is not None and root.right is not None: \n",
    "\t\tnodesWithoutSibling(root.left) \n",
    "\t\tnodesWithoutSibling(root.right) \n",
    "  \n",
    "    #left child none\n",
    "\telif root.right is not None: \n",
    "\t\tprint (root.right.data)\n",
    "\t\tnodesWithoutSibling(root.right) \n",
    "  \n",
    "    #right child \n",
    "\telif root.left is not None: \n",
    "\t\tprint (root.left.data)\n",
    "\t\tnodesWithoutSibling(root.left) \n",
    "\tpass\n",
    "\n",
    "def buildLevelTree(levelorder):\n",
    "    index = 0\n",
    "    length = len(levelorder)\n",
    "    if length<=0 or levelorder[0]==-1:\n",
    "        return None\n",
    "    root = BinaryTreeNode(levelorder[index])\n",
    "    index += 1\n",
    "    q = queue.Queue()\n",
    "    q.put(root)\n",
    "    while not q.empty():\n",
    "        currentNode = q.get()\n",
    "        leftChild = levelorder[index]\n",
    "        index += 1\n",
    "        if leftChild != -1:\n",
    "            leftNode = BinaryTreeNode(leftChild)\n",
    "            currentNode.left =leftNode\n",
    "            q.put(leftNode)\n",
    "        rightChild = levelorder[index]\n",
    "        index += 1\n",
    "        if rightChild != -1:\n",
    "            rightNode = BinaryTreeNode(rightChild)\n",
    "            currentNode.right =rightNode\n",
    "            q.put(rightNode)\n",
    "    return root\n",
    "\n",
    "# Main\n",
    "levelOrder = [int(i) for i in input().strip().split()]\n",
    "root = buildLevelTree(levelOrder)\n",
    "nodesWithoutSibling(root)\n"
   ]
  }
 ],
 "metadata": {
  "kernelspec": {
   "display_name": "Python 3",
   "language": "python",
   "name": "python3"
  },
  "language_info": {
   "codemirror_mode": {
    "name": "ipython",
    "version": 3
   },
   "file_extension": ".py",
   "mimetype": "text/x-python",
   "name": "python",
   "nbconvert_exporter": "python",
   "pygments_lexer": "ipython3",
   "version": "3.8.2"
  }
 },
 "nbformat": 4,
 "nbformat_minor": 4
}
