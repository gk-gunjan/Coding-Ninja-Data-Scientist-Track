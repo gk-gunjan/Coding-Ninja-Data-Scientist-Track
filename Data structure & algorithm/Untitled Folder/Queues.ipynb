{
 "cells": [
  {
   "cell_type": "markdown",
   "metadata": {},
   "source": [
    "# Queue"
   ]
  },
  {
   "cell_type": "markdown",
   "metadata": {},
   "source": [
    "## Using arrays\n"
   ]
  },
  {
   "cell_type": "code",
   "execution_count": 237,
   "metadata": {},
   "outputs": [
    {
     "name": "stdout",
     "output_type": "stream",
     "text": [
      "1\n",
      "2\n",
      "3\n",
      "4\n",
      "5\n",
      "empty\n"
     ]
    }
   ],
   "source": [
    "class que:\n",
    "    def __init__(self):\n",
    "        self.__arr=[]\n",
    "        self.__count=0\n",
    "        self.__front=0\n",
    "        \n",
    "    def enqueue(self,data):\n",
    "        self.__arr.append(data)\n",
    "        self.__count +=1\n",
    "    def dequeue(self):\n",
    "        if self.isEmpty():\n",
    "            print(\"Queue is empty\")\n",
    "        self.__count = self.__count - 1\n",
    "        ele=self.__arr[self.__front]\n",
    "        self.__front = self.__front +1\n",
    "        return ele\n",
    "    def front(self):\n",
    "        if self.__count == 0:\n",
    "            print(\"empty\")\n",
    "            return\n",
    "        return self.__arr[self.__front]\n",
    "    \n",
    "    def size(self):\n",
    "        return self.__count\n",
    "        \n",
    "    def isEmpty(self):\n",
    "        return self.__count == 0\n",
    "    \n",
    "        \n",
    "q=que()\n",
    "\n",
    "q.enqueue(1)\n",
    "q.enqueue(2)\n",
    "q.enqueue(3)\n",
    "q.enqueue(4)\n",
    "q.enqueue(5)\n",
    "\n",
    "while q.isEmpty() is False:\n",
    "    print(q.dequeue())\n",
    "q.front()\n",
    "\n",
    "    \n",
    "        \n",
    "        "
   ]
  },
  {
   "cell_type": "markdown",
   "metadata": {},
   "source": [
    "## Using Linked list"
   ]
  },
  {
   "cell_type": "code",
   "execution_count": 238,
   "metadata": {},
   "outputs": [
    {
     "name": "stdout",
     "output_type": "stream",
     "text": [
      "1\n",
      "2\n",
      "3\n",
      "Hey!Queue is empty\n"
     ]
    }
   ],
   "source": [
    "class Node:\n",
    "    def __init__(self,data):\n",
    "        self.data= data\n",
    "        self.next=None\n",
    "\n",
    "class que:\n",
    "    def __init__(self):\n",
    "        self.__head=None\n",
    "        self.__tail=None\n",
    "        self.__count=0\n",
    "        \n",
    "    def enqueue(self,data):\n",
    "        new=Node(data)\n",
    "        \n",
    "        if self.__head is None:\n",
    "            self.__head=new\n",
    "        else:\n",
    "            self.__tail.next=new\n",
    "        \n",
    "        self.__tail=new\n",
    "        self.__count=self.__count + 1\n",
    "        \n",
    "    def dequeue(self):\n",
    "        if self.__head is None:\n",
    "            print(\"Hey!Queue is empty\")\n",
    "            return\n",
    "        data=self.__head.data\n",
    "        self.__head = self.__head.next\n",
    "        self.__count= self.__count - 1\n",
    "        return data\n",
    "    \n",
    "    def size(self):\n",
    "        return self.__count\n",
    "        \n",
    "    def isempty(self):\n",
    "        return self.size() == 0\n",
    "        \n",
    "        \n",
    "    def front(self):\n",
    "        if self.__head is None:\n",
    "            print(\"Hey!Queue is empty\")\n",
    "            return\n",
    "        data=self.__head.data\n",
    "        return data\n",
    "    \n",
    "q=que()\n",
    "q.enqueue(1)\n",
    "q.enqueue(2)\n",
    "q.enqueue(3)\n",
    "\n",
    "while q.isempty() is False:\n",
    "    print(q.dequeue())\n",
    "q.front()\n",
    "\n"
   ]
  },
  {
   "cell_type": "markdown",
   "metadata": {},
   "source": [
    "## Using 2 stacks:"
   ]
  },
  {
   "cell_type": "code",
   "execution_count": 1,
   "metadata": {},
   "outputs": [
    {
     "name": "stdout",
     "output_type": "stream",
     "text": [
      "5\n",
      "6\n",
      "7\n",
      "8\n"
     ]
    },
    {
     "data": {
      "text/plain": [
       "-1"
      ]
     },
     "execution_count": 1,
     "metadata": {},
     "output_type": "execute_result"
    }
   ],
   "source": [
    "class que:\n",
    "    \n",
    "    def __init__(self):\n",
    "        self.__s1=[]\n",
    "        self.__s2=[]\n",
    "        \n",
    "    def enqueue(self,data):\n",
    "        #o(n)\n",
    "        while(len(self.__s1) != 0):\n",
    "            self.__s2.append(self.__s1.pop())\n",
    "       #new ele     \n",
    "        self.__s1.append(data)\n",
    "        while(len(self.__s2) != 0):\n",
    "            self.__s1.append(self.__s2.pop())\n",
    "        return\n",
    "        \n",
    "    def dequeue(self):\n",
    "        #o(1)\n",
    "        if(len(self.__s1) == 0):\n",
    "            return -1\n",
    "        return self.__s1.pop()\n",
    "    \n",
    "    def front(self):\n",
    "        if(len(self.__s1) == 0):\n",
    "            return -1\n",
    "        return self.__s1[-1]\n",
    "        \n",
    "        \n",
    "    def size(self):\n",
    "        return len(self.__s1)\n",
    "    def isempty(self):\n",
    "        return self.size()==0\n",
    "\n",
    "q=que()\n",
    "q.enqueue(5)\n",
    "q.enqueue(6)\n",
    "q.enqueue(7)\n",
    "q.enqueue(8)\n",
    "while q.isempty() is False:\n",
    "    print(q.dequeue())\n",
    "q.front()\n"
   ]
  },
  {
   "cell_type": "markdown",
   "metadata": {},
   "source": [
    "# Reverse queue"
   ]
  },
  {
   "cell_type": "code",
   "execution_count": null,
   "metadata": {
    "scrolled": true
   },
   "outputs": [],
   "source": [
    "\n",
    "import queue\n",
    "def reverseQueue(q1):\n",
    "    if q1.empty():\n",
    "        return q1\n",
    "    data = q1.get()\n",
    "    q1 = reverseQueue(q1)\n",
    "    q1.put(data)\n",
    "    return q1\n",
    "\t\n",
    "    \n",
    "#### Implement Your Code Here\n",
    "\n",
    "from sys import setrecursionlimit\n",
    "setrecursionlimit(11000)\n",
    "li = [int(ele) for ele in (input().split()[1:])]\n",
    "q1 = queue.Queue()\n",
    "for ele in li:\n",
    "    q1.put(ele)\n",
    "reverseQueue(q1)\n",
    "while(q1.empty() is False):\n",
    "    print(q1.get(),end= ' ')"
   ]
  },
  {
   "cell_type": "markdown",
   "metadata": {},
   "source": [
    "## Stack using 2 queues"
   ]
  },
  {
   "cell_type": "code",
   "execution_count": null,
   "metadata": {},
   "outputs": [],
   "source": [
    "import queue\n",
    "class StackUsingQueues:\n",
    "    \n",
    "    def __init__(self):\n",
    "        self.q1 = queue.Queue()\n",
    "        self.q2 = queue.Queue()\n",
    "        self.count=0\n",
    "        \n",
    "    def push(self,data):\n",
    "        \n",
    "        self.q1.put(data)\n",
    "        self.count=self.count+1\n",
    "        return \n",
    "    \n",
    "    def pop(self):\n",
    "        #moving elements from q1 to q2 until 1 element is left in q1\n",
    "        while (self.q1.qsize() > 1):\n",
    "            self.q2.put(self.q1.get())\n",
    "        #popping the last element:\n",
    "        x=self.q1.get()\n",
    "        \n",
    "        #swapping names\n",
    "        self.q1,self.q2=self.q2,self.q1\n",
    "        self.count=self.count-1\n",
    "  \n",
    "        return x\n",
    "    \n",
    "    def top(self):\n",
    "        while (self.q1.qsize() > 1):\n",
    "            self.q2.put(self.q1.get())\n",
    "        t=self.q1.get()\n",
    "        self.q2.put(t)\n",
    "        self.q1,self.q2=self.q2,self.q1\n",
    "        return t\n",
    "       \n",
    "    def getSize(self):\n",
    "        return self.count\n",
    "        \n",
    "    \n",
    "s = StackUsingQueues()\n",
    "li = [int(ele) for ele in input().split()]\n",
    "i=0\n",
    "while i<len(li):\n",
    "    choice = li[i]\n",
    "    if choice == -1:\n",
    "        break\n",
    "    elif choice == 1:\n",
    "        s.push(li[i+1])\n",
    "        i+=1\n",
    "    elif choice == 2:\n",
    "        ans = s.pop()\n",
    "        if ans!=0:\n",
    "            print(ans)\n",
    "        else:\n",
    "            print(-1)\n",
    "    elif choice == 3:\n",
    "        ans = s.top()\n",
    "        if ans!=0:\n",
    "            print(ans)\n",
    "        else:\n",
    "            print(-1)\n",
    "    elif choice == 4:\n",
    "        print(s.getSize())\n",
    "    elif choice == 5:\n",
    "        while s.q1.qsize() !=0:\n",
    "            print(s.q1.get(),end=' ')\n",
    "            \n",
    "    i+=1\n",
    "\n",
    "\n",
    "\n",
    "\n",
    "\n",
    "\n"
   ]
  },
  {
   "cell_type": "markdown",
   "metadata": {},
   "source": [
    "# Reverse first K elements"
   ]
  },
  {
   "cell_type": "code",
   "execution_count": null,
   "metadata": {},
   "outputs": [],
   "source": [
    "import queue\n",
    "\n",
    "def reverseFirstK(q,k):\n",
    "    if (q.empty() == True or k > q.qsize()):\n",
    "        return\n",
    "    if (k <= 0):  \n",
    "        return\n",
    "    s=[]\n",
    "    # putting the first K elements  \n",
    " \n",
    "    for i in range(k): \n",
    "        s.append(q.queue[0])  \n",
    "        q.get()\n",
    "  \n",
    "    # Enqueue the contents of stack at the back of the queue \n",
    "    while (len(s) != 0 ):  \n",
    "        q.put(s[-1])  \n",
    "        s.pop() \n",
    "  \n",
    "    # Remove the remaining elements and  \n",
    "    # enqueue them at the end of the Queue \n",
    "    for i in range(q.qsize() - k): \n",
    "        q.put(q.get())  \n",
    "  \n",
    "        \n",
    "#Implement Your Code Here     \n",
    "\n",
    "        \n",
    "from sys import setrecursionlimit\n",
    "setrecursionlimit(11000)\n",
    "n = int(input())\n",
    "li = [int(ele) for ele in input().split()]\n",
    "q = queue.Queue()\n",
    "for ele in li:\n",
    "\tq.put(ele)\n",
    "k = int(input())\n",
    "reverseFirstK(q,k) \n",
    "while(q.qsize()>0):\n",
    "\tprint(q.get())\n",
    "\tn-=1"
   ]
  }
 ],
 "metadata": {
  "kernelspec": {
   "display_name": "Python 3",
   "language": "python",
   "name": "python3"
  },
  "language_info": {
   "codemirror_mode": {
    "name": "ipython",
    "version": 3
   },
   "file_extension": ".py",
   "mimetype": "text/x-python",
   "name": "python",
   "nbconvert_exporter": "python",
   "pygments_lexer": "ipython3",
   "version": "3.8.2"
  }
 },
 "nbformat": 4,
 "nbformat_minor": 4
}
