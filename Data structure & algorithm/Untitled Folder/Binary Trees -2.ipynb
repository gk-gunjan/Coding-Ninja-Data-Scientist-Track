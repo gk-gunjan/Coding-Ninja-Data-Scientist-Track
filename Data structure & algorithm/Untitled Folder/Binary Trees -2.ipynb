{
 "cells": [
  {
   "cell_type": "code",
   "execution_count": 1,
   "metadata": {},
   "outputs": [],
   "source": [
    "class bin:\n",
    "    def __init__(self,data):\n",
    "        self.data=data\n",
    "        self.left=None\n",
    "        self.right=None\n"
   ]
  },
  {
   "cell_type": "code",
   "execution_count": 2,
   "metadata": {},
   "outputs": [],
   "source": [
    "def treeinput():\n",
    "    rootdata=int(input())\n",
    "    if rootdata == -1:\n",
    "        return None\n",
    "    root=bin(rootdata)\n",
    "    left=treeinput()\n",
    "    right=treeinput()\n",
    "    root.left=left\n",
    "    root.right=right\n",
    "    return root"
   ]
  },
  {
   "cell_type": "code",
   "execution_count": 8,
   "metadata": {},
   "outputs": [],
   "source": [
    "def printdetail(root):\n",
    "    if root == None:\n",
    "        return\n",
    "    print(root.data,end=\":\")\n",
    "    if root.left !=None:    \n",
    "        print(\"L\",root.left.data,end=\",\")\n",
    "    if root.right !=None:\n",
    "        print(\"R\",root.right.data)\n",
    "    print()\n",
    "    printdetail(root.left)\n",
    "    printdetail(root.right)\n",
    "    \n",
    "    "
   ]
  },
  {
   "cell_type": "markdown",
   "metadata": {},
   "source": [
    "# Remove leaf nodes"
   ]
  },
  {
   "cell_type": "code",
   "execution_count": 4,
   "metadata": {},
   "outputs": [],
   "source": [
    "def rem(root):\n",
    "    if root == None:\n",
    "        return None\n",
    "    if root.left==None and root.right==None:\n",
    "        return None\n",
    "    root.left=rem(root.left)\n",
    "    root.right=rem(root.right)\n",
    "    return root"
   ]
  },
  {
   "cell_type": "code",
   "execution_count": null,
   "metadata": {
    "scrolled": false
   },
   "outputs": [],
   "source": [
    "root=treeinput()\n",
    "printdetail(root)\n",
    "root= rem(root)\n",
    "printdetail(root)"
   ]
  },
  {
   "cell_type": "markdown",
   "metadata": {},
   "source": [
    "# Mirror binary tree"
   ]
  },
  {
   "cell_type": "code",
   "execution_count": null,
   "metadata": {},
   "outputs": [],
   "source": [
    "import queue\n",
    "class BinaryTreeNode:\n",
    "    def __init__(self, data):\n",
    "        self.data = data\n",
    "        self.left = None\n",
    "        self.right = None\n",
    "\n",
    "def mirrorBinaryTree(root):\n",
    "    # Mirror the given binary tree. That is, right child of every nodes should\n",
    "    # become left and left should become right.\n",
    "    #############################\n",
    "    # PLEASE ADD YOUR CODE HERE #\n",
    "    #############################\n",
    "    if root == None:\n",
    "        return\n",
    "    mirrorBinaryTree(root.left)\n",
    "    mirrorBinaryTree(root.right)\n",
    "    root.left,root.right=root.right,root.left\n",
    "    pass\n",
    "\n",
    "def buildLevelTree(levelorder):\n",
    "    index = 0\n",
    "    length = len(levelorder)\n",
    "    if length<=0 or levelorder[0]==-1:\n",
    "        return None\n",
    "    root = BinaryTreeNode(levelorder[index])\n",
    "    index += 1\n",
    "    q = queue.Queue()\n",
    "    q.put(root)\n",
    "    while not q.empty():\n",
    "        currentNode = q.get()\n",
    "        leftChild = levelorder[index]\n",
    "        index += 1\n",
    "        if leftChild != -1:\n",
    "            leftNode = BinaryTreeNode(leftChild)\n",
    "            currentNode.left =leftNode\n",
    "            q.put(leftNode)\n",
    "        rightChild = levelorder[index]\n",
    "        index += 1\n",
    "        if rightChild != -1:\n",
    "            rightNode = BinaryTreeNode(rightChild)\n",
    "            currentNode.right =rightNode\n",
    "            q.put(rightNode)\n",
    "    return root\n",
    "\n",
    "# Problem ID 353, Level order traversal\n",
    "def printLevelATNewLine(root):\n",
    "    # Given a binary tree, print the level order traversal. Make sure each level\n",
    "    # start in new line.\n",
    "    if root==None:\n",
    "        return\n",
    "    inputQ = queue.Queue()\n",
    "    outputQ = queue.Queue()\n",
    "    inputQ.put(root)\n",
    "    while not inputQ.empty():\n",
    "        while not inputQ.empty():\n",
    "            curr = inputQ.get()\n",
    "            print(curr.data, end=' ')\n",
    "            if curr.left!=None:\n",
    "                outputQ.put(curr.left)\n",
    "            if curr.right!=None:\n",
    "                outputQ.put(curr.right)\n",
    "        print()\n",
    "        inputQ, outputQ = outputQ, inputQ\n",
    "\n",
    "# Main\n",
    "levelOrder = [int(i) for i in input().strip().split()]\n",
    "root = buildLevelTree(levelOrder)\n",
    "mirrorBinaryTree(root)\n",
    "printLevelATNewLine(root)\n"
   ]
  },
  {
   "cell_type": "markdown",
   "metadata": {},
   "source": [
    "# Balnaced tree or not:"
   ]
  },
  {
   "cell_type": "code",
   "execution_count": null,
   "metadata": {},
   "outputs": [],
   "source": [
    "def height(root):\n",
    "    if root==None:\n",
    "        return 0\n",
    "    return 1 + max(height(root.left),height(root.right))"
   ]
  },
  {
   "cell_type": "code",
   "execution_count": null,
   "metadata": {},
   "outputs": [],
   "source": [
    "def balanced(root):\n",
    "    if root==None:\n",
    "        return True\n",
    "    lh=height(root.left)\n",
    "    rh=height(root.right)\n",
    "    if lh-rh or rh-lh > 1:\n",
    "        return False\n",
    "    isleft=balanced(root.left)\n",
    "    isright=balanced(root.left)\n",
    "    if isleft and isright:\n",
    "        return True\n",
    "    else:\n",
    "        return False\n",
    "        \n",
    "    "
   ]
  },
  {
   "cell_type": "code",
   "execution_count": null,
   "metadata": {
    "scrolled": true
   },
   "outputs": [],
   "source": [
    "root=treeinput()\n",
    "printdetail(root)\n",
    "balanced(root)"
   ]
  },
  {
   "cell_type": "code",
   "execution_count": null,
   "metadata": {},
   "outputs": [],
   "source": [
    "#Better approach:\n",
    "def balancedandheight(root):\n",
    "    if root==None:\n",
    "        return 0,True\n",
    "    lh,isleft=balancedandheight(root.left)\n",
    "    rh,isright=balancedandheight(root.right)\n",
    "    h = 1 + max(lh,rh)\n",
    "    if lh-rh or rh-lh > 1:\n",
    "        return h,False\n",
    "    \n",
    "   \n",
    "    if isleft and isright:\n",
    "        return h,True\n",
    "    else:\n",
    "        return h,False\n",
    "        "
   ]
  },
  {
   "cell_type": "code",
   "execution_count": null,
   "metadata": {},
   "outputs": [],
   "source": [
    "root=treeinput()\n",
    "printdetail(root)\n",
    "balancedandheight(root)"
   ]
  },
  {
   "cell_type": "markdown",
   "metadata": {},
   "source": [
    "# depth try :(\n"
   ]
  },
  {
   "cell_type": "code",
   "execution_count": null,
   "metadata": {},
   "outputs": [],
   "source": [
    "if root==None:\n",
    "        return 0,0\n",
    "    landr=height(root.left) + height(root.right)\n",
    "    ld=diameter(root.left)\n",
    "    rd=diameter(root.right)\n",
    "    return max(landr,ld,rd)\n",
    "\n",
    "def height(root):\n",
    "    if root==None:\n",
    "        return 0\n",
    "    return 1 + max(height(root.left),height(root.right))"
   ]
  },
  {
   "cell_type": "code",
   "execution_count": null,
   "metadata": {},
   "outputs": [],
   "source": [
    "if root==None:\n",
    "        return 0\n",
    "    landr=height(root.left) + height(root.right)\n",
    "    ld=diameter(root.left)\n",
    "    rd=diameter(root.right)\n",
    "    return max(landr,ld,rd)\n",
    "\n",
    "def height(root):\n",
    "    if root==None:\n",
    "        return 0\n",
    "    return 1 + max(height(root.left),height(root.right))"
   ]
  },
  {
   "cell_type": "markdown",
   "metadata": {},
   "source": [
    "# Level wise input"
   ]
  },
  {
   "cell_type": "code",
   "execution_count": 5,
   "metadata": {},
   "outputs": [],
   "source": [
    "import queue\n",
    "def levelinput():\n",
    "    q=queue.Queue()\n",
    "    print(\"enter root\")\n",
    "    rootdata=int(input())\n",
    "    if rootdata==-1:\n",
    "        return None\n",
    "    root=bin(rootdata)\n",
    "    q.put(root)\n",
    "    while(not(q.empty())):\n",
    "        cur=q.get()\n",
    "        print(\"enter left child of\",cur.data)\n",
    "        leftdata=int(input())\n",
    "        if leftdata != -1:\n",
    "            leftchild=bin(leftdata)\n",
    "            cur.left=leftchild\n",
    "            q.put(leftchild)\n",
    "            \n",
    "        print(\"enter right child of\",cur.data)\n",
    "        rightdata=int(input())\n",
    "        if rightdata != -1:\n",
    "            rightchild=bin(rightdata)\n",
    "            cur.right=rightchild\n",
    "            q.put(rightchild)\n",
    "    return root"
   ]
  },
  {
   "cell_type": "code",
   "execution_count": 6,
   "metadata": {
    "scrolled": true
   },
   "outputs": [
    {
     "name": "stdout",
     "output_type": "stream",
     "text": [
      "enter root\n",
      "1\n",
      "enter left child of 1\n",
      "2\n",
      "enter right child of 1\n",
      "3\n",
      "enter left child of 2\n",
      "-1\n",
      "enter right child of 2\n",
      "-1\n",
      "enter left child of 3\n",
      "-1\n",
      "enter right child of 3\n",
      "-1\n"
     ]
    }
   ],
   "source": [
    "root=levelinput()\n"
   ]
  },
  {
   "cell_type": "code",
   "execution_count": 9,
   "metadata": {
    "scrolled": true
   },
   "outputs": [
    {
     "name": "stdout",
     "output_type": "stream",
     "text": [
      "1:L 2,R 3\n",
      "\n",
      "2:\n",
      "3:\n"
     ]
    }
   ],
   "source": [
    "printdetail(root)"
   ]
  },
  {
   "cell_type": "markdown",
   "metadata": {},
   "source": [
    "# Min and max"
   ]
  },
  {
   "cell_type": "code",
   "execution_count": null,
   "metadata": {},
   "outputs": [],
   "source": [
    "#!/usr/bin/env python\n",
    "# coding: utf-8\n",
    "\n",
    "# In[ ]:\n",
    "\n",
    "\n",
    "import queue\n",
    "class BinaryTreeNode:\n",
    "    def __init__(self, data):\n",
    "        self.data = data\n",
    "        self.left = None\n",
    "        self.right = None\n",
    "\n",
    "INT_MIN = -2147483648\n",
    "INT_MAX = 2147483647\n",
    "# Problem ID 1567, Find the minimum and maximum value\n",
    "def minMax(root):\n",
    "    # Given a binary tree, find and return the min and max data value of given\n",
    "    # binary tree. Return maximum and minimum from this function only. Largest \n",
    "    # and smallest data possible is provided through INT_MAX and INT_MIN\n",
    "    #############################\n",
    "    # PLEASE ADD YOUR CODE HERE #\n",
    "    #############################\n",
    "     # Base case  \n",
    "    if (root == None):  \n",
    "        return INT_MAX, INT_MIN\n",
    "    r= root.data \n",
    "    left_min, left_max=minMax(root.left)  \n",
    "    right_min, right_max=minMax(root.right)\n",
    "    min_val=min(r,left_min,right_min)\n",
    "    max_val=max(r,left_max,right_max)\n",
    "    return min_val, max_val\n",
    "    pass\n",
    "\n",
    "def buildLevelTree(levelorder):\n",
    "    index = 0\n",
    "    length = len(levelorder)\n",
    "    if length<=0 or levelorder[0]==-1:\n",
    "        return None\n",
    "    root = BinaryTreeNode(levelorder[index])\n",
    "    index += 1\n",
    "    q = queue.Queue()\n",
    "    q.put(root)\n",
    "    while not q.empty():\n",
    "        currentNode = q.get()\n",
    "        leftChild = levelorder[index]\n",
    "        index += 1\n",
    "        if leftChild != -1:\n",
    "            leftNode = BinaryTreeNode(leftChild)\n",
    "            currentNode.left =leftNode\n",
    "            q.put(leftNode)\n",
    "        rightChild = levelorder[index]\n",
    "        index += 1\n",
    "        if rightChild != -1:\n",
    "            rightNode = BinaryTreeNode(rightChild)\n",
    "            currentNode.right =rightNode\n",
    "            q.put(rightNode)\n",
    "    return root\n",
    "\n",
    "# Main\n",
    "levelOrder = [int(i) for i in input().strip().split()]\n",
    "root = buildLevelTree(levelOrder)\n",
    "minimum, maximum = minMax(root)\n",
    "print(maximum, minimum)\n",
    "\n"
   ]
  },
  {
   "cell_type": "code",
   "execution_count": null,
   "metadata": {},
   "outputs": [],
   "source": []
  }
 ],
 "metadata": {
  "kernelspec": {
   "display_name": "Python 3",
   "language": "python",
   "name": "python3"
  },
  "language_info": {
   "codemirror_mode": {
    "name": "ipython",
    "version": 3
   },
   "file_extension": ".py",
   "mimetype": "text/x-python",
   "name": "python",
   "nbconvert_exporter": "python",
   "pygments_lexer": "ipython3",
   "version": "3.8.2"
  }
 },
 "nbformat": 4,
 "nbformat_minor": 4
}
