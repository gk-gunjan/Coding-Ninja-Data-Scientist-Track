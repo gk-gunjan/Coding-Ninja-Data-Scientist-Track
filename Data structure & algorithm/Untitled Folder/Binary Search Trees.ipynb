{
 "cells": [
  {
   "cell_type": "code",
   "execution_count": 2,
   "metadata": {},
   "outputs": [],
   "source": [
    "import queue\n",
    "class binarytreenode:\n",
    "    def __init__(self, data):\n",
    "        self.data = data\n",
    "        self.left = None\n",
    "        self.right = None\n",
    "\n"
   ]
  },
  {
   "cell_type": "code",
   "execution_count": 3,
   "metadata": {},
   "outputs": [],
   "source": [
    "def search(root,x):\n",
    "    if root==None:\n",
    "        return False\n",
    "    if root.data==x:\n",
    "        return True\n",
    "    elif root.data>x:\n",
    "        return search(root.left,x)\n",
    "    else:\n",
    "        return search(root.right,x)\n",
    "    "
   ]
  },
  {
   "cell_type": "code",
   "execution_count": 3,
   "metadata": {},
   "outputs": [],
   "source": [
    "def printdetail(root):\n",
    "    if root==None:\n",
    "        return\n",
    "    print(root.data,end=':')\n",
    "    if root.left!=None:\n",
    "        print(\"L\",root.left.data,end=',')\n",
    "    if root.right!=None:\n",
    "        print(\"R\",root.right.data,end=',')\n",
    "    print()\n",
    "    printdetail(root.left)\n",
    "    printdetail(root.right)"
   ]
  },
  {
   "cell_type": "code",
   "execution_count": 4,
   "metadata": {},
   "outputs": [],
   "source": [
    "import queue\n",
    "def leveltreeinput():\n",
    "    q=queue.Queue()\n",
    "    print(\"Enter root\")\n",
    "    rootdata=int(input())\n",
    "    if(rootdata==-1):\n",
    "        return None\n",
    "    root=binarytreenode(rootdata)\n",
    "    q.put(root)\n",
    "    while(not(q.empty())):\n",
    "        cur=q.get()\n",
    "        print(\"enter left child of\",cur.data)\n",
    "        leftchilddata=int(input())\n",
    "        if leftchilddata!=-1:\n",
    "            leftchild=binarytreenode(leftchilddata)\n",
    "            cur.left=leftchild\n",
    "            q.put(leftchild)\n",
    "            \n",
    "        print(\"enter right child of\",cur.data)\n",
    "        rightchilddata=int(input())\n",
    "        if leftchilddata!=-1:\n",
    "            rightchild=binarytreenode(rightchilddata)\n",
    "            cur.right=rightchild\n",
    "            q.put(rightchild)\n",
    "    return root\n",
    "            "
   ]
  },
  {
   "cell_type": "code",
   "execution_count": 6,
   "metadata": {},
   "outputs": [
    {
     "name": "stdout",
     "output_type": "stream",
     "text": [
      "Enter root\n",
      "4\n",
      "enter left child of 4\n",
      "2\n",
      "enter right child of 4\n",
      "6\n",
      "enter left child of 2\n",
      "1\n",
      "enter right child of 2\n",
      "3\n",
      "enter left child of 6\n",
      "5\n",
      "enter right child of 6\n",
      "7\n",
      "enter left child of 1\n",
      "-1\n",
      "enter right child of 1\n",
      "-1\n",
      "enter left child of 3\n",
      "-1\n",
      "enter right child of 3\n",
      "-1\n",
      "enter left child of 5\n",
      "-1\n",
      "enter right child of 5\n",
      "-1\n",
      "enter left child of 7\n",
      "-1\n",
      "enter right child of 7\n",
      "-1\n",
      "4:L 2,R 6,\n",
      "2:L 1,R 3,\n",
      "1:\n",
      "3:\n",
      "6:L 5,R 7,\n",
      "5:\n",
      "7:\n"
     ]
    },
    {
     "data": {
      "text/plain": [
       "True"
      ]
     },
     "execution_count": 6,
     "metadata": {},
     "output_type": "execute_result"
    }
   ],
   "source": [
    "root=leveltreeinput()\n",
    "printdetail(root)\n",
    "search(root,5)"
   ]
  },
  {
   "cell_type": "code",
   "execution_count": 6,
   "metadata": {},
   "outputs": [],
   "source": [
    "def printbetween(root,k1,k2):\n",
    "    if root==None:\n",
    "        return\n",
    "    if root.data>k2:\n",
    "        printbetween(root.left,k1,k2)\n",
    "    elif root.data<k1:\n",
    "        printbetween(root.right,k1,k2)\n",
    "    else:\n",
    "        print(root.data)\n",
    "        printbetween(root.left,k1,k2)\n",
    "        printbetween(root.right,k1,k2)"
   ]
  },
  {
   "cell_type": "code",
   "execution_count": 8,
   "metadata": {},
   "outputs": [
    {
     "name": "stdout",
     "output_type": "stream",
     "text": [
      "Enter root\n",
      "4\n",
      "enter left child of 4\n",
      "2\n",
      "enter right child of 4\n",
      "10\n",
      "enter left child of 2\n",
      "1\n",
      "enter right child of 2\n",
      "3\n",
      "enter left child of 10\n",
      "7\n",
      "enter right child of 10\n",
      "12\n",
      "enter left child of 1\n",
      "-1\n",
      "enter right child of 1\n",
      "-1\n",
      "enter left child of 3\n",
      "-1\n",
      "enter right child of 3\n",
      "-1\n",
      "enter left child of 7\n",
      "5\n",
      "enter right child of 7\n",
      "6\n",
      "enter left child of 12\n",
      "11\n",
      "enter right child of 12\n",
      "18\n",
      "enter left child of 5\n",
      "-1\n",
      "enter right child of 5\n",
      "-1\n",
      "enter left child of 6\n",
      "-1\n",
      "enter right child of 6\n",
      "-1\n",
      "enter left child of 11\n",
      "-1\n",
      "enter right child of 11\n",
      "-1\n",
      "enter left child of 18\n",
      "-1\n",
      "enter right child of 18\n",
      "-1\n",
      "4:L 2,R 10,\n",
      "2:L 1,R 3,\n",
      "1:\n",
      "3:\n",
      "10:L 7,R 12,\n",
      "7:L 5,R 6,\n",
      "5:\n",
      "6:\n",
      "12:L 11,R 18,\n",
      "11:\n",
      "18:\n",
      "10\n",
      "7\n",
      "5\n",
      "6\n"
     ]
    }
   ],
   "source": [
    "root=leveltreeinput()\n",
    "printdetail(root)\n",
    "printbetween(root,5,10)"
   ]
  },
  {
   "cell_type": "markdown",
   "metadata": {},
   "source": [
    "## IS BST?"
   ]
  },
  {
   "cell_type": "markdown",
   "metadata": {},
   "source": [
    "### Code 1:"
   ]
  },
  {
   "cell_type": "code",
   "execution_count": 5,
   "metadata": {},
   "outputs": [],
   "source": [
    "def mintree(root):\n",
    "    if root==None:\n",
    "        return 10000\n",
    "    leftmin=mintree(root.left)\n",
    "    rightmin=mintree(root.right)\n",
    "    return min(root.data,leftmin,rightmin)"
   ]
  },
  {
   "cell_type": "code",
   "execution_count": 7,
   "metadata": {},
   "outputs": [],
   "source": [
    "def maxtree(root):\n",
    "    if root==None:\n",
    "        return -10000\n",
    "    leftmax=maxtree(root.left)\n",
    "    rightmax=maxtree(root.right)\n",
    "    return max(root.data,leftmax,rightmax)"
   ]
  },
  {
   "cell_type": "code",
   "execution_count": 10,
   "metadata": {},
   "outputs": [],
   "source": [
    "def isbst(root):\n",
    "    if root== None:\n",
    "        return True\n",
    "    \n",
    "    \n",
    "    leftmax=maxtree(root.left)\n",
    "    rightmin=mintree(root.right)\n",
    "    \n",
    "    if root.data>rightmin or root.data<=leftmax:\n",
    "        return False\n",
    "    \n",
    "    isleftbst=isbst(root.left)\n",
    "    isrightbst=isbst(root.right)\n",
    "    return isleftbst and isrightbst"
   ]
  },
  {
   "cell_type": "code",
   "execution_count": null,
   "metadata": {},
   "outputs": [],
   "source": [
    "root=leveltreeinput()\n",
    "printdetail(root)\n",
    "isbst(root)"
   ]
  },
  {
   "cell_type": "markdown",
   "metadata": {},
   "source": [
    "### Root to node path:"
   ]
  },
  {
   "cell_type": "code",
   "execution_count": 12,
   "metadata": {},
   "outputs": [],
   "source": [
    "def ntor(root,s):\n",
    "    if root==None:\n",
    "        return None\n",
    "    if root.data==s:\n",
    "        l=list()\n",
    "        l.append(root.data)\n",
    "        return l\n",
    "    leftout=ntor(root.left,s)\n",
    "    if leftout!=None:\n",
    "        leftout.append(root.data)\n",
    "        return leftout\n",
    "    rightout=ntor(root.right,s)\n",
    "    if rightout!=None:\n",
    "        rightout.append(root.data)\n",
    "        return rightout\n",
    "    else:\n",
    "        return None\n",
    "    "
   ]
  },
  {
   "cell_type": "code",
   "execution_count": 13,
   "metadata": {
    "scrolled": true
   },
   "outputs": [
    {
     "name": "stdout",
     "output_type": "stream",
     "text": [
      "Enter root\n",
      "1\n",
      "enter left child of 1\n",
      "2\n",
      "enter right child of 1\n",
      "3\n",
      "enter left child of 2\n",
      "-1\n",
      "enter right child of 2\n",
      "-1\n",
      "enter left child of 3\n",
      "4\n",
      "enter right child of 3\n",
      "6\n",
      "enter left child of 4\n",
      "-1\n",
      "enter right child of 4\n",
      "-1\n",
      "enter left child of 6\n",
      "5\n",
      "enter right child of 6\n",
      "9\n",
      "enter left child of 5\n",
      "7\n",
      "enter right child of 5\n",
      "6\n",
      "enter left child of 9\n",
      "-1\n",
      "enter right child of 9\n",
      "-1\n",
      "enter left child of 7\n",
      "-1\n",
      "enter right child of 7\n",
      "-1\n",
      "enter left child of 6\n",
      "-1\n",
      "enter right child of 6\n",
      "-1\n",
      "1:L 2,R 3,\n",
      "2:\n",
      "3:L 4,R 6,\n",
      "4:\n",
      "6:L 5,R 9,\n",
      "5:L 7,R 6,\n",
      "7:\n",
      "6:\n",
      "9:\n"
     ]
    },
    {
     "data": {
      "text/plain": [
       "[5, 6, 3, 1]"
      ]
     },
     "execution_count": 13,
     "metadata": {},
     "output_type": "execute_result"
    }
   ],
   "source": [
    "root=leveltreeinput()\n",
    "printdetail(root)\n",
    "ntor(root,5)"
   ]
  },
  {
   "cell_type": "markdown",
   "metadata": {},
   "source": [
    "## BST CLASS"
   ]
  },
  {
   "cell_type": "code",
   "execution_count": 28,
   "metadata": {},
   "outputs": [],
   "source": [
    "class bst:\n",
    "    def __init__(self):\n",
    "        self.root=None\n",
    "        self.numnodes=0\n",
    "    \n",
    "    def printtreehelper(self,root):\n",
    "        if root==None:\n",
    "            return\n",
    "        print(root.data,end=':')\n",
    "        if root.left!=None:\n",
    "            print(\"L\",root.left.data,end=',')\n",
    "        if root.right!=None:\n",
    "            print(\"R\",root.right.data,end=',')\n",
    "        print()\n",
    "        self.printtreehelper(root.left)\n",
    "        self.printtreehelper(root.right)\n",
    "    \n",
    "    def printtree(self,data):\n",
    "        self.printtreehelper(self.root)\n",
    "    \n",
    "    def ispresenthelper(self,root,data):\n",
    "        if self.root==None:\n",
    "            return False\n",
    "        if self.root.data==data:\n",
    "            return True\n",
    "        if self.root.data>data:\n",
    "            #call left\n",
    "            return self.ispresenthelper(root.left,data)\n",
    "        else:\n",
    "            #call right\n",
    "            return self.ispresenthelper(root.right,data)\n",
    "        \n",
    "    def ispresent(self,data):\n",
    "        return self.ispresenthelper(self.root,data)\n",
    "    \n",
    "    def inserthelper(self,root,data):\n",
    "        if root==None:\n",
    "            node=binarytreenode(data)\n",
    "            return node\n",
    "        if root.data>data:\n",
    "            root.left=self.inserthelper(root.left,data)\n",
    "            return root\n",
    "        else:\n",
    "            root.right=self.inserthelper(root.right,data)\n",
    "            return root\n",
    "            \n",
    "            \n",
    "    def insert(self,data):\n",
    "        self.numnodes +=1\n",
    "        self.root= self.inserthelper(self.root,data)\n",
    "        \n",
    "    def min(self,root):\n",
    "        if root==None:\n",
    "            return 10000\n",
    "        if root.left==None:\n",
    "            return root.data\n",
    "        else:\n",
    "            return self.min(root.left) #keeps going left until finds a node which does not have left child\n",
    "        \n",
    "    \n",
    "    def deletehelper(self,root,data):\n",
    "        if root==None:\n",
    "            return False,None\n",
    "        if root.data<data:\n",
    "            deleted,newright=deletehelper(root.right,data)\n",
    "            root.right=newright\n",
    "            return deleted,root\n",
    "        \n",
    "        \n",
    "        if root.data>data:\n",
    "            deleted,newleft=deletehelper(root.left,data)\n",
    "            root.left=newleft\n",
    "            return deleted,root\n",
    "        \n",
    "        if root.data==data:\n",
    "            #root is leaf\n",
    "            if root.left==None and root.right==None:\n",
    "                return True,None\n",
    "            #root has one child\n",
    "            if root.left!=None and root.right==None:\n",
    "                return True,root.right\n",
    "            \n",
    "            if root.left==None and root.right!=None:\n",
    "                return True,root.left\n",
    "            #root has two children\n",
    "            replacement=min(root.right)\n",
    "            root.data=replacement\n",
    "            deleted,newright=self.deletehelper(root.right,replacement)\n",
    "            root.right=newright\n",
    "            return True,root #root as we have changed the content of root, root is same\n",
    "        \n",
    "            \n",
    "    \n",
    "    def deletedata(self,data):\n",
    "        deleted,newroot=self.deletehelper(self,root,data) \n",
    "        if deleted:\n",
    "            self.numnodes=-1\n",
    "        self.root=newroot\n",
    "        return deleted\n",
    "    def count(self):\n",
    "        return self.numnodes"
   ]
  },
  {
   "cell_type": "code",
   "execution_count": 29,
   "metadata": {},
   "outputs": [
    {
     "name": "stdout",
     "output_type": "stream",
     "text": [
      "True\n"
     ]
    },
    {
     "ename": "AttributeError",
     "evalue": "'NoneType' object has no attribute 'left'",
     "output_type": "error",
     "traceback": [
      "\u001b[1;31m---------------------------------------------------------------------------\u001b[0m",
      "\u001b[1;31mAttributeError\u001b[0m                            Traceback (most recent call last)",
      "\u001b[1;32m<ipython-input-29-fb6040bcb495>\u001b[0m in \u001b[0;36m<module>\u001b[1;34m\u001b[0m\n\u001b[0;32m      4\u001b[0m \u001b[0mb\u001b[0m\u001b[1;33m.\u001b[0m\u001b[0minsert\u001b[0m\u001b[1;33m(\u001b[0m\u001b[1;36m12\u001b[0m\u001b[1;33m)\u001b[0m\u001b[1;33m\u001b[0m\u001b[1;33m\u001b[0m\u001b[0m\n\u001b[0;32m      5\u001b[0m \u001b[0mprint\u001b[0m\u001b[1;33m(\u001b[0m\u001b[0mb\u001b[0m\u001b[1;33m.\u001b[0m\u001b[0mispresent\u001b[0m\u001b[1;33m(\u001b[0m\u001b[1;36m10\u001b[0m\u001b[1;33m)\u001b[0m\u001b[1;33m)\u001b[0m\u001b[1;33m\u001b[0m\u001b[1;33m\u001b[0m\u001b[0m\n\u001b[1;32m----> 6\u001b[1;33m \u001b[0mprint\u001b[0m\u001b[1;33m(\u001b[0m\u001b[0mb\u001b[0m\u001b[1;33m.\u001b[0m\u001b[0mispresent\u001b[0m\u001b[1;33m(\u001b[0m\u001b[1;36m5\u001b[0m\u001b[1;33m)\u001b[0m\u001b[1;33m)\u001b[0m\u001b[1;33m\u001b[0m\u001b[1;33m\u001b[0m\u001b[0m\n\u001b[0m\u001b[0;32m      7\u001b[0m \u001b[0mprint\u001b[0m\u001b[1;33m(\u001b[0m\u001b[0mb\u001b[0m\u001b[1;33m.\u001b[0m\u001b[0mdeletedata\u001b[0m\u001b[1;33m(\u001b[0m\u001b[1;36m4\u001b[0m\u001b[1;33m)\u001b[0m\u001b[1;33m)\u001b[0m\u001b[1;33m\u001b[0m\u001b[1;33m\u001b[0m\u001b[0m\n\u001b[0;32m      8\u001b[0m \u001b[0mprint\u001b[0m\u001b[1;33m(\u001b[0m\u001b[0mb\u001b[0m\u001b[1;33m.\u001b[0m\u001b[0mcount\u001b[0m\u001b[1;33m(\u001b[0m\u001b[1;33m)\u001b[0m\u001b[1;33m)\u001b[0m\u001b[1;33m\u001b[0m\u001b[1;33m\u001b[0m\u001b[0m\n",
      "\u001b[1;32m<ipython-input-28-56af3e622436>\u001b[0m in \u001b[0;36mispresent\u001b[1;34m(self, data)\u001b[0m\n\u001b[0;32m     32\u001b[0m \u001b[1;33m\u001b[0m\u001b[0m\n\u001b[0;32m     33\u001b[0m     \u001b[1;32mdef\u001b[0m \u001b[0mispresent\u001b[0m\u001b[1;33m(\u001b[0m\u001b[0mself\u001b[0m\u001b[1;33m,\u001b[0m\u001b[0mdata\u001b[0m\u001b[1;33m)\u001b[0m\u001b[1;33m:\u001b[0m\u001b[1;33m\u001b[0m\u001b[1;33m\u001b[0m\u001b[0m\n\u001b[1;32m---> 34\u001b[1;33m         \u001b[1;32mreturn\u001b[0m \u001b[0mself\u001b[0m\u001b[1;33m.\u001b[0m\u001b[0mispresenthelper\u001b[0m\u001b[1;33m(\u001b[0m\u001b[0mself\u001b[0m\u001b[1;33m.\u001b[0m\u001b[0mroot\u001b[0m\u001b[1;33m,\u001b[0m\u001b[0mdata\u001b[0m\u001b[1;33m)\u001b[0m\u001b[1;33m\u001b[0m\u001b[1;33m\u001b[0m\u001b[0m\n\u001b[0m\u001b[0;32m     35\u001b[0m \u001b[1;33m\u001b[0m\u001b[0m\n\u001b[0;32m     36\u001b[0m     \u001b[1;32mdef\u001b[0m \u001b[0minserthelper\u001b[0m\u001b[1;33m(\u001b[0m\u001b[0mself\u001b[0m\u001b[1;33m,\u001b[0m\u001b[0mroot\u001b[0m\u001b[1;33m,\u001b[0m\u001b[0mdata\u001b[0m\u001b[1;33m)\u001b[0m\u001b[1;33m:\u001b[0m\u001b[1;33m\u001b[0m\u001b[1;33m\u001b[0m\u001b[0m\n",
      "\u001b[1;32m<ipython-input-28-56af3e622436>\u001b[0m in \u001b[0;36mispresenthelper\u001b[1;34m(self, root, data)\u001b[0m\n\u001b[0;32m     26\u001b[0m         \u001b[1;32mif\u001b[0m \u001b[0mself\u001b[0m\u001b[1;33m.\u001b[0m\u001b[0mroot\u001b[0m\u001b[1;33m.\u001b[0m\u001b[0mdata\u001b[0m\u001b[1;33m>\u001b[0m\u001b[0mdata\u001b[0m\u001b[1;33m:\u001b[0m\u001b[1;33m\u001b[0m\u001b[1;33m\u001b[0m\u001b[0m\n\u001b[0;32m     27\u001b[0m             \u001b[1;31m#call left\u001b[0m\u001b[1;33m\u001b[0m\u001b[1;33m\u001b[0m\u001b[1;33m\u001b[0m\u001b[0m\n\u001b[1;32m---> 28\u001b[1;33m             \u001b[1;32mreturn\u001b[0m \u001b[0mself\u001b[0m\u001b[1;33m.\u001b[0m\u001b[0mispresenthelper\u001b[0m\u001b[1;33m(\u001b[0m\u001b[0mroot\u001b[0m\u001b[1;33m.\u001b[0m\u001b[0mleft\u001b[0m\u001b[1;33m,\u001b[0m\u001b[0mdata\u001b[0m\u001b[1;33m)\u001b[0m\u001b[1;33m\u001b[0m\u001b[1;33m\u001b[0m\u001b[0m\n\u001b[0m\u001b[0;32m     29\u001b[0m         \u001b[1;32melse\u001b[0m\u001b[1;33m:\u001b[0m\u001b[1;33m\u001b[0m\u001b[1;33m\u001b[0m\u001b[0m\n\u001b[0;32m     30\u001b[0m             \u001b[1;31m#call right\u001b[0m\u001b[1;33m\u001b[0m\u001b[1;33m\u001b[0m\u001b[1;33m\u001b[0m\u001b[0m\n",
      "\u001b[1;32m<ipython-input-28-56af3e622436>\u001b[0m in \u001b[0;36mispresenthelper\u001b[1;34m(self, root, data)\u001b[0m\n\u001b[0;32m     26\u001b[0m         \u001b[1;32mif\u001b[0m \u001b[0mself\u001b[0m\u001b[1;33m.\u001b[0m\u001b[0mroot\u001b[0m\u001b[1;33m.\u001b[0m\u001b[0mdata\u001b[0m\u001b[1;33m>\u001b[0m\u001b[0mdata\u001b[0m\u001b[1;33m:\u001b[0m\u001b[1;33m\u001b[0m\u001b[1;33m\u001b[0m\u001b[0m\n\u001b[0;32m     27\u001b[0m             \u001b[1;31m#call left\u001b[0m\u001b[1;33m\u001b[0m\u001b[1;33m\u001b[0m\u001b[1;33m\u001b[0m\u001b[0m\n\u001b[1;32m---> 28\u001b[1;33m             \u001b[1;32mreturn\u001b[0m \u001b[0mself\u001b[0m\u001b[1;33m.\u001b[0m\u001b[0mispresenthelper\u001b[0m\u001b[1;33m(\u001b[0m\u001b[0mroot\u001b[0m\u001b[1;33m.\u001b[0m\u001b[0mleft\u001b[0m\u001b[1;33m,\u001b[0m\u001b[0mdata\u001b[0m\u001b[1;33m)\u001b[0m\u001b[1;33m\u001b[0m\u001b[1;33m\u001b[0m\u001b[0m\n\u001b[0m\u001b[0;32m     29\u001b[0m         \u001b[1;32melse\u001b[0m\u001b[1;33m:\u001b[0m\u001b[1;33m\u001b[0m\u001b[1;33m\u001b[0m\u001b[0m\n\u001b[0;32m     30\u001b[0m             \u001b[1;31m#call right\u001b[0m\u001b[1;33m\u001b[0m\u001b[1;33m\u001b[0m\u001b[1;33m\u001b[0m\u001b[0m\n",
      "\u001b[1;32m<ipython-input-28-56af3e622436>\u001b[0m in \u001b[0;36mispresenthelper\u001b[1;34m(self, root, data)\u001b[0m\n\u001b[0;32m     26\u001b[0m         \u001b[1;32mif\u001b[0m \u001b[0mself\u001b[0m\u001b[1;33m.\u001b[0m\u001b[0mroot\u001b[0m\u001b[1;33m.\u001b[0m\u001b[0mdata\u001b[0m\u001b[1;33m>\u001b[0m\u001b[0mdata\u001b[0m\u001b[1;33m:\u001b[0m\u001b[1;33m\u001b[0m\u001b[1;33m\u001b[0m\u001b[0m\n\u001b[0;32m     27\u001b[0m             \u001b[1;31m#call left\u001b[0m\u001b[1;33m\u001b[0m\u001b[1;33m\u001b[0m\u001b[1;33m\u001b[0m\u001b[0m\n\u001b[1;32m---> 28\u001b[1;33m             \u001b[1;32mreturn\u001b[0m \u001b[0mself\u001b[0m\u001b[1;33m.\u001b[0m\u001b[0mispresenthelper\u001b[0m\u001b[1;33m(\u001b[0m\u001b[0mroot\u001b[0m\u001b[1;33m.\u001b[0m\u001b[0mleft\u001b[0m\u001b[1;33m,\u001b[0m\u001b[0mdata\u001b[0m\u001b[1;33m)\u001b[0m\u001b[1;33m\u001b[0m\u001b[1;33m\u001b[0m\u001b[0m\n\u001b[0m\u001b[0;32m     29\u001b[0m         \u001b[1;32melse\u001b[0m\u001b[1;33m:\u001b[0m\u001b[1;33m\u001b[0m\u001b[1;33m\u001b[0m\u001b[0m\n\u001b[0;32m     30\u001b[0m             \u001b[1;31m#call right\u001b[0m\u001b[1;33m\u001b[0m\u001b[1;33m\u001b[0m\u001b[1;33m\u001b[0m\u001b[0m\n",
      "\u001b[1;31mAttributeError\u001b[0m: 'NoneType' object has no attribute 'left'"
     ]
    }
   ],
   "source": [
    "b=bst()\n",
    "b.insert(10)\n",
    "b.insert(5)\n",
    "b.insert(12)\n",
    "print(b.ispresent(10))\n",
    "print(b.ispresent(5))\n",
    "print(b.deletedata(4))\n",
    "print(b.count())\n",
    "b.printtree()"
   ]
  }
 ],
 "metadata": {
  "kernelspec": {
   "display_name": "Python 3",
   "language": "python",
   "name": "python3"
  },
  "language_info": {
   "codemirror_mode": {
    "name": "ipython",
    "version": 3
   },
   "file_extension": ".py",
   "mimetype": "text/x-python",
   "name": "python",
   "nbconvert_exporter": "python",
   "pygments_lexer": "ipython3",
   "version": "3.8.2"
  }
 },
 "nbformat": 4,
 "nbformat_minor": 4
}
