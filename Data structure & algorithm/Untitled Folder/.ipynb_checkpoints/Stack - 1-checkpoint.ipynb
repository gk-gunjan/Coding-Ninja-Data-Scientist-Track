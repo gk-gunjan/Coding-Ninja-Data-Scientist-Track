{
 "cells": [
  {
   "cell_type": "markdown",
   "metadata": {},
   "source": [
    "# Stack"
   ]
  },
  {
   "cell_type": "markdown",
   "metadata": {},
   "source": [
    "## Using Array:"
   ]
  },
  {
   "cell_type": "code",
   "execution_count": 6,
   "metadata": {
    "scrolled": true
   },
   "outputs": [
    {
     "name": "stdout",
     "output_type": "stream",
     "text": [
      "45\n",
      "2\n",
      "12\n",
      "stack is empty\n"
     ]
    }
   ],
   "source": [
    "class stack:\n",
    "    def __init__(self): #constructor\n",
    "        self.__data=[] #array name is data\n",
    "        \n",
    "    def push(self,item):\n",
    "        self.__data.append(item)\n",
    "    def pop(self):\n",
    "        if self.isempty():\n",
    "            print(\"stack is empty\")\n",
    "            return\n",
    "        return self.__data.pop()\n",
    "        \n",
    "    def top(self):\n",
    "        if self.isempty():\n",
    "            print(\"stack is empty\")\n",
    "            return\n",
    "        return self.__data[len(self.__data)-1]\n",
    "    \n",
    "        \n",
    "    def size(self):\n",
    "        return len(self.__data)\n",
    "    \n",
    "    def isempty(self):\n",
    "        return self.size() == 0\n",
    " \n",
    "#from stackusingarray import stack\n",
    "s=stack()\n",
    "s.push(12)\n",
    "s.push(2)\n",
    "s.push(45)\n",
    "\n",
    "while s.isempty() is False:\n",
    "    print(s.pop())\n",
    "    \n",
    "s.top()"
   ]
  },
  {
   "cell_type": "markdown",
   "metadata": {},
   "source": [
    "## Using Linked List:"
   ]
  },
  {
   "cell_type": "code",
   "execution_count": null,
   "metadata": {},
   "outputs": [],
   "source": [
    "# Own\n",
    "class Node:\n",
    "    def __init__(self,data):\n",
    "        self.data = data\n",
    "        self.next = None\n",
    "        \n",
    "class StackUsingLL:\n",
    "    \t\n",
    "    ### Implement all these functions here\n",
    "    \n",
    "    def __init__(self):\n",
    "        self.__head = None\n",
    "        self.__size = 0\n",
    "\n",
    "    def push(self,data):\n",
    "        n = Node(data)\n",
    "        if self.__head==None:\n",
    "            self.__head=n\n",
    "            self.__size= self.__size + 1\n",
    "            return\n",
    "        n.next= self.__head\n",
    "        self.__head= n\n",
    "        self.__size= self.__size + 1\n",
    "\n",
    "        \n",
    "    def pop(self):\n",
    "        if self.isEmpty()==True:\n",
    "                return 0\n",
    "        data=self.__head.data    \n",
    "        self.__head=self.__head.next\n",
    "        self.__size=self.__size - 1\n",
    "        return data\n",
    "    # Return 0 if stack is empty. Don't display any other message\n",
    "    def top(self):\n",
    "        if self.__size == 0:\n",
    "                return 0\n",
    "        return self.__head.data\n",
    "    # Return 0 if stack is empty. Don't display any other message\n",
    "    def isEmpty(self):\n",
    "        return self.__size == 0\n",
    "        \n",
    "    def getSize(self):\n",
    "        return self.__size\n",
    "        \n",
    "    \n",
    "s = StackUsingLL()\n",
    "li = [int(ele) for ele in input().split()]\n",
    "i=0\n",
    "while i<len(li):\n",
    "    choice = li[i]\n",
    "    if choice == -1:\n",
    "        break\n",
    "    elif choice == 1:\n",
    "        s.push(li[i+1])\n",
    "        i+=1\n",
    "    elif choice == 2:\n",
    "        ans = s.pop()\n",
    "        if ans!=0:\n",
    "            print(ans)\n",
    "        else:\n",
    "            print(-1)\n",
    "    elif choice == 3:\n",
    "        ans = s.top()\n",
    "        if ans!=0:\n",
    "            print(ans)\n",
    "        else:\n",
    "            print(-1)\n",
    "    elif choice == 4:\n",
    "        print(s.getSize())\n",
    "    elif choice == 5:\n",
    "        if(s.isEmpty()):\n",
    "            print('true')\n",
    "        else:\n",
    "            print('false')\n",
    "    i+=1\n",
    "  "
   ]
  },
  {
   "cell_type": "code",
   "execution_count": 23,
   "metadata": {
    "scrolled": true
   },
   "outputs": [
    {
     "name": "stdout",
     "output_type": "stream",
     "text": [
      "2\n",
      "93\n",
      "45\n",
      "13\n",
      "stack empty\n"
     ]
    }
   ],
   "source": [
    "class Node:\n",
    "    def __init__(self,data):\n",
    "        self.data=data\n",
    "        self.next=None\n",
    "    \n",
    "\n",
    "class stack:\n",
    "    def __init__(self):\n",
    "        \n",
    "        self.__head=None\n",
    "        self.__count=0\n",
    "        \n",
    "    def push(self,item):\n",
    "        n=Node(item)\n",
    "        n.next= self.__head\n",
    "        self.__head= n\n",
    "        self.__count= self.__count + 1\n",
    "\n",
    "        \n",
    "    def pop(self):\n",
    "        if self.isempty() == True:\n",
    "                print(\"stack empty\")\n",
    "                return\n",
    "        data=self.__head.data    \n",
    "        self.__head=self.__head.next\n",
    "        self.__count=self.__count - 1\n",
    "        return data\n",
    "    def top(self):\n",
    "        if self.isempty() == True:\n",
    "                print(\"stack empty\")\n",
    "                return\n",
    "        return self.__head.data\n",
    "        \n",
    "        \n",
    "    def size(self):\n",
    "        return self.__count\n",
    "        \n",
    "        \n",
    "    def isempty(self):\n",
    "        return self.__count == 0\n",
    "        \n",
    "     \n",
    "s=stack()\n",
    "s.push(13)\n",
    "s.push(45)\n",
    "s.push(93)\n",
    "s.push(2)\n",
    "\n",
    "while s.isempty()== False:\n",
    "    print(s.pop())\n",
    "    \n",
    "s.top()"
   ]
  },
  {
   "cell_type": "markdown",
   "metadata": {},
   "source": [
    "## Inbuilt stacks and queues"
   ]
  },
  {
   "cell_type": "code",
   "execution_count": 40,
   "metadata": {},
   "outputs": [
    {
     "name": "stdout",
     "output_type": "stream",
     "text": [
      "1\n",
      "8\n",
      "45\n"
     ]
    }
   ],
   "source": [
    "#QUEUE\n",
    "import queue\n",
    "\n",
    "q=queue.Queue()\n",
    "q.put(1)\n",
    "q.put(8)\n",
    "q.put(45)\n",
    "\n",
    "while not q.empty():\n",
    "    print(q.get())\n"
   ]
  },
  {
   "cell_type": "code",
   "execution_count": 39,
   "metadata": {},
   "outputs": [
    {
     "name": "stdout",
     "output_type": "stream",
     "text": [
      "45\n",
      "8\n",
      "1\n"
     ]
    }
   ],
   "source": [
    "#STACK\n",
    "import queue\n",
    "\n",
    "q=queue.LifoQueue()\n",
    "q.put(1)\n",
    "q.put(8)\n",
    "q.put(45)\n",
    "\n",
    "while not q.empty():\n",
    "    print(q.get())"
   ]
  },
  {
   "cell_type": "markdown",
   "metadata": {},
   "source": [
    "## Balanced Paranthesis"
   ]
  },
  {
   "cell_type": "code",
   "execution_count": 26,
   "metadata": {},
   "outputs": [
    {
     "name": "stdout",
     "output_type": "stream",
     "text": [
      "((a+b}}\n",
      "False\n"
     ]
    }
   ],
   "source": [
    "def isbal(str):\n",
    "    s=[]\n",
    "    for char in str:\n",
    "        if char in '({[':\n",
    "                s.append(char)\n",
    "        elif char == ')':\n",
    "            if(not s or s[-1]!='('):\n",
    "                return False\n",
    "            s.pop()\n",
    "        elif char == ']':\n",
    "            if(not s or s[-1]!='['):\n",
    "                return False\n",
    "            s.pop()\n",
    "        elif char == '}':\n",
    "            if(not s or s[-1]!='{'):\n",
    "                return False\n",
    "            s.pop()\n",
    "    if (not s):\n",
    "        return True\n",
    "    return False\n",
    "        \n",
    "str=input()\n",
    "ans=isbal(str)\n",
    "print(ans)"
   ]
  },
  {
   "cell_type": "markdown",
   "metadata": {},
   "source": [
    "# Redundant brackets"
   ]
  },
  {
   "cell_type": "code",
   "execution_count": null,
   "metadata": {},
   "outputs": [],
   "source": [
    "def checkRedundant(str):\n",
    "    s=[]\n",
    "    for i in string:\n",
    "        if i!=')':\n",
    "            s.append(i)\n",
    "        else:\n",
    "            count=0\n",
    "            while s[-1]!='(':\n",
    "                count=count+1\n",
    "                s.pop()\n",
    "            s.pop()\n",
    "            if count==0:\n",
    "                return True\n",
    "    return False\n",
    "            \n",
    "        \t\n",
    "            \n",
    "#### Implement Your Code Here\n",
    "    \n",
    "\n",
    "string = input()\n",
    "ans = checkRedundant(string)\n",
    "if ans is True:\n",
    "    print('true')\n",
    "else:\n",
    "    print('false')"
   ]
  }
 ],
 "metadata": {
  "kernelspec": {
   "display_name": "Python 3",
   "language": "python",
   "name": "python3"
  },
  "language_info": {
   "codemirror_mode": {
    "name": "ipython",
    "version": 3
   },
   "file_extension": ".py",
   "mimetype": "text/x-python",
   "name": "python",
   "nbconvert_exporter": "python",
   "pygments_lexer": "ipython3",
   "version": "3.8.2"
  }
 },
 "nbformat": 4,
 "nbformat_minor": 4
}
