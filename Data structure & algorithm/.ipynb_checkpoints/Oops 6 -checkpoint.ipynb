{
 "cells": [
  {
   "cell_type": "markdown",
   "metadata": {},
   "source": [
    "# Polymorphism"
   ]
  },
  {
   "cell_type": "code",
   "execution_count": 1,
   "metadata": {
    "scrolled": true
   },
   "outputs": [
    {
     "name": "stdout",
     "output_type": "stream",
     "text": [
      "Color : red\n",
      "MaxSpeed : 18\n",
      "\n",
      "15\n"
     ]
    }
   ],
   "source": [
    "class Vehicle:\n",
    "\n",
    "\tdef __init__(self,color,maxSpeed):\n",
    "\t\tself.color = color\n",
    "\t\tself._maxSpeed = maxSpeed\n",
    "\n",
    "\t@classmethod\n",
    "\tdef getMaxSpeed(cls):\n",
    "\t\treturn 15\n",
    "\n",
    "\tdef setMaxSpeed(self,maxSpeed):\n",
    "\t\tself._maxSpeed = maxSpeed\n",
    "\n",
    "\tdef print(self):\n",
    "\t\tprint(\"Color :\" ,self.color)\n",
    "\t\tprint(\"MaxSpeed :\",self._maxSpeed)\n",
    "\n",
    "class Car(Vehicle):\n",
    "\n",
    "\tdef __init__(self,color,maxSpeed,numGears,isConvertible):\n",
    "\n",
    "\t\tsuper().__init__(color,maxSpeed)\n",
    "\t\tself.numGears = numGears\n",
    "\t\tself.isConvertible = isConvertible\n",
    "\n",
    "\tdef print(self):\n",
    "\t\t# super().print()\n",
    "        #self.print will cause recursion \n",
    "\t\tprint(\"Color :\" ,self.color)\n",
    "\t\tprint(\"MaxSpeed :\",self._maxSpeed)\n",
    "\t\tprint(\"NumGears :\",self.numGears)\n",
    "\t\tprint(\"IsConvertible :\", self.isConvertible)\n",
    "\n",
    "\n",
    "# c = Car(\"red\",15,3,False)\n",
    "# c.print()\n",
    "#print()\n",
    "v = Vehicle(\"red\",18)\n",
    "v.print()\n",
    "print()\n",
    "v._maxSpeed = 19\n",
    "get = v.getMaxSpeed()\n",
    "print(get)"
   ]
  },
  {
   "cell_type": "code",
   "execution_count": 2,
   "metadata": {
    "scrolled": true
   },
   "outputs": [
    {
     "ename": "RecursionError",
     "evalue": "maximum recursion depth exceeded",
     "output_type": "error",
     "traceback": [
      "\u001b[1;31m---------------------------------------------------------------------------\u001b[0m",
      "\u001b[1;31mRecursionError\u001b[0m                            Traceback (most recent call last)",
      "\u001b[1;32m<ipython-input-2-7472f54ff151>\u001b[0m in \u001b[0;36m<module>\u001b[1;34m\u001b[0m\n\u001b[0;32m     12\u001b[0m         \u001b[0mprint\u001b[0m\u001b[1;33m(\u001b[0m\u001b[0mc\u001b[0m\u001b[1;33m.\u001b[0m\u001b[0mnumGears\u001b[0m\u001b[1;33m)\u001b[0m\u001b[1;33m\u001b[0m\u001b[1;33m\u001b[0m\u001b[0m\n\u001b[0;32m     13\u001b[0m \u001b[0mc\u001b[0m \u001b[1;33m=\u001b[0m \u001b[0mCar\u001b[0m\u001b[1;33m(\u001b[0m\u001b[1;34m'black'\u001b[0m\u001b[1;33m,\u001b[0m\u001b[1;36m5\u001b[0m\u001b[1;33m)\u001b[0m\u001b[1;33m\u001b[0m\u001b[1;33m\u001b[0m\u001b[0m\n\u001b[1;32m---> 14\u001b[1;33m \u001b[0mc\u001b[0m\u001b[1;33m.\u001b[0m\u001b[0mprint\u001b[0m\u001b[1;33m(\u001b[0m\u001b[1;33m)\u001b[0m\u001b[1;33m\u001b[0m\u001b[1;33m\u001b[0m\u001b[0m\n\u001b[0m",
      "\u001b[1;32m<ipython-input-2-7472f54ff151>\u001b[0m in \u001b[0;36mprint\u001b[1;34m(self)\u001b[0m\n\u001b[0;32m      9\u001b[0m         \u001b[0mself\u001b[0m\u001b[1;33m.\u001b[0m\u001b[0mnumGears\u001b[0m \u001b[1;33m=\u001b[0m \u001b[0mnumGears\u001b[0m\u001b[1;33m\u001b[0m\u001b[1;33m\u001b[0m\u001b[0m\n\u001b[0;32m     10\u001b[0m     \u001b[1;32mdef\u001b[0m \u001b[0mprint\u001b[0m\u001b[1;33m(\u001b[0m\u001b[0mself\u001b[0m\u001b[1;33m)\u001b[0m\u001b[1;33m:\u001b[0m\u001b[1;33m\u001b[0m\u001b[1;33m\u001b[0m\u001b[0m\n\u001b[1;32m---> 11\u001b[1;33m         \u001b[0mself\u001b[0m\u001b[1;33m.\u001b[0m\u001b[0mprint\u001b[0m\u001b[1;33m(\u001b[0m\u001b[1;33m)\u001b[0m\u001b[1;33m\u001b[0m\u001b[1;33m\u001b[0m\u001b[0m\n\u001b[0m\u001b[0;32m     12\u001b[0m         \u001b[0mprint\u001b[0m\u001b[1;33m(\u001b[0m\u001b[0mc\u001b[0m\u001b[1;33m.\u001b[0m\u001b[0mnumGears\u001b[0m\u001b[1;33m)\u001b[0m\u001b[1;33m\u001b[0m\u001b[1;33m\u001b[0m\u001b[0m\n\u001b[0;32m     13\u001b[0m \u001b[0mc\u001b[0m \u001b[1;33m=\u001b[0m \u001b[0mCar\u001b[0m\u001b[1;33m(\u001b[0m\u001b[1;34m'black'\u001b[0m\u001b[1;33m,\u001b[0m\u001b[1;36m5\u001b[0m\u001b[1;33m)\u001b[0m\u001b[1;33m\u001b[0m\u001b[1;33m\u001b[0m\u001b[0m\n",
      "... last 1 frames repeated, from the frame below ...\n",
      "\u001b[1;32m<ipython-input-2-7472f54ff151>\u001b[0m in \u001b[0;36mprint\u001b[1;34m(self)\u001b[0m\n\u001b[0;32m      9\u001b[0m         \u001b[0mself\u001b[0m\u001b[1;33m.\u001b[0m\u001b[0mnumGears\u001b[0m \u001b[1;33m=\u001b[0m \u001b[0mnumGears\u001b[0m\u001b[1;33m\u001b[0m\u001b[1;33m\u001b[0m\u001b[0m\n\u001b[0;32m     10\u001b[0m     \u001b[1;32mdef\u001b[0m \u001b[0mprint\u001b[0m\u001b[1;33m(\u001b[0m\u001b[0mself\u001b[0m\u001b[1;33m)\u001b[0m\u001b[1;33m:\u001b[0m\u001b[1;33m\u001b[0m\u001b[1;33m\u001b[0m\u001b[0m\n\u001b[1;32m---> 11\u001b[1;33m         \u001b[0mself\u001b[0m\u001b[1;33m.\u001b[0m\u001b[0mprint\u001b[0m\u001b[1;33m(\u001b[0m\u001b[1;33m)\u001b[0m\u001b[1;33m\u001b[0m\u001b[1;33m\u001b[0m\u001b[0m\n\u001b[0m\u001b[0;32m     12\u001b[0m         \u001b[0mprint\u001b[0m\u001b[1;33m(\u001b[0m\u001b[0mc\u001b[0m\u001b[1;33m.\u001b[0m\u001b[0mnumGears\u001b[0m\u001b[1;33m)\u001b[0m\u001b[1;33m\u001b[0m\u001b[1;33m\u001b[0m\u001b[0m\n\u001b[0;32m     13\u001b[0m \u001b[0mc\u001b[0m \u001b[1;33m=\u001b[0m \u001b[0mCar\u001b[0m\u001b[1;33m(\u001b[0m\u001b[1;34m'black'\u001b[0m\u001b[1;33m,\u001b[0m\u001b[1;36m5\u001b[0m\u001b[1;33m)\u001b[0m\u001b[1;33m\u001b[0m\u001b[1;33m\u001b[0m\u001b[0m\n",
      "\u001b[1;31mRecursionError\u001b[0m: maximum recursion depth exceeded"
     ]
    }
   ],
   "source": [
    "class Vehicle:\n",
    "    def __init__(self,color):\n",
    "        self.color = color\n",
    "    def print(self):\n",
    "        print(c.color,end='')\n",
    "class Car(Vehicle):\n",
    "    def __init__(self,color,numGears):\n",
    "        super().__init__(color)\n",
    "        self.numGears = numGears\n",
    "    def print(self):\n",
    "        self.print()\n",
    "        print(c.numGears)\n",
    "c = Car('black',5)\n",
    "c.print()\n",
    "#RECURSION ERROR"
   ]
  },
  {
   "cell_type": "markdown",
   "metadata": {},
   "source": [
    "# Protected Members\n",
    "In python protected members are just like public members and declared by _ .\n",
    "It should be used in concept of subclasses i.e inheritance."
   ]
  },
  {
   "cell_type": "code",
   "execution_count": null,
   "metadata": {},
   "outputs": [],
   "source": [
    "class Vehicle:\n",
    "\n",
    "\tdef __init__(self,color,maxSpeed):\n",
    "\t\tself.color = color\n",
    "\t\tself._maxSpeed = maxSpeed\n",
    "\n",
    "\t@classmethod\n",
    "\tdef getMaxSpeed(cls):\n",
    "\t\treturn 15\n",
    "\n",
    "\tdef setMaxSpeed(self,maxSpeed):\n",
    "\t\tself._maxSpeed = maxSpeed\n",
    "\n",
    "\tdef print(self):\n",
    "\t\tprint(\"Color :\" ,self.color)\n",
    "\t\tprint(\"MaxSpeed :\",self._maxSpeed)\n",
    "\n",
    "class Car(Vehicle):\n",
    "\n",
    "\tdef __init__(self,color,maxSpeed,numGears,isConvertible):\n",
    "\n",
    "\t\tsuper().__init__(color,maxSpeed)\n",
    "\t\tself.numGears = numGears\n",
    "\t\tself.isConvertible = isConvertible\n",
    "\n",
    "\tdef print(self):\n",
    "\t\t# super().print()\n",
    "\t\tprint(\"Color :\" ,self.color)\n",
    "\t\tprint(\"MaxSpeed :\",self._maxSpeed)\n",
    "\t\tprint(\"NumGears :\",self.numGears)\n",
    "\t\tprint(\"IsConvertible :\", self.isConvertible)\n",
    "\n",
    "\n",
    "# c = Car(\"red\",15,3,False)\n",
    "# c.print()\n",
    "#print()\n",
    "v = Vehicle(\"red\",18)\n",
    "v.print()\n",
    "print()\n",
    "v._maxSpeed = 19\n",
    "get = v.getMaxSpeed()\n",
    "print(get)"
   ]
  },
  {
   "cell_type": "markdown",
   "metadata": {},
   "source": [
    "## Object class\n"
   ]
  },
  {
   "cell_type": "code",
   "execution_count": 8,
   "metadata": {},
   "outputs": [
    {
     "name": "stdout",
     "output_type": "stream",
     "text": [
      "<__main__.circle object at 0x058EAB50>\n"
     ]
    }
   ],
   "source": [
    "class circle(object):\n",
    "    def __init__(self,rad):\n",
    "        self._rad=rad\n",
    "        \n",
    "c=circle(3)\n",
    "print(c)"
   ]
  },
  {
   "cell_type": "code",
   "execution_count": 9,
   "metadata": {},
   "outputs": [
    {
     "name": "stdout",
     "output_type": "stream",
     "text": [
      "this is a circle class which takes radius as arg\n"
     ]
    }
   ],
   "source": [
    "class circle(object):\n",
    "    def __init__(self,rad):\n",
    "        self._rad=rad\n",
    "    \n",
    "    def __str__(self):  #to grt description about class\n",
    "        return \"this is a circle class which takes radius as arg\"\n",
    "c=circle(3)\n",
    "print(c)"
   ]
  },
  {
   "cell_type": "markdown",
   "metadata": {},
   "source": [
    "# Multiple Inheritance"
   ]
  },
  {
   "cell_type": "code",
   "execution_count": 11,
   "metadata": {},
   "outputs": [
    {
     "name": "stdout",
     "output_type": "stream",
     "text": [
      "mommmm\n"
     ]
    }
   ],
   "source": [
    "class mom:\n",
    "    def print(self):\n",
    "        print(\"mommmm\")\n",
    "class dad:\n",
    "    def print(self):\n",
    "        print(\"dadddd\")\n",
    "class child(mom,dad):\n",
    "    def __init__(self,name):\n",
    "        self.name=name\n",
    "    def printchild(self):\n",
    "        print(\"name of child is \", self.name)\n",
    "        \n",
    "c=child(\"rohan\")\n",
    "c.print()  #depends of order of class child(\"1st,2nd\")"
   ]
  },
  {
   "cell_type": "code",
   "execution_count": 15,
   "metadata": {},
   "outputs": [
    {
     "name": "stdout",
     "output_type": "stream",
     "text": [
      "Name of child is Ajay\n"
     ]
    }
   ],
   "source": [
    "\n",
    "class Mother:\n",
    "\n",
    "\tdef __init__(self):\n",
    "\t\tself.name = \"Manju\"\n",
    "\n",
    "\tdef print(self):\n",
    "\n",
    "\t\tprint(\"Print Of Mother called\")\n",
    "\n",
    "class Father:\n",
    "\n",
    "\tdef __init__(self):\n",
    "        self.name = \"Ajay\"\n",
    "\tdef print(self):\n",
    "\n",
    "\t\tprint(\"Print Of Father called\")\n",
    "\n",
    "class Child(Father,Mother):\n",
    "\n",
    "\tdef __init__(self):\n",
    "\t\tsuper().__init__()\n",
    "\n",
    "\tdef printchild(self):\n",
    "\t\tprint(\"Name of child is\", self.name)\n",
    "\n",
    "c = Child()\n",
    "c.printchild()  #depends on order of base classes\n",
    "#print(Child.mro())"
   ]
  },
  {
   "cell_type": "markdown",
   "metadata": {},
   "source": [
    "# Mor"
   ]
  },
  {
   "cell_type": "code",
   "execution_count": 16,
   "metadata": {},
   "outputs": [
    {
     "name": "stdout",
     "output_type": "stream",
     "text": [
      "Name of child is Ajay\n",
      "[<class '__main__.Child'>, <class '__main__.Mother'>, <class '__main__.Father'>, <class 'object'>]\n"
     ]
    }
   ],
   "source": [
    "\n",
    "class Mother:\n",
    "\n",
    "\tdef __init__(self):\n",
    "\t\tself.name = \"Manju\"\n",
    "\t\tsuper().__init__()\n",
    "\n",
    "\tdef print(self):\n",
    "\n",
    "\t\tprint(\"Print Of Mother called\")\n",
    "\n",
    "class Father:\n",
    "\n",
    "\tdef __init__(self):\n",
    "\t\tself.name = \"Ajay\"\n",
    "\t\tsuper().__init__()\n",
    "\tdef print(self):\n",
    "\n",
    "\t\tprint(\"Print Of Father called\")\n",
    "\n",
    "class Child(Mother,Father):\n",
    "\n",
    "\tdef __init__(self):\n",
    "\t\tsuper().__init__()\n",
    "\n",
    "\tdef print(self):\n",
    "\t\tprint(\"Name of child is\", self.name)\n",
    "\n",
    "c = Child()\n",
    "c.print()\n",
    "print(Child.mro())"
   ]
  }
 ],
 "metadata": {
  "kernelspec": {
   "display_name": "Python 3",
   "language": "python",
   "name": "python3"
  },
  "language_info": {
   "codemirror_mode": {
    "name": "ipython",
    "version": 3
   },
   "file_extension": ".py",
   "mimetype": "text/x-python",
   "name": "python",
   "nbconvert_exporter": "python",
   "pygments_lexer": "ipython3",
   "version": "3.8.2"
  }
 },
 "nbformat": 4,
 "nbformat_minor": 4
}
